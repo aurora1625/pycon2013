{
 "metadata": {
  "name": "pycon"
 },
 "nbformat": 3,
 "nbformat_minor": 0,
 "worksheets": [
  {
   "cells": [
    {
     "cell_type": "markdown",
     "metadata": {},
     "source": [
      "# A Beginners Introduction to Pydata: How to Build a Minimal Recommendation System"
     ]
    },
    {
     "cell_type": "markdown",
     "metadata": {},
     "source": [
      "## The recommendation problem\n",
      "\n",
      "### Definitions from the literature\n",
      "\n",
      "*In a typical recommender system people provide recommendations as inputs, which\n",
      "the system then aggregates and directs to appropriate recipients.* -- Resnick\n",
      "and Varian, 1997\n",
      "\n",
      "*Collaborative filtering simply means that people collaborate to help one\n",
      "another perform filtering by recording their reactions to documents they read.*\n",
      "-- Goldberg et al, 1992\n",
      "\n",
      "*In its most common formulation, the recommendation problem is reduced to the\n",
      "problem of estimating ratings for the items that have not been seen by a\n",
      "user. Intuitively, this estimation is usually based on the ratings given by this\n",
      "user to other items and on some other information [...] Once we can estimate\n",
      "ratings for the yet unrated items, we can recommend to the user the item(s) with\n",
      "the highest estimated rating(s).* -- Adomavicius and Tuzhilin, 2005\n"
     ]
    },
    {
     "cell_type": "markdown",
     "metadata": {},
     "source": [
      "### Notation\n",
      "\n",
      "- $U$ is the set of users in our domain. Its size is $|U|$.\n",
      "- $I$ is the set of items in our domain. Its size is $|I|$.\n",
      "- $I(u)$ is the set of items that user $u$ has rated/purchased.\n",
      "- $-I(u)$ is the complement of $I(u)$ i.e., the set of items not yet seen by user $u$.\n",
      "- $U(i)$ is the set of users that have rated/purchased item $i$.\n",
      "- $-U(i)$ is the complement of $U(i)$."
     ]
    },
    {
     "cell_type": "markdown",
     "metadata": {},
     "source": [
      "### Goal of a recommendation system\n",
      "\n",
      "$$ \\forall{u \\in U},\\; i^* = argmax_{i \\in -I(u)} [S(u,i)] $$"
     ]
    },
    {
     "cell_type": "markdown",
     "metadata": {},
     "source": [
      "### Problem statement\n",
      "\n",
      "The recommendation problem in its most basic form is quite simple to define:\n",
      "\n",
      "```\n",
      "|---+---+---+---+---|\n",
      "| ? | ? | 4 | ? | 1 |\n",
      "|---+---+---+---+---|\n",
      "| 3 | ? | ? | 2 | 2 |\n",
      "|---+---+---+---+---|\n",
      "| 3 | ? | ? | ? | ? |\n",
      "|---+---+---+---+---|\n",
      "| ? | 1 | 2 | 1 | 1 |\n",
      "|---+---+---+---+---|\n",
      "| ? | ? | ? | ? | ? |\n",
      "|---+---+---+---+---|\n",
      "| 2 | ? | 2 | ? | ? |\n",
      "|---+---+---+---+---|\n",
      "| ? | ? | ? | ? | ? |\n",
      "|---+---+---+---+---|\n",
      "| 3 | 1 | 5 | ? | ? |\n",
      "|---+---+---+---+---|\n",
      "| ? | ? | ? | ? | 2 |\n",
      "|---+---+---+---+---|\n",
      "```\n",
      "\n",
      "*Given a partially filled matrix of ratings ($|U|x|I|$), estimate the missing values.*\n"
     ]
    },
    {
     "cell_type": "markdown",
     "metadata": {},
     "source": [
      "### Content-based filtering\n",
      "\n",
      "Generic expression (notice how this is kind of a 'row-based' approach):\n",
      "\n",
      "$$ r_{u,i} = aggr_{i' \\in I(u)} [r_{u,i'}] $$\n"
     ]
    },
    {
     "cell_type": "markdown",
     "metadata": {},
     "source": [
      "#### Simple ratings-based recommendations\n",
      "\n",
      "$$ r_{u,i} = \\bar r_u = \\frac{\\sum_{i \\in I(u)} r_{u,i}}{|I(u)|} $$\n"
     ]
    },
    {
     "cell_type": "markdown",
     "metadata": {},
     "source": [
      "#### Generalizations of the aggregation function\n",
      "\n",
      "$$ r_{u,i} = k \\sum_{i' \\in I(u)} sim(i, i') \\; r_{u,i'} $$\n",
      "\n",
      "$$ r_{u,i} = \\bar r_u + k \\sum_{i' \\in I(u)} sim(i, i') \\; (r_{u,i'} - \\bar r_u) $$\n",
      "\n",
      "Here $k$ is a normalizing factor,\n",
      "\n",
      "$$ k = \\frac{1}{\\sum_{i' \\in I(u)} |sim(i,i')|} $$\n",
      "\n",
      "and $\\bar r_u$ is the average rating of user u:\n",
      "\n",
      "$$ \\bar r_u = \\frac{\\sum_{i \\in I(u)} r_{u,i}}{|I(u)|} $$\n"
     ]
    },
    {
     "cell_type": "markdown",
     "metadata": {},
     "source": [
      "### Collaborative filtering\n",
      "\n",
      "Generic expression (notice how this is kind of a 'col-based' approach):\n",
      "\n",
      "$$ r_{u,i} = aggr_{u' \\in U(i)} [r_{u',i}] $$"
     ]
    },
    {
     "cell_type": "markdown",
     "metadata": {},
     "source": [
      "#### Simple ratings-based recommendations\n",
      "\n",
      "$$ r_{u,i} = \\bar r_i = \\frac{1}{N} \\sum_{u' \\in U(i)} r_{u',i} $$\n"
     ]
    },
    {
     "cell_type": "markdown",
     "metadata": {},
     "source": [
      "#### Generalizations of the aggregation function\n",
      "\n",
      "$$ r_{u,i} = k \\sum_{u' \\in U(i)} sim(u, u') \\; r_{u',i} $$\n",
      "\n",
      "$$ r_{u,i} = \\bar r_u + k \\sum_{u' \\in U(i)} sim(u, u') \\; (r_{u',i} - \\bar r_u) $$\n",
      "\n",
      "Here $k$ is a normalizing factor,\n",
      "\n",
      "$$ k = \\frac{1}{\\sum_{u' \\in U(i)} |sim(u,u')|} $$\n",
      "\n",
      "and $\\bar r_u$ is the average rating of user u:\n",
      "\n",
      "$$ \\bar r_u = \\frac{\\sum_{i \\in I(u)} r_{u,i}}{|I(u)|} $$"
     ]
    },
    {
     "cell_type": "markdown",
     "metadata": {},
     "source": [
      "### Hybrid solutions\n",
      "\n",
      "The literature has lots of examples of systems that try to combine the strengths\n",
      "of the two main approaches. This can be done in a number of ways:\n",
      "\n",
      "- Combine the predictions of a content-based system and a collaborative system.\n",
      "- Incorporate content-based techniques into a collaborative approach.\n",
      "- Incorporarte collaborative techniques into a content-based approach.\n",
      "- Unifying model."
     ]
    },
    {
     "cell_type": "markdown",
     "metadata": {},
     "source": [
      "### Challenges\n",
      "\n",
      "#### Availability of item metadata\n",
      "\n",
      "Content-based techniques are limited by the amount of metadata that is available\n",
      "to describe an item. There are domains in which feature extraction methods are\n",
      "expensive or time consuming, e.g., processing multimedia data such as graphics,\n",
      "audio/video streams. In the context of grocery items for example, it's often the\n",
      "case that item information is only partial or completely missing. Examples\n",
      "include:\n",
      "\n",
      "- Ingredients\n",
      "- Nutrition facts\n",
      "- Brand\n",
      "- Description\n",
      "- County of origin\n",
      "\n",
      "#### New user problem\n",
      "\n",
      "A user has to have rated a sufficient number of items before a recommender\n",
      "system can have a good idea of what their preferences are. In a content-based\n",
      "system, the aggregation function needs ratings to aggregate.\n",
      "\n",
      "#### New item problem\n",
      "\n",
      "Collaborative filters rely on an item being rated by many users to compute\n",
      "aggregates of those ratings. Think of this as the exact counterpart of the new\n",
      "user problem for content-based systems.\n",
      "\n",
      "#### Data sparsity\n",
      "\n",
      "When looking at the more general versions of content-based and collaborative\n",
      "systems, the success of the recommender system depends on the availability of a\n",
      "critical mass of user/item iteractions. We get a first glance at the data\n",
      "sparsity problem by quantifying the ratio of existing ratings vs $|U|x|I|$. A\n",
      "highly sparse matrix of interactions makes it difficult to compute similarities\n",
      "between users and items. As an example, for a user whose tastes are unusual\n",
      "compared to the rest of the population, there will not be any other users who\n",
      "are particularly similar, leading to poor recommendations.\n"
     ]
    },
    {
     "cell_type": "markdown",
     "metadata": {},
     "source": [
      "## Roadmap for this tutorial\n",
      "\n",
      "What exactly are we going to do?\n",
      "\n",
      "### Goal (what this tutorial is)\n",
      "\n",
      "The goal of this tutorial is to provide you with a hands-on overview of a few of\n",
      "the libraries from the scientific and data analysis communities. We're going to\n",
      "use:\n",
      "\n",
      "- numpy -- [numpy.org](http://www.numpy.org)\n",
      "- pandas -- [pandas.pydata.org/](http://pandas.pydata.org/)\n",
      "- matplotlib -- [matplotlib.org](http://matplotlib.org)\n",
      "- pytables -- [pytables.org](http://www.pytables.org)\n",
      "- (maybe a little bit of) scipy -- [scipy.org](http://www.scipy.org)\n",
      "- (maybe a little bit of) scikits-learn -- [scikit-learn.org](http://scikit-learn.org)\n",
      "\n",
      "### What this tutorial is not\n",
      "\n",
      "- An exhaustive overview of the recommendation literature"
     ]
    },
    {
     "cell_type": "markdown",
     "metadata": {},
     "source": [
      "### Flow chart: the big picture"
     ]
    },
    {
     "cell_type": "code",
     "collapsed": false,
     "input": [
      "import matplotlib.pyplot as plt\n",
      "\n",
      "plt.imshow(plt.imread('./pycon_reco_flow.png'), aspect=1)"
     ],
     "language": "python",
     "metadata": {},
     "outputs": [
      {
       "output_type": "pyout",
       "prompt_number": 3,
       "text": [
        "<matplotlib.image.AxesImage at 0x107b6dad0>"
       ]
      },
      {
       "output_type": "display_data",
       "png": "[encoded data removed]"
      }
     ],
     "prompt_number": 3
    },
    {
     "cell_type": "markdown",
     "metadata": {},
     "source": [
      "### Descriptions of the datasets we're going to use\n",
      "\n",
      "- MovieLens: from [GroupLens Research](http://www.grouplens.org/)\n",
      "\n",
      "  The MovieLens 1M data set contains 1 million ratings collected from 6000 users\n",
      "on 4000 movies.\n",
      "\n",
      "- Online grocery store: from [UnataInc.](http://www.unata.com/)\n",
      "\n",
      "  A sample from an online grocery store consisting of 727045 individual purchases\n",
      "by 10000 users from 1000 items."
     ]
    },
    {
     "cell_type": "markdown",
     "metadata": {},
     "source": [
      "## NumPy: Numerical Python\n",
      "\n",
      "### What is it?\n",
      "\n",
      "*It is a Python library that provides a multidimensional array object, various\n",
      "derived objects (such as masked arrays and matrices), and an assortment of\n",
      "routines for fast operations on arrays, including mathematical, logical, shape\n",
      "manipulation, sorting, selecting, I/O, discrete Fourier transforms, basic linear\n",
      "algebra, basic statistical operations, random simulation and much more.*"
     ]
    },
    {
     "cell_type": "markdown",
     "metadata": {},
     "source": [
      "### NumPy's basic data structure: the ndarray\n",
      "\n",
      "Think of ndarrays as the building blocks for pydata. A multidimensional array\n",
      "object that acts as a container for data to be passed between algorithms. Also,\n",
      "libraries written in a lower-level language, such as C or Fortran, can operate\n",
      "on the data stored in a NumPy array without copying any data.\n"
     ]
    },
    {
     "cell_type": "code",
     "collapsed": false,
     "input": [
      "import numpy as np\n",
      "\n",
      "# set some print options\n",
      "np.set_printoptions(precision=4)\n",
      "np.set_printoptions(threshold=5)\n",
      "np.set_printoptions(suppress=True)\n",
      "\n",
      "# build an array using the array function\n",
      "arr = np.array([0, 9, 5.055, 4, 3])\n",
      "arr"
     ],
     "language": "python",
     "metadata": {},
     "outputs": [
      {
       "output_type": "pyout",
       "prompt_number": 63,
       "text": [
        "array([ 0.   ,  9.   ,  5.055,  4.   ,  3.   ])"
       ]
      }
     ],
     "prompt_number": 63
    },
    {
     "cell_type": "markdown",
     "metadata": {},
     "source": [
      "### Array creation examples\n",
      "\n",
      "There are several functions that are used to create new arrays:\n",
      "\n",
      "- `np.array`\n",
      "- `np.asarray`\n",
      "- `np.arange`\n",
      "- `np.ones`\n",
      "- `np.ones_like`\n",
      "- `np.zeros`\n",
      "- `np.zeros_like`"
     ]
    },
    {
     "cell_type": "code",
     "collapsed": false,
     "input": [
      "np.zeros(4)\n"
     ],
     "language": "python",
     "metadata": {},
     "outputs": [
      {
       "output_type": "pyout",
       "prompt_number": 117,
       "text": [
        "array([ 0.,  0.,  0.,  0.])"
       ]
      }
     ],
     "prompt_number": 117
    },
    {
     "cell_type": "code",
     "collapsed": false,
     "input": [
      "np.ones(4)"
     ],
     "language": "python",
     "metadata": {},
     "outputs": [
      {
       "output_type": "pyout",
       "prompt_number": 118,
       "text": [
        "array([ 1.,  1.,  1.,  1.])"
       ]
      }
     ],
     "prompt_number": 118
    },
    {
     "cell_type": "code",
     "collapsed": false,
     "input": [
      "np.empty(4)"
     ],
     "language": "python",
     "metadata": {},
     "outputs": [
      {
       "output_type": "pyout",
       "prompt_number": 119,
       "text": [
        "array([  6.9308e-310,   6.9308e-310,   2.1936e-314,   2.7814e-309])"
       ]
      }
     ],
     "prompt_number": 119
    },
    {
     "cell_type": "code",
     "collapsed": false,
     "input": [
      "np.arange(4)"
     ],
     "language": "python",
     "metadata": {},
     "outputs": [
      {
       "output_type": "pyout",
       "prompt_number": 120,
       "text": [
        "array([0, 1, 2, 3])"
       ]
      }
     ],
     "prompt_number": 120
    },
    {
     "cell_type": "markdown",
     "metadata": {},
     "source": [
      "### dtype and shape\n",
      "\n",
      "NumPy's arrays are containers of homogeneous data, which means all elements are\n",
      "of the same type. The 'dtype' propery is an object that specifies the data type\n",
      "of each element. The 'shape' property is a tuple that indicates the size of each\n",
      "dimension."
     ]
    },
    {
     "cell_type": "code",
     "collapsed": false,
     "input": [
      "arr = np.random.randn(5)\n",
      "arr.dtype"
     ],
     "language": "python",
     "metadata": {},
     "outputs": [
      {
       "output_type": "pyout",
       "prompt_number": 891,
       "text": [
        "dtype('float64')"
       ]
      }
     ],
     "prompt_number": 891
    },
    {
     "cell_type": "code",
     "collapsed": false,
     "input": [
      "arr.shape"
     ],
     "language": "python",
     "metadata": {},
     "outputs": [
      {
       "output_type": "pyout",
       "prompt_number": 24,
       "text": [
        "(5,)"
       ]
      }
     ],
     "prompt_number": 24
    },
    {
     "cell_type": "code",
     "collapsed": false,
     "input": [
      "# you can be explicit about the data type that you want\n",
      "np.empty(4, dtype=np.int32)"
     ],
     "language": "python",
     "metadata": {},
     "outputs": [
      {
       "output_type": "pyout",
       "prompt_number": 121,
       "text": [
        "array([         0, 1879048192, 1515921094, -268433415], dtype=int32)"
       ]
      }
     ],
     "prompt_number": 121
    },
    {
     "cell_type": "code",
     "collapsed": false,
     "input": [
      "np.array(['numpy','pandas','pytables'], dtype=np.string_)"
     ],
     "language": "python",
     "metadata": {},
     "outputs": [
      {
       "output_type": "pyout",
       "prompt_number": 122,
       "text": [
        "array(['numpy', 'pandas', 'pytables'], \n",
        "      dtype='|S8')"
       ]
      }
     ],
     "prompt_number": 122
    },
    {
     "cell_type": "code",
     "collapsed": false,
     "input": [
      "float_arr = np.array([4.4, 5.52425, -0.1234, 98.1], dtype=np.float64)\n",
      "# truncate the decimal part\n",
      "float_arr.astype(np.int32)\n"
     ],
     "language": "python",
     "metadata": {},
     "outputs": [
      {
       "output_type": "pyout",
       "prompt_number": 123,
       "text": [
        "array([ 4,  5,  0, 98], dtype=int32)"
       ]
      }
     ],
     "prompt_number": 123
    },
    {
     "cell_type": "markdown",
     "metadata": {},
     "source": [
      "### Indexing and slicing\n",
      "\n",
      "#### Just what you would expect from Python"
     ]
    },
    {
     "cell_type": "code",
     "collapsed": false,
     "input": [
      "arr = np.array([0, 9, 1.02, 4, 64])\n",
      "arr[3]"
     ],
     "language": "python",
     "metadata": {},
     "outputs": [
      {
       "output_type": "pyout",
       "prompt_number": 402,
       "text": [
        "4.0"
       ]
      }
     ],
     "prompt_number": 402
    },
    {
     "cell_type": "code",
     "collapsed": false,
     "input": [
      "arr[1:3]"
     ],
     "language": "python",
     "metadata": {},
     "outputs": [
      {
       "output_type": "pyout",
       "prompt_number": 403,
       "text": [
        "array([ 9.  ,  1.02])"
       ]
      }
     ],
     "prompt_number": 403
    },
    {
     "cell_type": "code",
     "collapsed": false,
     "input": [
      "# set the last two elements to 555\n",
      "arr[-2:] = 555\n",
      "arr"
     ],
     "language": "python",
     "metadata": {},
     "outputs": [
      {
       "output_type": "pyout",
       "prompt_number": 404,
       "text": [
        "array([   0.  ,    9.  ,    1.02,  555.  ,  555.  ])"
       ]
      }
     ],
     "prompt_number": 404
    },
    {
     "cell_type": "markdown",
     "metadata": {},
     "source": [
      "#### Indexing behaviour for multidimensional arrays\n",
      "\n",
      "A good way to think about indexing in multidimensional arrays is that you are\n",
      "moving along the values of the shape property. So, a 4d array `arr_4d`, with a\n",
      "shape of `(w,x,y,z)` will result in indexed views such that:\n",
      "\n",
      "- `arr_4d[i].shape == (x,y,z)`\n",
      "- `arr_4d[i,j].shape == (y,z)`\n",
      "- `arr_4d[i,j,k].shape == (z,)`\n",
      "\n",
      "For the case of slices, what you are doing is selecting a range of elements\n",
      "along a particular axis:"
     ]
    },
    {
     "cell_type": "code",
     "collapsed": false,
     "input": [
      "arr_2d = np.array([[5,3,4],[0,1,2],[1,1,10],[0,0,0.1]])\n",
      "# get the first row\n",
      "arr_2d[0]"
     ],
     "language": "python",
     "metadata": {},
     "outputs": [
      {
       "output_type": "pyout",
       "prompt_number": 152,
       "text": [
        "array([ 5.,  3.,  4.])"
       ]
      }
     ],
     "prompt_number": 152
    },
    {
     "cell_type": "code",
     "collapsed": false,
     "input": [
      "# get the first column\n",
      "arr_2d[:,0]"
     ],
     "language": "python",
     "metadata": {},
     "outputs": [
      {
       "output_type": "pyout",
       "prompt_number": 153,
       "text": [
        "array([ 5.,  0.,  1.,  0.])"
       ]
      }
     ],
     "prompt_number": 153
    },
    {
     "cell_type": "code",
     "collapsed": false,
     "input": [
      "# get the first two rows\n",
      "arr_2d[:2]"
     ],
     "language": "python",
     "metadata": {},
     "outputs": [
      {
       "output_type": "pyout",
       "prompt_number": 154,
       "text": [
        "array([[ 5.,  3.,  4.],\n",
        "       [ 0.,  1.,  2.]])"
       ]
      }
     ],
     "prompt_number": 154
    },
    {
     "cell_type": "code",
     "collapsed": false,
     "input": [
      "# get the last element of the last two rows\n",
      "arr_2d[-2:, -1]"
     ],
     "language": "python",
     "metadata": {},
     "outputs": [
      {
       "output_type": "pyout",
       "prompt_number": 155,
       "text": [
        "array([ 10. ,   0.1])"
       ]
      }
     ],
     "prompt_number": 155
    },
    {
     "cell_type": "code",
     "collapsed": false,
     "input": [
      "# try this for higher dimensions\n",
      "arr_3d = np.array([[[2,2,2],[3,3,3]],[[1,1,1],[9,9,9]]])\n",
      "arr_3d[0]"
     ],
     "language": "python",
     "metadata": {},
     "outputs": [
      {
       "output_type": "pyout",
       "prompt_number": 156,
       "text": [
        "array([[2, 2, 2],\n",
        "       [3, 3, 3]])"
       ]
      }
     ],
     "prompt_number": 156
    },
    {
     "cell_type": "code",
     "collapsed": false,
     "input": [
      "# get the last column of each matrix in this 3d array\n",
      "arr_3d[:,:,0]"
     ],
     "language": "python",
     "metadata": {},
     "outputs": [
      {
       "output_type": "pyout",
       "prompt_number": 143,
       "text": [
        "array([[2, 3],\n",
        "       [1, 9]])"
       ]
      }
     ],
     "prompt_number": 143
    },
    {
     "cell_type": "markdown",
     "metadata": {},
     "source": [
      "#### Careful, it's a view!\n",
      "\n",
      "A slice does not return a copy, which means that any modifications will be\n",
      "reflected in the source array. This is a design feature of NumPy to avoid memory\n",
      "problems."
     ]
    },
    {
     "cell_type": "code",
     "collapsed": false,
     "input": [
      "arr = np.array([0, 9, 1.02, 4, 64])\n",
      "slice = arr[2:4]\n",
      "slice[1] = 999.44\n",
      "arr"
     ],
     "language": "python",
     "metadata": {},
     "outputs": [
      {
       "output_type": "pyout",
       "prompt_number": 898,
       "text": [
        "array([   0.  ,    9.  ,    1.02,  999.44,   64.  ])"
       ]
      }
     ],
     "prompt_number": 898
    },
    {
     "cell_type": "markdown",
     "metadata": {},
     "source": [
      "#### Boolean indexing\n",
      "\n",
      "Boolean indexing allows you to select data subsets of an array that satisfy a\n",
      "given condition."
     ]
    },
    {
     "cell_type": "code",
     "collapsed": false,
     "input": [
      "arr = np.array([123, 456])\n",
      "idx = np.array([True, False])\n",
      "arr[idx]\n"
     ],
     "language": "python",
     "metadata": {},
     "outputs": [
      {
       "output_type": "pyout",
       "prompt_number": 164,
       "text": [
        "array([123])"
       ]
      }
     ],
     "prompt_number": 164
    },
    {
     "cell_type": "code",
     "collapsed": false,
     "input": [
      "arr_2d = np.random.randn(4,8)\n",
      "arr_2d\n"
     ],
     "language": "python",
     "metadata": {},
     "outputs": [
      {
       "output_type": "pyout",
       "prompt_number": 4,
       "text": [
        "array([[-0.00496558, -0.95066041, -0.27195982,  1.33337394, -2.3948459 ,\n",
        "         2.22257622,  1.10794662,  0.94982061],\n",
        "       [-0.39637176, -1.16796015, -0.47672567,  1.17845119,  1.63475458,\n",
        "        -1.47733339, -0.47664118, -1.04512003],\n",
        "       [-0.78681526,  0.01906602,  0.79174341,  0.36697048,  1.67900117,\n",
        "         0.30122578,  1.45161252, -0.08240994],\n",
        "       [-0.84203275,  0.20804307,  1.20639198,  0.63694571,  0.7213061 ,\n",
        "        -0.75703633, -0.16913149,  0.37977803]])"
       ]
      }
     ],
     "prompt_number": 4
    },
    {
     "cell_type": "code",
     "collapsed": false,
     "input": [
      "arr_2d < 0"
     ],
     "language": "python",
     "metadata": {},
     "outputs": [
      {
       "output_type": "pyout",
       "prompt_number": 5,
       "text": [
        "array([[ True,  True,  True, False,  True, False, False, False],\n",
        "       [ True,  True,  True, False, False,  True,  True,  True],\n",
        "       [ True, False, False, False, False, False, False,  True],\n",
        "       [ True, False, False, False, False,  True,  True, False]], dtype=bool)"
       ]
      }
     ],
     "prompt_number": 5
    },
    {
     "cell_type": "code",
     "collapsed": false,
     "input": [
      "arr_2d[arr_2d < 0]"
     ],
     "language": "python",
     "metadata": {},
     "outputs": [
      {
       "output_type": "pyout",
       "prompt_number": 6,
       "text": [
        "array([-0.00496558, -0.95066041, -0.27195982, -2.3948459 , -0.39637176,\n",
        "       -1.16796015, -0.47672567, -1.47733339, -0.47664118, -1.04512003,\n",
        "       -0.78681526, -0.08240994, -0.84203275, -0.75703633, -0.16913149])"
       ]
      }
     ],
     "prompt_number": 6
    },
    {
     "cell_type": "code",
     "collapsed": false,
     "input": [
      "arr_2d[arr_2d < 0] = 0\n",
      "arr_2d"
     ],
     "language": "python",
     "metadata": {},
     "outputs": [
      {
       "output_type": "pyout",
       "prompt_number": 7,
       "text": [
        "array([[ 0.        ,  0.        ,  0.        ,  1.33337394,  0.        ,\n",
        "         2.22257622,  1.10794662,  0.94982061],\n",
        "       [ 0.        ,  0.        ,  0.        ,  1.17845119,  1.63475458,\n",
        "         0.        ,  0.        ,  0.        ],\n",
        "       [ 0.        ,  0.01906602,  0.79174341,  0.36697048,  1.67900117,\n",
        "         0.30122578,  1.45161252,  0.        ],\n",
        "       [ 0.        ,  0.20804307,  1.20639198,  0.63694571,  0.7213061 ,\n",
        "         0.        ,  0.        ,  0.37977803]])"
       ]
      }
     ],
     "prompt_number": 7
    },
    {
     "cell_type": "code",
     "collapsed": false,
     "input": [
      "arr_2d[arr_2d.sum(axis=1) > 2.5]"
     ],
     "language": "python",
     "metadata": {},
     "outputs": [
      {
       "output_type": "pyout",
       "prompt_number": 198,
       "text": [
        "array([[ 0.1489,  0.    ,  1.3965, ...,  0.9804,  0.    ,  0.1053],\n",
        "       [ 0.815 ,  0.    ,  0.4645, ...,  1.9024,  2.188 ,  0.6973],\n",
        "       [ 1.3895,  0.    ,  0.6398, ...,  0.    ,  0.4404,  0.1051]])"
       ]
      }
     ],
     "prompt_number": 198
    },
    {
     "cell_type": "markdown",
     "metadata": {},
     "source": [
      "#### Fancy indexing\n",
      "\n",
      "Fancy indexing is indexing with integer arrays."
     ]
    },
    {
     "cell_type": "code",
     "collapsed": false,
     "input": [
      "arr = np.arange(18).reshape(6,3)\n",
      "arr"
     ],
     "language": "python",
     "metadata": {},
     "outputs": [
      {
       "output_type": "pyout",
       "prompt_number": 8,
       "text": [
        "array([[ 0,  1,  2],\n",
        "       [ 3,  4,  5],\n",
        "       [ 6,  7,  8],\n",
        "       [ 9, 10, 11],\n",
        "       [12, 13, 14],\n",
        "       [15, 16, 17]])"
       ]
      }
     ],
     "prompt_number": 8
    },
    {
     "cell_type": "code",
     "collapsed": false,
     "input": [
      "# fancy selection of rows in a particular order\n",
      "arr[[0,4,4]]"
     ],
     "language": "python",
     "metadata": {},
     "outputs": [
      {
       "output_type": "pyout",
       "prompt_number": 9,
       "text": [
        "array([[ 0,  1,  2],\n",
        "       [12, 13, 14],\n",
        "       [12, 13, 14]])"
       ]
      }
     ],
     "prompt_number": 9
    },
    {
     "cell_type": "code",
     "collapsed": false,
     "input": [
      "# index into individual elements and flatten\n",
      "arr[[5,3,1],[2,1,0]]"
     ],
     "language": "python",
     "metadata": {},
     "outputs": [
      {
       "output_type": "pyout",
       "prompt_number": 10,
       "text": [
        "array([17, 10,  3])"
       ]
      }
     ],
     "prompt_number": 10
    },
    {
     "cell_type": "code",
     "collapsed": false,
     "input": [
      "# select a submatrix\n",
      "arr[np.ix_([5,3,1],[2,1])]"
     ],
     "language": "python",
     "metadata": {},
     "outputs": [
      {
       "output_type": "pyout",
       "prompt_number": 11,
       "text": [
        "array([[17, 16],\n",
        "       [11, 10],\n",
        "       [ 5,  4]])"
       ]
      }
     ],
     "prompt_number": 11
    },
    {
     "cell_type": "markdown",
     "metadata": {},
     "source": [
      "Different from the concept of views, selecting data from an array by boolean or\n",
      "fancy indexing always creates a copy of the data, even if the returned array is\n",
      "unchanged."
     ]
    },
    {
     "cell_type": "markdown",
     "metadata": {},
     "source": [
      "#### A note about NANs: \n",
      "\n",
      "Per the floating point standard IEEE 754, NaN is a floating point value that, by definition, is not equal to any other floating point value."
     ]
    },
    {
     "cell_type": "code",
     "collapsed": false,
     "input": [
      "np.nan != np.nan"
     ],
     "language": "python",
     "metadata": {},
     "outputs": [
      {
       "output_type": "pyout",
       "prompt_number": 111,
       "text": [
        "True"
       ]
      }
     ],
     "prompt_number": 111
    },
    {
     "cell_type": "markdown",
     "metadata": {},
     "source": [
      "--> Go to first set of questions."
     ]
    },
    {
     "cell_type": "markdown",
     "metadata": {},
     "source": [
      "### Vectorization\n",
      "Vectorization is at the heart of NumPy and it enables us to express operations\n",
      "without writing any for loops.  Operations between arrays with equal shapes are\n",
      "performed element-wise.\n"
     ]
    },
    {
     "cell_type": "code",
     "collapsed": false,
     "input": [
      "arr = np.array([0, 9, 1.02, 4, 32])\n",
      "arr - arr"
     ],
     "language": "python",
     "metadata": {},
     "outputs": [
      {
       "output_type": "pyout",
       "prompt_number": 12,
       "text": [
        "array([ 0.,  0.,  0.,  0.,  0.])"
       ]
      }
     ],
     "prompt_number": 12
    },
    {
     "cell_type": "code",
     "collapsed": false,
     "input": [
      "arr * arr\n"
     ],
     "language": "python",
     "metadata": {},
     "outputs": [
      {
       "output_type": "pyout",
       "prompt_number": 387,
       "text": [
        "array([    0.    ,    81.    ,     1.0404,    16.    ,  1024.    ])"
       ]
      }
     ],
     "prompt_number": 387
    },
    {
     "cell_type": "markdown",
     "metadata": {},
     "source": [
      "### Broadcasting Rules\n",
      "\n",
      "Vectorized operations between arrays of different sizes and between arrays and\n",
      "scalars are subject to the rules of broadcasting. The idea is quite simple in\n",
      "many cases:\n"
     ]
    },
    {
     "cell_type": "code",
     "collapsed": false,
     "input": [
      "arr = np.array([0, 9, 1.02, 4, 64])\n",
      "5 * arr "
     ],
     "language": "python",
     "metadata": {},
     "outputs": [
      {
       "output_type": "pyout",
       "prompt_number": 388,
       "text": [
        "array([   0. ,   45. ,    5.1,   20. ,  320. ])"
       ]
      }
     ],
     "prompt_number": 388
    },
    {
     "cell_type": "code",
     "collapsed": false,
     "input": [
      "10 + arr"
     ],
     "language": "python",
     "metadata": {},
     "outputs": [
      {
       "output_type": "pyout",
       "prompt_number": 389,
       "text": [
        "array([ 10.  ,  19.  ,  11.02,  14.  ,  74.  ])"
       ]
      }
     ],
     "prompt_number": 389
    },
    {
     "cell_type": "code",
     "collapsed": false,
     "input": [
      "arr ** .5"
     ],
     "language": "python",
     "metadata": {},
     "outputs": [
      {
       "output_type": "pyout",
       "prompt_number": 390,
       "text": [
        "array([ 0.  ,  3.  ,  1.01,  2.  ,  8.  ])"
       ]
      }
     ],
     "prompt_number": 390
    },
    {
     "cell_type": "code",
     "collapsed": false,
     "input": [
      "arr = np.random.randn(4,2)\n",
      "arr"
     ],
     "language": "python",
     "metadata": {},
     "outputs": [
      {
       "output_type": "pyout",
       "prompt_number": 15,
       "text": [
        "array([[-1.33736922,  0.16766703],\n",
        "       [-0.28109344,  1.29810417],\n",
        "       [-0.69681766,  0.65100067],\n",
        "       [ 1.00293599, -0.59904102]])"
       ]
      }
     ],
     "prompt_number": 15
    },
    {
     "cell_type": "code",
     "collapsed": false,
     "input": [
      "mean_row = np.mean(arr, axis=0)\n",
      "mean_row"
     ],
     "language": "python",
     "metadata": {},
     "outputs": [
      {
       "output_type": "pyout",
       "prompt_number": 20,
       "text": [
        "array([-0.32808608,  0.37943271])"
       ]
      }
     ],
     "prompt_number": 20
    },
    {
     "cell_type": "code",
     "collapsed": false,
     "input": [
      "centered_rows = arr - mean_row\n",
      "np.mean(centered_rows, axis=0)"
     ],
     "language": "python",
     "metadata": {},
     "outputs": [
      {
       "output_type": "pyout",
       "prompt_number": 21,
       "text": [
        "array([  5.55111512e-17,  -2.77555756e-17])"
       ]
      }
     ],
     "prompt_number": 21
    },
    {
     "cell_type": "code",
     "collapsed": false,
     "input": [
      "mean_col = np.mean(arr, axis=1)\n",
      "mean_col"
     ],
     "language": "python",
     "metadata": {},
     "outputs": [
      {
       "output_type": "pyout",
       "prompt_number": 23,
       "text": [
        "array([-0.5848511 ,  0.50850536, -0.02290849,  0.20194749])"
       ]
      }
     ],
     "prompt_number": 23
    },
    {
     "cell_type": "code",
     "collapsed": false,
     "input": [
      "centered_cols = arr - mean_col"
     ],
     "language": "python",
     "metadata": {},
     "outputs": [
      {
       "ename": "ValueError",
       "evalue": "operands could not be broadcast together with shapes (4,2) (4) ",
       "output_type": "pyerr",
       "traceback": [
        "\u001b[0;31m---------------------------------------------------------------------------\u001b[0m\n\u001b[0;31mValueError\u001b[0m                                Traceback (most recent call last)",
        "\u001b[0;32m<ipython-input-24-bd5236897883>\u001b[0m in \u001b[0;36m<module>\u001b[0;34m()\u001b[0m\n\u001b[0;32m----> 1\u001b[0;31m \u001b[0mcentered_cols\u001b[0m \u001b[0;34m=\u001b[0m \u001b[0marr\u001b[0m \u001b[0;34m-\u001b[0m \u001b[0mmean_col\u001b[0m\u001b[0;34m\u001b[0m\u001b[0m\n\u001b[0m",
        "\u001b[0;31mValueError\u001b[0m: operands could not be broadcast together with shapes (4,2) (4) "
       ]
      }
     ],
     "prompt_number": 24
    },
    {
     "cell_type": "code",
     "collapsed": false,
     "input": [
      "# make the 1-D array a column vector\n",
      "mean_col.reshape((4,1))"
     ],
     "language": "python",
     "metadata": {},
     "outputs": [
      {
       "output_type": "pyout",
       "prompt_number": 25,
       "text": [
        "array([[-0.5848511 ],\n",
        "       [ 0.50850536],\n",
        "       [-0.02290849],\n",
        "       [ 0.20194749]])"
       ]
      }
     ],
     "prompt_number": 25
    },
    {
     "cell_type": "code",
     "collapsed": false,
     "input": [
      "centered_cols = arr - mean_col.reshape((4,1))\n",
      "centered_.mean(axis=1)"
     ],
     "language": "python",
     "metadata": {},
     "outputs": [
      {
       "output_type": "pyout",
       "prompt_number": 26,
       "text": [
        "array([  5.55111512e-17,   0.00000000e+00,   0.00000000e+00,\n",
        "         0.00000000e+00])"
       ]
      }
     ],
     "prompt_number": 26
    },
    {
     "cell_type": "code",
     "collapsed": false,
     "input": [
      "note on nans goes here"
     ],
     "language": "python",
     "metadata": {},
     "outputs": []
    },
    {
     "cell_type": "markdown",
     "metadata": {},
     "source": [
      "--> Go to second set of questions."
     ]
    },
    {
     "cell_type": "markdown",
     "metadata": {},
     "source": [
      "### [EXTRA] more vectorized operations"
     ]
    },
    {
     "cell_type": "code",
     "collapsed": false,
     "input": [
      "a = np.random.randn(5,2,3)\n",
      "b = np.zeros((2,3))\n",
      "a * b"
     ],
     "language": "python",
     "metadata": {},
     "outputs": [
      {
       "output_type": "pyout",
       "prompt_number": 27,
       "text": [
        "array([[[-0., -0.,  0.],\n",
        "        [ 0., -0.,  0.]],\n",
        "\n",
        "       [[ 0., -0., -0.],\n",
        "        [ 0., -0., -0.]],\n",
        "\n",
        "       [[-0.,  0., -0.],\n",
        "        [-0., -0., -0.]],\n",
        "\n",
        "       [[-0.,  0., -0.],\n",
        "        [-0., -0.,  0.]],\n",
        "\n",
        "       [[-0., -0.,  0.],\n",
        "        [ 0.,  0.,  0.]]])"
       ]
      }
     ],
     "prompt_number": 27
    },
    {
     "cell_type": "code",
     "collapsed": false,
     "input": [
      "arr = np.random.randn(4,3)\n",
      "vec = np.zeros(3)\n",
      "np.dot(arr, vec)"
     ],
     "language": "python",
     "metadata": {},
     "outputs": [
      {
       "output_type": "pyout",
       "prompt_number": 397,
       "text": [
        "array([ 0.,  0.,  0.,  0.])"
       ]
      }
     ],
     "prompt_number": 397
    },
    {
     "cell_type": "code",
     "collapsed": false,
     "input": [
      "arr = np.random.randn(4,3)\n",
      "vec = np.zeros(4)\n",
      "np.dot(arr.T, vec)"
     ],
     "language": "python",
     "metadata": {},
     "outputs": [
      {
       "output_type": "pyout",
       "prompt_number": 398,
       "text": [
        "array([ 0.,  0.,  0.])"
       ]
      }
     ],
     "prompt_number": 398
    },
    {
     "cell_type": "code",
     "collapsed": false,
     "input": [
      "arr = np.random.randn(2,3)\n",
      "np.dot(arr, arr.T)"
     ],
     "language": "python",
     "metadata": {},
     "outputs": [
      {
       "output_type": "pyout",
       "prompt_number": 399,
       "text": [
        "array([[ 1.8236, -0.9658],\n",
        "       [-0.9658,  2.5193]])"
       ]
      }
     ],
     "prompt_number": 399
    },
    {
     "cell_type": "code",
     "collapsed": false,
     "input": [
      "np.dot(arr.T, arr)"
     ],
     "language": "python",
     "metadata": {},
     "outputs": [
      {
       "output_type": "pyout",
       "prompt_number": 400,
       "text": [
        "array([[ 0.6466,  0.071 ,  0.7647],\n",
        "       [ 0.071 ,  2.2641,  1.1753],\n",
        "       [ 0.7647,  1.1753,  1.4321]])"
       ]
      }
     ],
     "prompt_number": 400
    },
    {
     "cell_type": "code",
     "collapsed": false,
     "input": [
      "a = np.random.randn(5,2,3)\n",
      "b = np.random.randn(2,3)\n",
      "np.dot(a, b.T)"
     ],
     "language": "python",
     "metadata": {},
     "outputs": [
      {
       "output_type": "pyout",
       "prompt_number": 401,
       "text": [
        "array([[[ 0.5781,  0.725 ],\n",
        "        [-2.4196, -1.6768]],\n",
        "\n",
        "       [[ 1.0247,  0.8183],\n",
        "        [-3.7817, -0.9169]],\n",
        "\n",
        "       [[ 1.4816,  0.4478],\n",
        "        [ 2.0925, -0.8962]],\n",
        "\n",
        "       [[-3.0249, -1.6111],\n",
        "        [-2.8402, -0.6309]],\n",
        "\n",
        "       [[-2.3285,  0.4411],\n",
        "        [-0.1753,  0.5167]]])"
       ]
      }
     ],
     "prompt_number": 401
    },
    {
     "cell_type": "markdown",
     "metadata": {},
     "source": [
      "(should be at about an hour)"
     ]
    },
    {
     "cell_type": "markdown",
     "metadata": {},
     "source": [
      "## The MovieLens Dataset: first look at the ratings matrix"
     ]
    },
    {
     "cell_type": "markdown",
     "metadata": {},
     "source": [
      "Load the ratings matrix from MovieLens and look around."
     ]
    },
    {
     "cell_type": "code",
     "collapsed": false,
     "input": [
      "ratings_mtx = np.loadtxt('data/movielens_ratings_mtx.csv', delimiter=',')\n",
      "print ratings_mtx.shape\n",
      "print ratings_mtx[:4]\n"
     ],
     "language": "python",
     "metadata": {},
     "outputs": [
      {
       "output_type": "stream",
       "stream": "stdout",
       "text": [
        "(70, 2159)\n",
        "[[  5.  nan  nan ...,  nan  nan  nan]\n",
        " [ nan  nan  nan ...,  nan  nan  nan]\n",
        " [ nan  nan  nan ...,  nan  nan  nan]\n",
        " [ nan  nan  nan ...,  nan  nan  nan]]\n"
       ]
      }
     ],
     "prompt_number": 51
    },
    {
     "cell_type": "markdown",
     "metadata": {},
     "source": [
      "Calculate sparsity ratios."
     ]
    },
    {
     "cell_type": "code",
     "collapsed": false,
     "input": [
      "# do this to get floating point when dividing integers\n",
      "from __future__ import division\n",
      "\n",
      "ratings_density = ratings_mtx[ratings_mtx >= 1].size / ratings_mtx.size\n",
      "ratings_sparsity = 1 - ratings_density\n",
      "print \"Density is %f and sparsity is %f\" % (ratings_density, ratings_sparsity)"
     ],
     "language": "python",
     "metadata": {},
     "outputs": [
      {
       "output_type": "stream",
       "stream": "stdout",
       "text": [
        "Density is 0.066168 and sparsity is 0.933832\n"
       ]
      }
     ],
     "prompt_number": 52
    },
    {
     "cell_type": "markdown",
     "metadata": {},
     "source": [
      "explanation for incidence matrix goes here"
     ]
    },
    {
     "cell_type": "code",
     "collapsed": false,
     "input": [
      "incidence_mtx = ratings_mtx.copy()\n",
      "incidence_mtx[incidence_mtx >=1] = 1\n",
      "incidence_mtx[np.isnan(incidence_mtx)] = 0\n",
      "incidence_mtx"
     ],
     "language": "python",
     "metadata": {},
     "outputs": [
      {
       "output_type": "pyout",
       "prompt_number": 53,
       "text": [
        "array([[ 1.,  0.,  0., ...,  0.,  0.,  0.],\n",
        "       [ 0.,  0.,  0., ...,  0.,  0.,  0.],\n",
        "       [ 0.,  0.,  0., ...,  0.,  0.,  0.],\n",
        "       ..., \n",
        "       [ 1.,  0.,  0., ...,  0.,  0.,  0.],\n",
        "       [ 0.,  0.,  0., ...,  0.,  0.,  0.],\n",
        "       [ 0.,  0.,  0., ...,  0.,  0.,  0.]])"
       ]
      }
     ],
     "prompt_number": 53
    },
    {
     "cell_type": "code",
     "collapsed": false,
     "input": [
      "incidence_mtx.sum(axis=0)"
     ],
     "language": "python",
     "metadata": {},
     "outputs": [
      {
       "output_type": "pyout",
       "prompt_number": 54,
       "text": [
        "array([ 23.,  11.,   3., ...,  12.,   1.,   3.])"
       ]
      }
     ],
     "prompt_number": 54
    },
    {
     "cell_type": "code",
     "collapsed": false,
     "input": [
      "incidence_mtx.sum(axis=1)"
     ],
     "language": "python",
     "metadata": {},
     "outputs": [
      {
       "output_type": "pyout",
       "prompt_number": 56,
       "text": [
        "array([  53.,  129.,   51.,   21.,  198.,   71.,   31.,  139.,  106.,\n",
        "        401.,  137.,   23.,  108.,   25.,  201.,   35.,  211.,  305.,\n",
        "        255.,   24.,   22.,  297.,  304.,  136.,   85.,  400.,   70.,\n",
        "        107.,  108.,   43.,  119.,   48.,  391.,  164.,  198.,  351.,\n",
        "         53.,  100.,   62.,   96.,   25.,  231.,   24.,  193.,  297.,\n",
        "         41.,   22.,  598.,  108.,   43.,   40.,   79.,  684.,   40.,\n",
        "         25.,   67.,   64.,  437.,  213.,   70.,   36.,  498.,   98.,\n",
        "         27.,  121.,   26.,   64.,   72.,   65.,   14.])"
       ]
      }
     ],
     "prompt_number": 56
    },
    {
     "cell_type": "markdown",
     "metadata": {},
     "source": [
      "Go to third set of questions."
     ]
    },
    {
     "cell_type": "markdown",
     "metadata": {},
     "source": [
      "### Evaluation: split up ratings into train and test sets\n",
      "\n",
      "This subsection will generate training and testing sets for evaluation. You do not need to understand every single line of code, just the general gist.\n",
      "\n",
      "Below we'll write a routine to extract training and test sets from the ratings\n",
      "matrix. We'll then use this to evaluate our different recommendation techniques.\n",
      "\n",
      "If we take a per-user approach of partitionning the available data into a\n",
      "training and testing set, then the bare minimum that we need per user is at\n",
      "least two ratings. We start by making sure that we have at least that in every\n",
      "row of our `ratings_mtx`."
     ]
    },
    {
     "cell_type": "code",
     "collapsed": false,
     "input": [
      "# do we have at least two ratings per user?\n",
      "number_mask = np.where(~np.isnan(ratings_mtx), 1, 0)\n",
      "np.any(number_mask.sum(axis=1) < 2)"
     ],
     "language": "python",
     "metadata": {},
     "outputs": [
      {
       "output_type": "pyout",
       "prompt_number": 57,
       "text": [
        "False"
       ]
      }
     ],
     "prompt_number": 57
    },
    {
     "cell_type": "markdown",
     "metadata": {},
     "source": [
      "Knowing this, we'll partition each row of ratings into a train and test\n",
      "set. Think of it as punching additional np.nan holes into the ratings matrix to\n",
      "pretend that we have less data than we actually do."
     ]
    },
    {
     "cell_type": "code",
     "collapsed": false,
     "input": [
      "np.random.seed(4)\n",
      "\n",
      "# make copies of the original mtx\n",
      "ratings_mtx_train = ratings_mtx.copy()\n",
      "ratings_mtx_test  = ratings_mtx.copy()\n",
      "\n",
      "for u_number, row in enumerate(ratings_mtx):\n",
      "\n",
      "    movie_ids = np.where(row >= 1)[0] # same as mask[u_number].nonzero()[0]\n",
      "    user_ratings = row[row >= 1]\n",
      "\n",
      "    # split ratings into training and test sets\n",
      "    X_test = np.random.choice(movie_ids,\n",
      "                              size=np.int64(np.ceil(movie_ids.size * 0.2)),\n",
      "                              replace=False)\n",
      "    X_train = np.setdiff1d(movie_ids, X_test, assume_unique=True)\n",
      "\n",
      "    # just to double check\n",
      "    if np.intersect1d(X_train, X_test).size != 0: print \"ERROR!!\"\n",
      "    if X_test.size + X_train.size != movie_ids.size: print \"ERROR!!\"\n",
      "    \n",
      "    # supress test entries from the train mtx\n",
      "    ratings_mtx_train[u_number, X_test] = np.nan\n",
      "    # suppress train entries from the test mtx\n",
      "    ratings_mtx_test[u_number, X_train] = np.nan\n",
      "\n",
      "print 'Total ratings: %s' % np.where(~np.isnan(ratings_mtx), 1, 0).sum()\n",
      "print 'Training ratings: %s' % np.where(~np.isnan(ratings_mtx_train), 1, 0).sum()\n",
      "print 'Testing ratings: %s' % np.where(~np.isnan(ratings_mtx_test), 1, 0).sum()\n"
     ],
     "language": "python",
     "metadata": {},
     "outputs": [
      {
       "output_type": "stream",
       "stream": "stdout",
       "text": [
        "Total ratings: 10000\n",
        "Training ratings: 7971\n",
        "Testing ratings: 2029\n"
       ]
      }
     ],
     "prompt_number": 58
    },
    {
     "cell_type": "markdown",
     "metadata": {},
     "source": [
      "### Evaluation: performance criterion\n",
      "\n",
      "Performance evaluation of recommendation systems is an entire topic all in\n",
      "itself. Some of the options include:\n",
      "\n",
      "- RMSE: $\\sqrt{\\sum(\\hat y - y)^2 / n}$\n",
      "- Precision / Recall / F-scores\n",
      "- ROC curves\n",
      "- Cost curves"
     ]
    },
    {
     "cell_type": "code",
     "collapsed": false,
     "input": [
      "def compute_rmse(y_pred, y_true):\n",
      "    \"\"\" Compute Root Mean Squared Error. \"\"\"\n",
      "    return np.sqrt(np.mean(np.power(y_pred - y_true, 2)))"
     ],
     "language": "python",
     "metadata": {},
     "outputs": [],
     "prompt_number": 61
    },
    {
     "cell_type": "markdown",
     "metadata": {},
     "source": [
      "### Content-based filtering using mean ratings: first try\n",
      "\n",
      "Let's write this out on a per-user basis so that we illustrate what we referred\n",
      "to as the 'row-based' approach.\n"
     ]
    },
    {
     "cell_type": "code",
     "collapsed": false,
     "input": [
      "for u_number, row in enumerate(ratings_mtx_train[:1]):\n",
      "\n",
      "    # show intermediate steps to get this user's ratings\n",
      "    print 'Mask for user %d is %s' % (u_number, row >= 1)\n",
      "    \n",
      "    movie_ids = np.where(row >= 1)[0] # same as mask[u_number].nonzero()[0]\n",
      "    print 'Movie ids that user %d rated are %s' % (u_number, movie_ids)\n",
      "    \n",
      "    user_ratings = row[row >= 1]\n",
      "    print 'Ratings given by user %d are %s' % (u_number, user_ratings)\n",
      "\n",
      "    # compute mean rating for this user\n",
      "    mean_rating = np.mean(user_ratings)\n",
      "    print 'Mean rating for user %s is %s' % (u_number, mean_rating)\n",
      "\n",
      "    # evaluate performance of our recommendation technique\n",
      "    rmse = compute_rmse(mean_rating,\n",
      "                        ratings_mtx_test[u_number, ratings_mtx_test[u_number] >= 1])\n",
      "    print 'RMSE for user %d is %f' % (u_number, rmse)\n",
      "        "
     ],
     "language": "python",
     "metadata": {},
     "outputs": [
      {
       "output_type": "stream",
       "stream": "stdout",
       "text": [
        "Mask for user 0 is [ True False False ..., False False False]\n",
        "Movie ids that user 0 rated are [   0   39   87 ..., 1741 1749 1882]\n",
        "Ratings given by user 0 are [ 5.  5.  5. ...,  5.  4.  4.]\n",
        "Mean rating for user 0 is 4.14285714286\n",
        "RMSE for user 0 is 0.679681\n"
       ]
      }
     ],
     "prompt_number": 64
    },
    {
     "cell_type": "markdown",
     "metadata": {},
     "source": [
      "### Content-based filtering using mean ratings: full evaluation"
     ]
    },
    {
     "cell_type": "code",
     "collapsed": false,
     "input": [
      "def estimate0(user_id, item_id):\n",
      "    \"\"\" Simple content-filtering based on mean ratings. \"\"\"\n",
      "    row = ratings_mtx_train[user_id]\n",
      "    return np.mean(row[row >= 1])\n",
      "\n",
      "def estimate1(user_id, item_id):\n",
      "    \"\"\" Simple content-filtering based on mean ratings. \"\"\"\n",
      "    from scipy.stats.stats import nanmean\n",
      "    return nanmean(ratings_mtx_train[user_id])\n",
      "\n",
      "def evaluate(estimate_func):\n",
      "    \"\"\" RMSE-based predictive performance evaluation. \"\"\"\n",
      "    ids_to_estimate = np.where(~np.isnan(ratings_mtx_test))\n",
      "    estimated = [estimate_func(u,i) for (u,i) in zip(*ids_to_estimate)]\n",
      "    real = ratings_mtx_test[ids_to_estimate]\n",
      "    return compute_rmse(estimated, real)\n",
      "\n",
      "print 'RMSE for estimate0: %s' % evaluate(estimate0)\n",
      "print 'RMSE for estimate1: %s' % evaluate(estimate1)"
     ],
     "language": "python",
     "metadata": {},
     "outputs": [
      {
       "output_type": "stream",
       "stream": "stdout",
       "text": [
        "RMSE for estimate0: 0.993778539994\n",
        "RMSE for estimate1: 0.993778539994"
       ]
      },
      {
       "output_type": "stream",
       "stream": "stdout",
       "text": [
        "\n"
       ]
      }
     ],
     "prompt_number": 67
    },
    {
     "cell_type": "markdown",
     "metadata": {},
     "source": [
      "### [EXTRA] make `estimate` take a tuple of arrays"
     ]
    },
    {
     "cell_type": "code",
     "collapsed": false,
     "input": [
      "def estimate0_v(ids):\n",
      "    \"\"\" Simple content-filtering based on mean ratings. \"\"\"\n",
      "\n",
      "    def func1d(arr):\n",
      "        return np.mean(arr[arr>=1])\n",
      "\n",
      "    return np.apply_along_axis(func1d, 1, ratings_mtx_train[ids[0]])\n",
      "\n",
      "def estimate1_v(ids):\n",
      "    \"\"\" Simple content-filtering based on mean ratings. \"\"\"\n",
      "    from scipy.stats.stats import nanmean\n",
      "    \n",
      "    estimates = nanmean(ratings_mtx_train[ids[0]], axis=1)\n",
      "    return estimates\n",
      "\n",
      "\n",
      "def evaluate_v(estimate_f):\n",
      "    \"\"\" RMSE-based predictive performance evaluation. \"\"\"\n",
      "    non_nan_ids = np.where(~np.isnan(ratings_mtx_test))\n",
      "    estimated = estimate_f(non_nan_ids)\n",
      "    real = ratings_mtx_test[non_nan_ids]\n",
      "    return compute_rmse(estimated, real)\n",
      "\n",
      "print 'RMSE for estimate0_v: %s' % evaluate_v(estimate0_v)\n",
      "print 'RMSE for estimate1_v: %s' % evaluate_v(estimate1_v)"
     ],
     "language": "python",
     "metadata": {},
     "outputs": [
      {
       "output_type": "stream",
       "stream": "stdout",
       "text": [
        "RMSE for estimate0_v: 0.993778539994\n",
        "RMSE for estimate1_v: 0.993778539994"
       ]
      },
      {
       "output_type": "stream",
       "stream": "stdout",
       "text": [
        "\n"
       ]
      }
     ],
     "prompt_number": 68
    },
    {
     "cell_type": "markdown",
     "metadata": {},
     "source": [
      "--> Go to question set."
     ]
    },
    {
     "cell_type": "markdown",
     "metadata": {},
     "source": [
      "### Collaborative-based filtering using mean ratings\n",
      "\n",
      "Same idea, this time to illustrate the 'col-based' approach."
     ]
    },
    {
     "cell_type": "code",
     "collapsed": false,
     "input": [
      "def estimate2(user_id, item_id):\n",
      "    \"\"\" Simple collaborative filtering based on mean ratings. \"\"\"\n",
      "    col = ratings_mtx_train[:, item_id]\n",
      "    e = np.mean(col[col >=1])\n",
      "    if np.isnan(e): e = 3.0     # why do we need this?\n",
      "    return e\n",
      "\n",
      "def estimate3(user_id, item_id):\n",
      "    \"\"\" Simple collaborative filtering based on mean ratings. \"\"\"\n",
      "    from scipy.stats.stats import nanmean\n",
      "    e = nanmean(ratings_mtx_train[:, item_id])\n",
      "    if np.isnan(e): e = 3.0     # why do we need this?\n",
      "    return e\n",
      "\n",
      "\n",
      "print 'RMSE for estimate4: %s' % evaluate(estimate4)\n",
      "print 'RMSE for estimate5: %s' % evaluate(estimate5)"
     ],
     "language": "python",
     "metadata": {},
     "outputs": [
      {
       "output_type": "stream",
       "stream": "stdout",
       "text": [
        "RMSE for estimate4: 1.06822154579\n",
        "RMSE for estimate5: 1.06822154579"
       ]
      },
      {
       "output_type": "stream",
       "stream": "stdout",
       "text": [
        "\n"
       ]
      }
     ],
     "prompt_number": 69
    },
    {
     "cell_type": "markdown",
     "metadata": {},
     "source": [
      "To put things into perspective, here's an extract from The Netflix Prize Rules:\n",
      "\n",
      "*To qualify for the Grand Prize the RMSE of a Participant\u2019s submitted\n",
      "predictions on the test subset must be less than or equal to 90% of 0.9525, or\n",
      "0.8572 (the \"qualifying RMSE\").*"
     ]
    },
    {
     "cell_type": "markdown",
     "metadata": {},
     "source": [
      "## Similarity functions\n",
      "\n",
      "- Pearson correlation\n",
      "\n",
      "$$ sim(x,y) = \\frac{\\sum (x - \\bar x) (y - \\bar y)}{\\sqrt{\\sum (x - \\bar x)^2 \\sum (y - \\bar y)^2}} $$\n"
     ]
    },
    {
     "cell_type": "code",
     "collapsed": false,
     "input": [
      "# keep in mind that these may not be checking for edge cases!\n",
      "# take a look at np.nan_to_num\n",
      "def euclidean(v1, v2):\n",
      "    diff = v1 - v2\n",
      "    return np.sqrt(np.dot(diff, diff))\n",
      "\n",
      "def cosine(v1, v2):\n",
      "    return np.nan_to_num(\n",
      "        np.dot(v1, v2) / \\\n",
      "        np.sqrt(np.dot(v1, v1)) * np.sqrt(np.dot(v2, v2)))\n",
      "\n",
      "def pearson(v1, v2):\n",
      "    v1_c = v1 - np.mean(v1)\n",
      "    v2_c = v2 - np.mean(v2)\n",
      "    return np.nan_to_num(\n",
      "        np.dot(v1_c , v2_c) / \\\n",
      "        np.sqrt(np.dot(v1_c, v1_c) * np.dot(v2_c, v2_)))\n",
      "\n",
      "def jaccard(v1, v2):\n",
      "    dotp = np.dot(v1, v2)\n",
      "    return np.nan_to_num(\n",
      "        dotp / (np.dot(v1, v1) + np.dot(v2, v2) - dotp))\n",
      "\n",
      "def binjaccard(v1, v2):\n",
      "    dotp = np.dot(v1, v2)\n",
      "    return np.nan_to_num(\n",
      "        dotp / (v1.sum() + v2.sum() - dotp))"
     ],
     "language": "python",
     "metadata": {},
     "outputs": [],
     "prompt_number": 333
    },
    {
     "cell_type": "markdown",
     "metadata": {},
     "source": [
      "(should be at about 1.5 hours)"
     ]
    },
    {
     "cell_type": "markdown",
     "metadata": {},
     "source": [
      "## pandas: Python Data Analysis Library\n",
      "\n",
      "For the pandas introductory examples we'll be referring to the domain of\n",
      "groceries.\n",
      "\n",
      "### What is it?\n",
      "\n",
      "*Python has long been great for data munging and preparation, but less so for\n",
      "data analysis and modeling. pandas helps fill this gap, enabling you to carry\n",
      "out your entire data analysis workflow in Python without having to switch to a\n",
      "more domain specific language like R.*\n",
      "\n",
      "The heart of pandas is the DataFrame object for data manipulation. It features:\n",
      "\n",
      "- a powerful index object\n",
      "- data alignment\n",
      "- handling of missing data\n",
      "- aggregation with groupby\n",
      "- data manipuation via reshape, pivot, slice, merge, join\n",
      "\n",
      "### Series: labelled arrays\n",
      "\n",
      "The pandas Series is the simplest datastructure to start with. It is a subclass\n",
      "of ndarray that supports more meaninful indices."
     ]
    },
    {
     "cell_type": "markdown",
     "metadata": {},
     "source": [
      "#### Let's look at some creation examples for Series"
     ]
    },
    {
     "cell_type": "code",
     "collapsed": false,
     "input": [
      "import pandas as pd\n",
      "\n",
      "values = np.array([2.0, 1.0, 5.0, 0.97, 3.0, 10.0, 0.0599, 8.0])\n",
      "ser = pd.Series(values)\n",
      "ser"
     ],
     "language": "python",
     "metadata": {},
     "outputs": [
      {
       "output_type": "pyout",
       "prompt_number": 73,
       "text": [
        "0     2.0000\n",
        "1     1.0000\n",
        "2     5.0000\n",
        "3     0.9700\n",
        "4     3.0000\n",
        "5    10.0000\n",
        "6     0.0599\n",
        "7     8.0000"
       ]
      }
     ],
     "prompt_number": 73
    },
    {
     "cell_type": "code",
     "collapsed": false,
     "input": [
      "values = np.array([2.0, 1.0, 5.0, 0.97, 3.0, 10.0, 0.0599, 8.0])\n",
      "labels = ['Calcium', 'Dietary Fibre', 'Iron', 'Sodium', 'Protein', 'Carbohydrates', 'Potassium', 'Fat (Total)']\n",
      "ser = pd.Series(data=values, index=labels)\n",
      "ser\n"
     ],
     "language": "python",
     "metadata": {},
     "outputs": [
      {
       "output_type": "pyout",
       "prompt_number": 316,
       "text": [
        "Calcium           2.0000\n",
        "Dietary Fibre     1.0000\n",
        "Iron              5.0000\n",
        "Sodium            0.9700\n",
        "Protein           3.0000\n",
        "Carbohydrates    10.0000\n",
        "Potassium         0.0599\n",
        "Fat (Total)       8.0000"
       ]
      }
     ],
     "prompt_number": 316
    },
    {
     "cell_type": "code",
     "collapsed": false,
     "input": [
      "nutrition_facts = {\n",
      "    'Calcium': 2.0,\n",
      "    'Carbohydrates': 10.0,\n",
      "    'Dietary Fibre': 1.0,\n",
      "    'Fat (Total)': 8.0,\n",
      "    'Iron': 5.0,\n",
      "    'Potassium': 0.0599,\n",
      "    'Protein': 3.0,\n",
      "    'Sodium': 0.97\n",
      "}\n",
      "ser = pd.Series(nutrition_facts)\n",
      "ser\n"
     ],
     "language": "python",
     "metadata": {},
     "outputs": [
      {
       "output_type": "pyout",
       "prompt_number": 331,
       "text": [
        "Calcium           2.0000\n",
        "Carbohydrates    10.0000\n",
        "Dietary Fibre     1.0000\n",
        "Fat (Total)       8.0000\n",
        "Iron              5.0000\n",
        "Potassium         0.0599\n",
        "Protein           3.0000\n",
        "Sodium            0.9700"
       ]
      }
     ],
     "prompt_number": 331
    },
    {
     "cell_type": "code",
     "collapsed": false,
     "input": [
      "ser.index"
     ],
     "language": "python",
     "metadata": {},
     "outputs": [
      {
       "output_type": "pyout",
       "prompt_number": 332,
       "text": [
        "Index([Calcium, Carbohydrates, Dietary Fibre, ..., Potassium, Protein,\n",
        "       Sodium], dtype=object)"
       ]
      }
     ],
     "prompt_number": 332
    },
    {
     "cell_type": "code",
     "collapsed": false,
     "input": [
      "ser.values"
     ],
     "language": "python",
     "metadata": {},
     "outputs": [
      {
       "output_type": "pyout",
       "prompt_number": 333,
       "text": [
        "array([  2.    ,  10.    ,   1.    , ...,   0.0599,   3.    ,   0.97  ])"
       ]
      }
     ],
     "prompt_number": 333
    },
    {
     "cell_type": "markdown",
     "metadata": {},
     "source": [
      "#### Series Indexing"
     ]
    },
    {
     "cell_type": "code",
     "collapsed": false,
     "input": [
      "ser[0]"
     ],
     "language": "python",
     "metadata": {},
     "outputs": [
      {
       "output_type": "pyout",
       "prompt_number": 334,
       "text": [
        "2.0"
       ]
      }
     ],
     "prompt_number": 334
    },
    {
     "cell_type": "code",
     "collapsed": false,
     "input": [
      "ser['Calcium']"
     ],
     "language": "python",
     "metadata": {},
     "outputs": [
      {
       "output_type": "pyout",
       "prompt_number": 335,
       "text": [
        "2.0"
       ]
      }
     ],
     "prompt_number": 335
    },
    {
     "cell_type": "code",
     "collapsed": false,
     "input": [
      "ser.get_value('Calcium')"
     ],
     "language": "python",
     "metadata": {},
     "outputs": [
      {
       "output_type": "pyout",
       "prompt_number": 336,
       "text": [
        "2.0"
       ]
      }
     ],
     "prompt_number": 336
    },
    {
     "cell_type": "markdown",
     "metadata": {},
     "source": [
      "#### Operations between Series with different index objects"
     ]
    },
    {
     "cell_type": "code",
     "collapsed": false,
     "input": [
      "ser_1 = pd.Series(nutrition_facts)\n",
      "values = np.array([77.0, 2.5])\n",
      "labels = ['Vitamin A', 'Calcium']\n",
      "ser_2 = pd.Series(values, index=labels)\n",
      "ser_1 + ser_2\n"
     ],
     "language": "python",
     "metadata": {},
     "outputs": [
      {
       "output_type": "pyout",
       "prompt_number": 301,
       "text": [
        "Calcium          4.5\n",
        "Carbohydrates    NaN\n",
        "Dietary Fibre    NaN\n",
        "Fat (Total)      NaN\n",
        "Iron             NaN\n",
        "Potassium        NaN\n",
        "Protein          NaN\n",
        "Sodium           NaN\n",
        "Vitamin A        NaN"
       ]
      }
     ],
     "prompt_number": 301
    },
    {
     "cell_type": "markdown",
     "metadata": {},
     "source": [
      "### DataFrame\n",
      "\n",
      "The DataFrame is the 2-dimensional version of a Series.\n",
      "\n",
      "#### Let's look at some creation examples for DataFrame\n",
      "\n",
      "You can think of it as a spreadsheet whose columns are Series objects."
     ]
    },
    {
     "cell_type": "code",
     "collapsed": false,
     "input": [
      "# build from a dict of equal-length lists or ndarrays\n",
      "pd.DataFrame({'col_1': [0.12, 7, 45, 10], 'col_2': [0.9, 9, 34, 11]})"
     ],
     "language": "python",
     "metadata": {},
     "outputs": [
      {
       "html": [
        "<div style=\"max-height:1000px;max-width:1500px;overflow:auto;\">\n",
        "<table border=\"1\">\n",
        "  <thead>\n",
        "    <tr>\n",
        "      <th></th>\n",
        "      <th>col_1</th>\n",
        "      <th>col_2</th>\n",
        "    </tr>\n",
        "  </thead>\n",
        "  <tbody>\n",
        "    <tr>\n",
        "      <td><strong>0</strong></td>\n",
        "      <td>  0.12</td>\n",
        "      <td>  0.9</td>\n",
        "    </tr>\n",
        "    <tr>\n",
        "      <td><strong>1</strong></td>\n",
        "      <td>  7.00</td>\n",
        "      <td>  9.0</td>\n",
        "    </tr>\n",
        "    <tr>\n",
        "      <td><strong>2</strong></td>\n",
        "      <td> 45.00</td>\n",
        "      <td> 34.0</td>\n",
        "    </tr>\n",
        "    <tr>\n",
        "      <td><strong>3</strong></td>\n",
        "      <td> 10.00</td>\n",
        "      <td> 11.0</td>\n",
        "    </tr>\n",
        "  </tbody>\n",
        "</table>\n",
        "</div>"
       ],
       "output_type": "pyout",
       "prompt_number": 345,
       "text": [
        "   col_1  col_2\n",
        "0   0.12    0.9\n",
        "1   7.00    9.0\n",
        "2  45.00   34.0\n",
        "3  10.00   11.0"
       ]
      }
     ],
     "prompt_number": 345
    },
    {
     "cell_type": "markdown",
     "metadata": {},
     "source": [
      "You can explicitly set the column names and index values as well."
     ]
    },
    {
     "cell_type": "code",
     "collapsed": false,
     "input": [
      "pd.DataFrame(data={'col_1': [0.12, 7, 45, 10], 'col_2': [0.9, 9, 34, 11]},\n",
      "             columns=['col_1', 'col_2', 'col_3'])"
     ],
     "language": "python",
     "metadata": {},
     "outputs": [
      {
       "html": [
        "<div style=\"max-height:1000px;max-width:1500px;overflow:auto;\">\n",
        "<table border=\"1\">\n",
        "  <thead>\n",
        "    <tr>\n",
        "      <th></th>\n",
        "      <th>col_1</th>\n",
        "      <th>col_2</th>\n",
        "      <th>col_3</th>\n",
        "    </tr>\n",
        "  </thead>\n",
        "  <tbody>\n",
        "    <tr>\n",
        "      <td><strong>0</strong></td>\n",
        "      <td>  0.12</td>\n",
        "      <td>  0.9</td>\n",
        "      <td>NaN</td>\n",
        "    </tr>\n",
        "    <tr>\n",
        "      <td><strong>1</strong></td>\n",
        "      <td>  7.00</td>\n",
        "      <td>  9.0</td>\n",
        "      <td>NaN</td>\n",
        "    </tr>\n",
        "    <tr>\n",
        "      <td><strong>2</strong></td>\n",
        "      <td> 45.00</td>\n",
        "      <td> 34.0</td>\n",
        "      <td>NaN</td>\n",
        "    </tr>\n",
        "    <tr>\n",
        "      <td><strong>3</strong></td>\n",
        "      <td> 10.00</td>\n",
        "      <td> 11.0</td>\n",
        "      <td>NaN</td>\n",
        "    </tr>\n",
        "  </tbody>\n",
        "</table>\n",
        "</div>"
       ],
       "output_type": "pyout",
       "prompt_number": 353,
       "text": [
        "   col_1  col_2  col_3\n",
        "0   0.12    0.9    NaN\n",
        "1   7.00    9.0    NaN\n",
        "2  45.00   34.0    NaN\n",
        "3  10.00   11.0    NaN"
       ]
      }
     ],
     "prompt_number": 353
    },
    {
     "cell_type": "code",
     "collapsed": false,
     "input": [
      "pd.DataFrame(data={'col_1': [0.12, 7, 45, 10], 'col_2': [0.9, 9, 34, 11]},\n",
      "             columns=['col_1', 'col_2', 'col_3'],\n",
      "             index=['obs1', 'obs2', 'obs3', 'obs4'])\n"
     ],
     "language": "python",
     "metadata": {},
     "outputs": [
      {
       "html": [
        "<div style=\"max-height:1000px;max-width:1500px;overflow:auto;\">\n",
        "<table border=\"1\">\n",
        "  <thead>\n",
        "    <tr>\n",
        "      <th></th>\n",
        "      <th>col_1</th>\n",
        "      <th>col_2</th>\n",
        "      <th>col_3</th>\n",
        "    </tr>\n",
        "  </thead>\n",
        "  <tbody>\n",
        "    <tr>\n",
        "      <td><strong>obs1</strong></td>\n",
        "      <td>  0.12</td>\n",
        "      <td>  0.9</td>\n",
        "      <td>NaN</td>\n",
        "    </tr>\n",
        "    <tr>\n",
        "      <td><strong>obs2</strong></td>\n",
        "      <td>  7.00</td>\n",
        "      <td>  9.0</td>\n",
        "      <td>NaN</td>\n",
        "    </tr>\n",
        "    <tr>\n",
        "      <td><strong>obs3</strong></td>\n",
        "      <td> 45.00</td>\n",
        "      <td> 34.0</td>\n",
        "      <td>NaN</td>\n",
        "    </tr>\n",
        "    <tr>\n",
        "      <td><strong>obs4</strong></td>\n",
        "      <td> 10.00</td>\n",
        "      <td> 11.0</td>\n",
        "      <td>NaN</td>\n",
        "    </tr>\n",
        "  </tbody>\n",
        "</table>\n",
        "</div>"
       ],
       "output_type": "pyout",
       "prompt_number": 354,
       "text": [
        "      col_1  col_2  col_3\n",
        "obs1   0.12    0.9    NaN\n",
        "obs2   7.00    9.0    NaN\n",
        "obs3  45.00   34.0    NaN\n",
        "obs4  10.00   11.0    NaN"
       ]
      }
     ],
     "prompt_number": 354
    },
    {
     "cell_type": "markdown",
     "metadata": {},
     "source": [
      "You can also think of it as a dictionary of Series objects."
     ]
    },
    {
     "cell_type": "code",
     "collapsed": false,
     "input": [
      "df = pd.DataFrame({'prod_1': ser_1, 'prod_2': ser_2})\n",
      "df.columns.name = 'product ids'\n",
      "df.index.name = 'nutrition features'\n",
      "df"
     ],
     "language": "python",
     "metadata": {},
     "outputs": [
      {
       "html": [
        "<div style=\"max-height:1000px;max-width:1500px;overflow:auto;\">\n",
        "<table border=\"1\">\n",
        "  <thead>\n",
        "    <tr>\n",
        "      <th>product ids</th>\n",
        "      <th>prod_1</th>\n",
        "      <th>prod_2</th>\n",
        "    </tr>\n",
        "    <tr>\n",
        "      <th>nutrition features</th>\n",
        "      <th></th>\n",
        "      <th></th>\n",
        "    </tr>\n",
        "  </thead>\n",
        "  <tbody>\n",
        "    <tr>\n",
        "      <td><strong>Calcium</strong></td>\n",
        "      <td>  2.0000</td>\n",
        "      <td>  2.5</td>\n",
        "    </tr>\n",
        "    <tr>\n",
        "      <td><strong>Carbohydrates</strong></td>\n",
        "      <td> 10.0000</td>\n",
        "      <td>  NaN</td>\n",
        "    </tr>\n",
        "    <tr>\n",
        "      <td><strong>Dietary Fibre</strong></td>\n",
        "      <td>  1.0000</td>\n",
        "      <td>  NaN</td>\n",
        "    </tr>\n",
        "    <tr>\n",
        "      <td><strong>Fat (Total)</strong></td>\n",
        "      <td>  8.0000</td>\n",
        "      <td>  NaN</td>\n",
        "    </tr>\n",
        "    <tr>\n",
        "      <td><strong>Iron</strong></td>\n",
        "      <td>  5.0000</td>\n",
        "      <td>  NaN</td>\n",
        "    </tr>\n",
        "    <tr>\n",
        "      <td><strong>Potassium</strong></td>\n",
        "      <td>  0.0599</td>\n",
        "      <td>  NaN</td>\n",
        "    </tr>\n",
        "    <tr>\n",
        "      <td><strong>Protein</strong></td>\n",
        "      <td>  3.0000</td>\n",
        "      <td>  NaN</td>\n",
        "    </tr>\n",
        "    <tr>\n",
        "      <td><strong>Sodium</strong></td>\n",
        "      <td>  0.9700</td>\n",
        "      <td>  NaN</td>\n",
        "    </tr>\n",
        "    <tr>\n",
        "      <td><strong>Vitamin A</strong></td>\n",
        "      <td>     NaN</td>\n",
        "      <td> 77.0</td>\n",
        "    </tr>\n",
        "  </tbody>\n",
        "</table>\n",
        "</div>"
       ],
       "output_type": "pyout",
       "prompt_number": 374,
       "text": [
        "product ids          prod_1  prod_2\n",
        "nutrition features                 \n",
        "Calcium              2.0000     2.5\n",
        "Carbohydrates       10.0000     NaN\n",
        "Dietary Fibre        1.0000     NaN\n",
        "Fat (Total)          8.0000     NaN\n",
        "Iron                 5.0000     NaN\n",
        "Potassium            0.0599     NaN\n",
        "Protein              3.0000     NaN\n",
        "Sodium               0.9700     NaN\n",
        "Vitamin A               NaN    77.0"
       ]
      }
     ],
     "prompt_number": 374
    },
    {
     "cell_type": "code",
     "collapsed": false,
     "input": [
      "df.columns "
     ],
     "language": "python",
     "metadata": {},
     "outputs": [
      {
       "output_type": "pyout",
       "prompt_number": 375,
       "text": [
        "Index([prod_1, prod_2], dtype=object)"
       ]
      }
     ],
     "prompt_number": 375
    },
    {
     "cell_type": "code",
     "collapsed": false,
     "input": [
      "df.index"
     ],
     "language": "python",
     "metadata": {},
     "outputs": [
      {
       "output_type": "pyout",
       "prompt_number": 376,
       "text": [
        "Index([Calcium, Carbohydrates, Dietary Fibre, ..., Protein, Sodium,\n",
        "       Vitamin A], dtype=object)"
       ]
      }
     ],
     "prompt_number": 376
    },
    {
     "cell_type": "code",
     "collapsed": false,
     "input": [
      "df.T"
     ],
     "language": "python",
     "metadata": {},
     "outputs": [
      {
       "output_type": "pyout",
       "prompt_number": 377,
       "text": [
        "<class 'pandas.core.frame.DataFrame'>\n",
        "Index: 2 entries, prod_1 to prod_2\n",
        "Data columns:\n",
        "Calcium          2  non-null values\n",
        "Carbohydrates    1  non-null values\n",
        "Dietary Fibre    1  non-null values\n",
        "Fat (Total)      1  non-null values\n",
        "Iron             1  non-null values\n",
        "Potassium        1  non-null values\n",
        "Protein          1  non-null values\n",
        "Sodium           1  non-null values\n",
        "Vitamin A        1  non-null values\n",
        "dtypes: float64(9)"
       ]
      }
     ],
     "prompt_number": 377
    },
    {
     "cell_type": "markdown",
     "metadata": {},
     "source": [
      "#### Adding/Deleting entries"
     ]
    },
    {
     "cell_type": "code",
     "collapsed": false,
     "input": [
      "df = pd.DataFrame({'prod_1': ser_1, 'prod_2': ser_2})\n",
      "df.drop('Calcium', axis=0)"
     ],
     "language": "python",
     "metadata": {},
     "outputs": [
      {
       "html": [
        "<div style=\"max-height:1000px;max-width:1500px;overflow:auto;\">\n",
        "<table border=\"1\">\n",
        "  <thead>\n",
        "    <tr>\n",
        "      <th></th>\n",
        "      <th>prod_1</th>\n",
        "      <th>prod_2</th>\n",
        "    </tr>\n",
        "  </thead>\n",
        "  <tbody>\n",
        "    <tr>\n",
        "      <td><strong>Carbohydrates</strong></td>\n",
        "      <td> 10.0000</td>\n",
        "      <td>NaN</td>\n",
        "    </tr>\n",
        "    <tr>\n",
        "      <td><strong>Dietary Fibre</strong></td>\n",
        "      <td>  1.0000</td>\n",
        "      <td>NaN</td>\n",
        "    </tr>\n",
        "    <tr>\n",
        "      <td><strong>Fat (Total)</strong></td>\n",
        "      <td>  8.0000</td>\n",
        "      <td>NaN</td>\n",
        "    </tr>\n",
        "    <tr>\n",
        "      <td><strong>Iron</strong></td>\n",
        "      <td>  5.0000</td>\n",
        "      <td>NaN</td>\n",
        "    </tr>\n",
        "    <tr>\n",
        "      <td><strong>Potassium</strong></td>\n",
        "      <td>  0.0599</td>\n",
        "      <td>NaN</td>\n",
        "    </tr>\n",
        "    <tr>\n",
        "      <td><strong>Protein</strong></td>\n",
        "      <td>  3.0000</td>\n",
        "      <td>NaN</td>\n",
        "    </tr>\n",
        "    <tr>\n",
        "      <td><strong>Sodium</strong></td>\n",
        "      <td>  0.9700</td>\n",
        "      <td>NaN</td>\n",
        "    </tr>\n",
        "    <tr>\n",
        "      <td><strong>Vitamin A</strong></td>\n",
        "      <td>     NaN</td>\n",
        "      <td> 77</td>\n",
        "    </tr>\n",
        "  </tbody>\n",
        "</table>\n",
        "</div>"
       ],
       "output_type": "pyout",
       "prompt_number": 900,
       "text": [
        "                prod_1  prod_2\n",
        "Carbohydrates  10.0000     NaN\n",
        "Dietary Fibre   1.0000     NaN\n",
        "Fat (Total)     8.0000     NaN\n",
        "Iron            5.0000     NaN\n",
        "Potassium       0.0599     NaN\n",
        "Protein         3.0000     NaN\n",
        "Sodium          0.9700     NaN\n",
        "Vitamin A          NaN      77"
       ]
      }
     ],
     "prompt_number": 900
    },
    {
     "cell_type": "code",
     "collapsed": false,
     "input": [
      "df.drop('prod_1', axis=1)"
     ],
     "language": "python",
     "metadata": {},
     "outputs": [
      {
       "html": [
        "<div style=\"max-height:1000px;max-width:1500px;overflow:auto;\">\n",
        "<table border=\"1\">\n",
        "  <thead>\n",
        "    <tr>\n",
        "      <th></th>\n",
        "      <th>prod_2</th>\n",
        "    </tr>\n",
        "  </thead>\n",
        "  <tbody>\n",
        "    <tr>\n",
        "      <td><strong>Calcium</strong></td>\n",
        "      <td>  2.5</td>\n",
        "    </tr>\n",
        "    <tr>\n",
        "      <td><strong>Carbohydrates</strong></td>\n",
        "      <td>  NaN</td>\n",
        "    </tr>\n",
        "    <tr>\n",
        "      <td><strong>Dietary Fibre</strong></td>\n",
        "      <td>  NaN</td>\n",
        "    </tr>\n",
        "    <tr>\n",
        "      <td><strong>Fat (Total)</strong></td>\n",
        "      <td>  NaN</td>\n",
        "    </tr>\n",
        "    <tr>\n",
        "      <td><strong>Iron</strong></td>\n",
        "      <td>  NaN</td>\n",
        "    </tr>\n",
        "    <tr>\n",
        "      <td><strong>Potassium</strong></td>\n",
        "      <td>  NaN</td>\n",
        "    </tr>\n",
        "    <tr>\n",
        "      <td><strong>Protein</strong></td>\n",
        "      <td>  NaN</td>\n",
        "    </tr>\n",
        "    <tr>\n",
        "      <td><strong>Sodium</strong></td>\n",
        "      <td>  NaN</td>\n",
        "    </tr>\n",
        "    <tr>\n",
        "      <td><strong>Vitamin A</strong></td>\n",
        "      <td> 77.0</td>\n",
        "    </tr>\n",
        "  </tbody>\n",
        "</table>\n",
        "</div>"
       ],
       "output_type": "pyout",
       "prompt_number": 901,
       "text": [
        "               prod_2\n",
        "Calcium           2.5\n",
        "Carbohydrates     NaN\n",
        "Dietary Fibre     NaN\n",
        "Fat (Total)       NaN\n",
        "Iron              NaN\n",
        "Potassium         NaN\n",
        "Protein           NaN\n",
        "Sodium            NaN\n",
        "Vitamin A        77.0"
       ]
      }
     ],
     "prompt_number": 901
    },
    {
     "cell_type": "code",
     "collapsed": false,
     "input": [
      "df['prod_3'] = np.array([1,2,3,4,5,6,7,8,9])\n",
      "df"
     ],
     "language": "python",
     "metadata": {},
     "outputs": [
      {
       "html": [
        "<div style=\"max-height:1000px;max-width:1500px;overflow:auto;\">\n",
        "<table border=\"1\">\n",
        "  <thead>\n",
        "    <tr>\n",
        "      <th></th>\n",
        "      <th>prod_1</th>\n",
        "      <th>prod_2</th>\n",
        "      <th>prod_3</th>\n",
        "    </tr>\n",
        "  </thead>\n",
        "  <tbody>\n",
        "    <tr>\n",
        "      <td><strong>Calcium</strong></td>\n",
        "      <td>  2.0000</td>\n",
        "      <td>  2.5</td>\n",
        "      <td> 1</td>\n",
        "    </tr>\n",
        "    <tr>\n",
        "      <td><strong>Carbohydrates</strong></td>\n",
        "      <td> 10.0000</td>\n",
        "      <td>  NaN</td>\n",
        "      <td> 2</td>\n",
        "    </tr>\n",
        "    <tr>\n",
        "      <td><strong>Dietary Fibre</strong></td>\n",
        "      <td>  1.0000</td>\n",
        "      <td>  NaN</td>\n",
        "      <td> 3</td>\n",
        "    </tr>\n",
        "    <tr>\n",
        "      <td><strong>Fat (Total)</strong></td>\n",
        "      <td>  8.0000</td>\n",
        "      <td>  NaN</td>\n",
        "      <td> 4</td>\n",
        "    </tr>\n",
        "    <tr>\n",
        "      <td><strong>Iron</strong></td>\n",
        "      <td>  5.0000</td>\n",
        "      <td>  NaN</td>\n",
        "      <td> 5</td>\n",
        "    </tr>\n",
        "    <tr>\n",
        "      <td><strong>Potassium</strong></td>\n",
        "      <td>  0.0599</td>\n",
        "      <td>  NaN</td>\n",
        "      <td> 6</td>\n",
        "    </tr>\n",
        "    <tr>\n",
        "      <td><strong>Protein</strong></td>\n",
        "      <td>  3.0000</td>\n",
        "      <td>  NaN</td>\n",
        "      <td> 7</td>\n",
        "    </tr>\n",
        "    <tr>\n",
        "      <td><strong>Sodium</strong></td>\n",
        "      <td>  0.9700</td>\n",
        "      <td>  NaN</td>\n",
        "      <td> 8</td>\n",
        "    </tr>\n",
        "    <tr>\n",
        "      <td><strong>Vitamin A</strong></td>\n",
        "      <td>     NaN</td>\n",
        "      <td> 77.0</td>\n",
        "      <td> 9</td>\n",
        "    </tr>\n",
        "  </tbody>\n",
        "</table>\n",
        "</div>"
       ],
       "output_type": "pyout",
       "prompt_number": 904,
       "text": [
        "                prod_1  prod_2  prod_3\n",
        "Calcium         2.0000     2.5       1\n",
        "Carbohydrates  10.0000     NaN       2\n",
        "Dietary Fibre   1.0000     NaN       3\n",
        "Fat (Total)     8.0000     NaN       4\n",
        "Iron            5.0000     NaN       5\n",
        "Potassium       0.0599     NaN       6\n",
        "Protein         3.0000     NaN       7\n",
        "Sodium          0.9700     NaN       8\n",
        "Vitamin A          NaN    77.0       9"
       ]
      }
     ],
     "prompt_number": 904
    },
    {
     "cell_type": "markdown",
     "metadata": {},
     "source": [
      "(should be at about 1 hr 45')"
     ]
    },
    {
     "cell_type": "markdown",
     "metadata": {},
     "source": [
      "--> Got to question set"
     ]
    },
    {
     "cell_type": "markdown",
     "metadata": {},
     "source": [
      "## Advanced manipulation of the MovieLens dataset\n",
      "\n",
      "The MovieLens data is spread across three files. Using the `pd.read_table`\n",
      "method we load each file:"
     ]
    },
    {
     "cell_type": "code",
     "collapsed": false,
     "input": [
      "import pandas as pd\n",
      "\n",
      "unames = ['user_id', 'gender', 'age', 'occupation', 'zip']\n",
      "users = pd.read_table('data/ml-1m/users.dat',\n",
      "                      sep='::', header=None, names=unames)\n",
      "\n",
      "rnames = ['user_id', 'movie_id', 'rating', 'timestamp']\n",
      "ratings = pd.read_table('data/ml-1m/ratings.dat',\n",
      "                        sep='::', header=None, names=rnames)\n",
      "\n",
      "mnames = ['movie_id', 'title', 'genres']\n",
      "movies = pd.read_table('data/ml-1m/movies.dat',\n",
      "                       sep='::', header=None, names=mnames)\n",
      "\n",
      "# show how one of them looks\n",
      "ratings.head(5)\n"
     ],
     "language": "python",
     "metadata": {},
     "outputs": [
      {
       "html": [
        "<div style=\"max-height:1000px;max-width:1500px;overflow:auto;\">\n",
        "<table border=\"1\" class=\"dataframe\">\n",
        "  <thead>\n",
        "    <tr style=\"text-align: right;\">\n",
        "      <th></th>\n",
        "      <th>user_id</th>\n",
        "      <th>movie_id</th>\n",
        "      <th>rating</th>\n",
        "      <th>timestamp</th>\n",
        "    </tr>\n",
        "  </thead>\n",
        "  <tbody>\n",
        "    <tr>\n",
        "      <th>0</th>\n",
        "      <td> 1</td>\n",
        "      <td> 1193</td>\n",
        "      <td> 5</td>\n",
        "      <td> 978300760</td>\n",
        "    </tr>\n",
        "    <tr>\n",
        "      <th>1</th>\n",
        "      <td> 1</td>\n",
        "      <td>  661</td>\n",
        "      <td> 3</td>\n",
        "      <td> 978302109</td>\n",
        "    </tr>\n",
        "    <tr>\n",
        "      <th>2</th>\n",
        "      <td> 1</td>\n",
        "      <td>  914</td>\n",
        "      <td> 3</td>\n",
        "      <td> 978301968</td>\n",
        "    </tr>\n",
        "    <tr>\n",
        "      <th>3</th>\n",
        "      <td> 1</td>\n",
        "      <td> 3408</td>\n",
        "      <td> 4</td>\n",
        "      <td> 978300275</td>\n",
        "    </tr>\n",
        "    <tr>\n",
        "      <th>4</th>\n",
        "      <td> 1</td>\n",
        "      <td> 2355</td>\n",
        "      <td> 5</td>\n",
        "      <td> 978824291</td>\n",
        "    </tr>\n",
        "  </tbody>\n",
        "</table>\n",
        "</div>"
       ],
       "output_type": "pyout",
       "prompt_number": 75,
       "text": [
        "   user_id  movie_id  rating  timestamp\n",
        "0        1      1193       5  978300760\n",
        "1        1       661       3  978302109\n",
        "2        1       914       3  978301968\n",
        "3        1      3408       4  978300275\n",
        "4        1      2355       5  978824291"
       ]
      }
     ],
     "prompt_number": 75
    },
    {
     "cell_type": "markdown",
     "metadata": {},
     "source": [
      "### Merging\n",
      "\n",
      "Using `pd.merge` we can get it all into  one big DataFrame."
     ]
    },
    {
     "cell_type": "code",
     "collapsed": false,
     "input": [
      "movielens = pd.merge(pd.merge(ratings, users), movies)\n",
      "# let's work with a smaller subset for speed reasons\n",
      "movielens = movielens[:10000]\n",
      "movielens\n"
     ],
     "language": "python",
     "metadata": {},
     "outputs": [
      {
       "output_type": "pyout",
       "prompt_number": 76,
       "text": [
        "<class 'pandas.core.frame.DataFrame'>\n",
        "Int64Index: 10000 entries, 0 to 9999\n",
        "Data columns:\n",
        "user_id       10000  non-null values\n",
        "movie_id      10000  non-null values\n",
        "rating        10000  non-null values\n",
        "timestamp     10000  non-null values\n",
        "gender        10000  non-null values\n",
        "age           10000  non-null values\n",
        "occupation    10000  non-null values\n",
        "zip           10000  non-null values\n",
        "title         10000  non-null values\n",
        "genres        10000  non-null values\n",
        "dtypes: int64(6), object(4)"
       ]
      }
     ],
     "prompt_number": 76
    },
    {
     "cell_type": "code",
     "collapsed": false,
     "input": [
      "movielens.head(1)"
     ],
     "language": "python",
     "metadata": {},
     "outputs": [
      {
       "html": [
        "<div style=\"max-height:1000px;max-width:1500px;overflow:auto;\">\n",
        "<table border=\"1\" class=\"dataframe\">\n",
        "  <thead>\n",
        "    <tr style=\"text-align: right;\">\n",
        "      <th></th>\n",
        "      <th>user_id</th>\n",
        "      <th>movie_id</th>\n",
        "      <th>rating</th>\n",
        "      <th>timestamp</th>\n",
        "      <th>gender</th>\n",
        "      <th>age</th>\n",
        "      <th>occupation</th>\n",
        "      <th>zip</th>\n",
        "      <th>title</th>\n",
        "      <th>genres</th>\n",
        "    </tr>\n",
        "  </thead>\n",
        "  <tbody>\n",
        "    <tr>\n",
        "      <th>0</th>\n",
        "      <td> 1</td>\n",
        "      <td> 1193</td>\n",
        "      <td> 5</td>\n",
        "      <td> 978300760</td>\n",
        "      <td> F</td>\n",
        "      <td> 1</td>\n",
        "      <td> 10</td>\n",
        "      <td> 48067</td>\n",
        "      <td> One Flew Over the Cuckoo's Nest (1975)</td>\n",
        "      <td> Drama</td>\n",
        "    </tr>\n",
        "  </tbody>\n",
        "</table>\n",
        "</div>"
       ],
       "output_type": "pyout",
       "prompt_number": 79,
       "text": [
        "   user_id  movie_id  rating  timestamp gender  age  occupation    zip  \\\n",
        "0        1      1193       5  978300760      F    1          10  48067   \n",
        "\n",
        "                                    title genres  \n",
        "0  One Flew Over the Cuckoo's Nest (1975)  Drama  "
       ]
      }
     ],
     "prompt_number": 79
    },
    {
     "cell_type": "markdown",
     "metadata": {},
     "source": [
      "### Groupby\n",
      "\n",
      "The idea of groupby is that of *split-apply-combine*:\n",
      "\n",
      "- split data in an object according to a given key;\n",
      "- apply a function to each subset;\n",
      "- combine results into a new object."
     ]
    },
    {
     "cell_type": "code",
     "collapsed": false,
     "input": [
      "movielens.groupby('gender')['rating'].mean()"
     ],
     "language": "python",
     "metadata": {},
     "outputs": [
      {
       "output_type": "pyout",
       "prompt_number": 80,
       "text": [
        "gender\n",
        "F         4.145863\n",
        "M         4.096026\n",
        "Name: rating"
       ]
      }
     ],
     "prompt_number": 80
    },
    {
     "cell_type": "code",
     "collapsed": false,
     "input": [
      "movielens.groupby(['gender', 'age'])['rating'].mean()"
     ],
     "language": "python",
     "metadata": {},
     "outputs": [
      {
       "output_type": "pyout",
       "prompt_number": 170,
       "text": [
        "gender  age\n",
        "F       1      3.992366\n",
        "        18     4.145251\n",
        "        25     4.212462\n",
        "        35     4.126316\n",
        "        45     4.039526\n",
        "        50     4.025253\n",
        "        56     4.272059\n",
        "M       1      3.809045\n",
        "        18     4.055638\n",
        "        25     4.117165\n",
        "        35     4.110884\n",
        "        45     4.068966\n",
        "        50     4.160752\n",
        "        56     4.144231\n",
        "Name: rating"
       ]
      }
     ],
     "prompt_number": 170
    },
    {
     "cell_type": "markdown",
     "metadata": {},
     "source": [
      "### Pivoting\n",
      "\n",
      "Let's start with a simple pivoting example that does not involve any\n",
      "aggregation. This is how we obtained the ratings matrix that we've been working\n",
      "with."
     ]
    },
    {
     "cell_type": "code",
     "collapsed": false,
     "input": [
      "# work with a smaller subset for speed reasons\n",
      "ratings_subset = ratings[:10000]\n",
      "# transform the ratings frame into a ratings matrix and savetxt it\n",
      "ratings_mtx_df = ratings_subset.pivot_table(values='rating',\n",
      "                                            rows='user_id',\n",
      "                                            cols='movie_id')\n",
      "ratings_mtx = ratings_mtx_df.as_matrix()\n",
      "np.savetxt('data/movielens_ratings_mtx.csv',\n",
      "           ratings_mtx, fmt='%.1f', delimiter=',')\n"
     ],
     "language": "python",
     "metadata": {},
     "outputs": [],
     "prompt_number": 172
    },
    {
     "cell_type": "markdown",
     "metadata": {},
     "source": [
      "The more interesting case with `pivot_table` is as an interface to\n",
      "`groupby`:"
     ]
    },
    {
     "cell_type": "code",
     "collapsed": false,
     "input": [
      "movielens.groupby(['gender', 'title'])['rating'].mean()"
     ],
     "language": "python",
     "metadata": {},
     "outputs": [
      {
       "output_type": "pyout",
       "prompt_number": 173,
       "text": [
        "gender  title                                 \n",
        "F       Ben-Hur (1959)                            3.976562\n",
        "        Bug's Life, A (1998)                      3.927505\n",
        "        Christmas Story, A (1983)                 4.297959\n",
        "        Erin Brockovich (2000)                    4.007126\n",
        "        James and the Giant Peach (1996)          3.459627\n",
        "        My Fair Lady (1964)                       4.336667\n",
        "        One Flew Over the Cuckoo's Nest (1975)    4.310811\n",
        "        Princess Bride, The (1987)                4.342767\n",
        "M       Ben-Hur (1959)                            4.140625\n",
        "        Bug's Life, A (1998)                      3.826580\n",
        "        Christmas Story, A (1983)                 4.218335\n",
        "        Erin Brockovich (2000)                    3.796421\n",
        "        James and the Giant Peach (1996)          3.467033\n",
        "        My Fair Lady (1964)                       3.991071\n",
        "        One Flew Over the Cuckoo's Nest (1975)    4.418423\n",
        "        Princess Bride, The (1987)                4.288942\n",
        "Name: rating"
       ]
      }
     ],
     "prompt_number": 173
    },
    {
     "cell_type": "code",
     "collapsed": false,
     "input": [
      "movielens.groupby(['gender', 'title'])['rating'].mean().unstack('gender')"
     ],
     "language": "python",
     "metadata": {},
     "outputs": [
      {
       "html": [
        "<div style=\"max-height:1000px;max-width:1500px;overflow:auto;\">\n",
        "<table border=\"1\" class=\"dataframe\">\n",
        "  <thead>\n",
        "    <tr style=\"text-align: right;\">\n",
        "      <th>gender</th>\n",
        "      <th>F</th>\n",
        "      <th>M</th>\n",
        "    </tr>\n",
        "    <tr>\n",
        "      <th>title</th>\n",
        "      <th></th>\n",
        "      <th></th>\n",
        "    </tr>\n",
        "  </thead>\n",
        "  <tbody>\n",
        "    <tr>\n",
        "      <th>Ben-Hur (1959)</th>\n",
        "      <td> 3.976562</td>\n",
        "      <td> 4.140625</td>\n",
        "    </tr>\n",
        "    <tr>\n",
        "      <th>Bug's Life, A (1998)</th>\n",
        "      <td> 3.927505</td>\n",
        "      <td> 3.826580</td>\n",
        "    </tr>\n",
        "    <tr>\n",
        "      <th>Christmas Story, A (1983)</th>\n",
        "      <td> 4.297959</td>\n",
        "      <td> 4.218335</td>\n",
        "    </tr>\n",
        "    <tr>\n",
        "      <th>Erin Brockovich (2000)</th>\n",
        "      <td> 4.007126</td>\n",
        "      <td> 3.796421</td>\n",
        "    </tr>\n",
        "    <tr>\n",
        "      <th>James and the Giant Peach (1996)</th>\n",
        "      <td> 3.459627</td>\n",
        "      <td> 3.467033</td>\n",
        "    </tr>\n",
        "    <tr>\n",
        "      <th>My Fair Lady (1964)</th>\n",
        "      <td> 4.336667</td>\n",
        "      <td> 3.991071</td>\n",
        "    </tr>\n",
        "    <tr>\n",
        "      <th>One Flew Over the Cuckoo's Nest (1975)</th>\n",
        "      <td> 4.310811</td>\n",
        "      <td> 4.418423</td>\n",
        "    </tr>\n",
        "    <tr>\n",
        "      <th>Princess Bride, The (1987)</th>\n",
        "      <td> 4.342767</td>\n",
        "      <td> 4.288942</td>\n",
        "    </tr>\n",
        "  </tbody>\n",
        "</table>\n",
        "</div>"
       ],
       "output_type": "pyout",
       "prompt_number": 174,
       "text": [
        "gender                                         F         M\n",
        "title                                                     \n",
        "Ben-Hur (1959)                          3.976562  4.140625\n",
        "Bug's Life, A (1998)                    3.927505  3.826580\n",
        "Christmas Story, A (1983)               4.297959  4.218335\n",
        "Erin Brockovich (2000)                  4.007126  3.796421\n",
        "James and the Giant Peach (1996)        3.459627  3.467033\n",
        "My Fair Lady (1964)                     4.336667  3.991071\n",
        "One Flew Over the Cuckoo's Nest (1975)  4.310811  4.418423\n",
        "Princess Bride, The (1987)              4.342767  4.288942"
       ]
      }
     ],
     "prompt_number": 174
    },
    {
     "cell_type": "code",
     "collapsed": false,
     "input": [
      "movielens.pivot_table('rating', rows='title', cols='gender')\n"
     ],
     "language": "python",
     "metadata": {},
     "outputs": [
      {
       "html": [
        "<div style=\"max-height:1000px;max-width:1500px;overflow:auto;\">\n",
        "<table border=\"1\" class=\"dataframe\">\n",
        "  <thead>\n",
        "    <tr style=\"text-align: right;\">\n",
        "      <th>gender</th>\n",
        "      <th>F</th>\n",
        "      <th>M</th>\n",
        "    </tr>\n",
        "    <tr>\n",
        "      <th>title</th>\n",
        "      <th></th>\n",
        "      <th></th>\n",
        "    </tr>\n",
        "  </thead>\n",
        "  <tbody>\n",
        "    <tr>\n",
        "      <th>Ben-Hur (1959)</th>\n",
        "      <td> 3.976562</td>\n",
        "      <td> 4.140625</td>\n",
        "    </tr>\n",
        "    <tr>\n",
        "      <th>Bug's Life, A (1998)</th>\n",
        "      <td> 3.927505</td>\n",
        "      <td> 3.826580</td>\n",
        "    </tr>\n",
        "    <tr>\n",
        "      <th>Christmas Story, A (1983)</th>\n",
        "      <td> 4.297959</td>\n",
        "      <td> 4.218335</td>\n",
        "    </tr>\n",
        "    <tr>\n",
        "      <th>Erin Brockovich (2000)</th>\n",
        "      <td> 4.007126</td>\n",
        "      <td> 3.796421</td>\n",
        "    </tr>\n",
        "    <tr>\n",
        "      <th>James and the Giant Peach (1996)</th>\n",
        "      <td> 3.459627</td>\n",
        "      <td> 3.467033</td>\n",
        "    </tr>\n",
        "    <tr>\n",
        "      <th>My Fair Lady (1964)</th>\n",
        "      <td> 4.336667</td>\n",
        "      <td> 3.991071</td>\n",
        "    </tr>\n",
        "    <tr>\n",
        "      <th>One Flew Over the Cuckoo's Nest (1975)</th>\n",
        "      <td> 4.310811</td>\n",
        "      <td> 4.418423</td>\n",
        "    </tr>\n",
        "    <tr>\n",
        "      <th>Princess Bride, The (1987)</th>\n",
        "      <td> 4.342767</td>\n",
        "      <td> 4.288942</td>\n",
        "    </tr>\n",
        "  </tbody>\n",
        "</table>\n",
        "</div>"
       ],
       "output_type": "pyout",
       "prompt_number": 175,
       "text": [
        "gender                                         F         M\n",
        "title                                                     \n",
        "Ben-Hur (1959)                          3.976562  4.140625\n",
        "Bug's Life, A (1998)                    3.927505  3.826580\n",
        "Christmas Story, A (1983)               4.297959  4.218335\n",
        "Erin Brockovich (2000)                  4.007126  3.796421\n",
        "James and the Giant Peach (1996)        3.459627  3.467033\n",
        "My Fair Lady (1964)                     4.336667  3.991071\n",
        "One Flew Over the Cuckoo's Nest (1975)  4.310811  4.418423\n",
        "Princess Bride, The (1987)              4.342767  4.288942"
       ]
      }
     ],
     "prompt_number": 175
    },
    {
     "cell_type": "markdown",
     "metadata": {},
     "source": [
      "## Back to our recommendation engine code"
     ]
    },
    {
     "cell_type": "markdown",
     "metadata": {},
     "source": [
      "### Basic evaluation revisited: train and test sets generation with pandas\n",
      "\n",
      "The first step, just like before, will be to make sure we've got at least 2\n",
      "ratings per user."
     ]
    },
    {
     "cell_type": "code",
     "collapsed": false,
     "input": [
      "user_ids_larger_1 = pd.value_counts(movielens.user_id, sort=False) > 1\n",
      "movielens = movielens[user_ids_larger_1[movielens.user_id]]\n",
      "np.all(movielens.user_id.value_counts() > 1)"
     ],
     "language": "python",
     "metadata": {},
     "outputs": [
      {
       "output_type": "pyout",
       "prompt_number": 273,
       "text": [
        "True"
       ]
      }
     ],
     "prompt_number": 273
    },
    {
     "cell_type": "markdown",
     "metadata": {},
     "source": [
      "Using the one-line-per-rating format in the original DataFrame, we can generate\n",
      "train and test subsets using groupby and apply."
     ]
    },
    {
     "cell_type": "code",
     "collapsed": false,
     "input": [
      "def assign_to_set(df):\n",
      "    sampled_ids = np.random.choice(df.index,\n",
      "                                   size=np.int64(np.ceil(df.index.size * 0.2)),\n",
      "                                   replace=False)\n",
      "    df.ix[sampled_ids] = True\n",
      "    return df\n",
      "\n",
      "np.random.seed(4)\n",
      "movielens['for_testing'] = False\n",
      "grouped = movielens.groupby('user_id', group_keys=False).apply(assign_to_set)\n",
      "movielens_train = movielens[grouped.for_testing == False]\n",
      "movielens_test = movielens[grouped.for_testing == True]\n",
      "print movielens_train.index.size\n",
      "print movielens_test.index.size\n",
      "print movielens_train.index & movielens_test.index"
     ],
     "language": "python",
     "metadata": {},
     "outputs": [
      {
       "output_type": "stream",
       "stream": "stdout",
       "text": [
        "5399\n",
        "4601\n",
        "Int64Index([], dtype=int64)\n"
       ]
      }
     ],
     "prompt_number": 81
    },
    {
     "cell_type": "markdown",
     "metadata": {},
     "source": [
      "### Basic evaluation revisited: `evaluate_new`"
     ]
    },
    {
     "cell_type": "code",
     "collapsed": false,
     "input": [
      "def evaluate_new(estimate_f):\n",
      "    \"\"\" RMSE-based predictive performance evaluation with pandas. \"\"\"\n",
      "    ids_to_estimate = zip(movielens_test.user_id, movielens_test.movie_id)\n",
      "    estimated = [estimate_f(u,i) for (u,i) in ids_to_estimate]\n",
      "    real = movielens_test.rating\n",
      "    return compute_rmse(estimated, real)\n"
     ],
     "language": "python",
     "metadata": {},
     "outputs": [],
     "prompt_number": 83
    },
    {
     "cell_type": "markdown",
     "metadata": {},
     "source": [
      "### Content-based filtering using mean ratings\n",
      "\n",
      "With this table-like representation of the ratings data, a basic content-based\n",
      "filter becomes a one-liner function."
     ]
    },
    {
     "cell_type": "code",
     "collapsed": false,
     "input": [
      "def estimate5(user_id, item_id):\n",
      "    \"\"\" Simple content-filtering based on mean ratings. \"\"\"\n",
      "    return movielens_train.ix[movielens_train.user_id == user_id, 'rating'].mean()\n",
      "\n",
      "print 'RMSE for estimate5: %s' % evaluate_new(estimate5)"
     ],
     "language": "python",
     "metadata": {},
     "outputs": [
      {
       "output_type": "stream",
       "stream": "stdout",
       "text": [
        "RMSE for estimate5: 1.0917422518\n"
       ]
      }
     ],
     "prompt_number": 84
    },
    {
     "cell_type": "markdown",
     "metadata": {},
     "source": [
      "### Collaborative-based filtering using mean ratings"
     ]
    },
    {
     "cell_type": "code",
     "collapsed": false,
     "input": [
      "def estimate6(user_id, item_id):\n",
      "    \"\"\" Simple collaborative filter based on mean ratings. \"\"\"\n",
      "    return movielens_train.ix[movielens_train.movie_id == item_id, 'rating'].mean()\n",
      "\n",
      "print 'RMSE for estimate5: %s' % evaluate_new(estimate6)"
     ],
     "language": "python",
     "metadata": {},
     "outputs": [
      {
       "output_type": "stream",
       "stream": "stdout",
       "text": [
        "RMSE for estimate5: 0.877494937657\n"
       ]
      }
     ],
     "prompt_number": 85
    },
    {
     "cell_type": "markdown",
     "metadata": {},
     "source": [
      "--- bring in formulae for general aggr funcs"
     ]
    },
    {
     "cell_type": "markdown",
     "metadata": {},
     "source": [
      "### Collaborative-based filtering using mean ratings: generalized\n",
      "\n",
      "A col-based approach with an implicit `sim(u,u')` function."
     ]
    },
    {
     "cell_type": "code",
     "collapsed": false,
     "input": [
      "def estimate7(user_id, item_id):\n",
      "    \"\"\" Collaborative filtering using an implicit sim(u,u'). \"\"\"\n",
      "    df_subset = movielens_train[movielens_train.movie_id == item_id]\n",
      "    movie_means = df_subset.groupby('gender')['rating'].mean()\n",
      "    return movie_means[users.ix[user_id, 'gender']]\n",
      "\n",
      "print 'RMSE for estimate7: %s' % evaluate_new(estimate7)"
     ],
     "language": "python",
     "metadata": {},
     "outputs": [
      {
       "output_type": "stream",
       "stream": "stdout",
       "text": [
        "RMSE for estimate7: 0.8797764713\n"
       ]
      }
     ],
     "prompt_number": 311
    },
    {
     "cell_type": "markdown",
     "metadata": {},
     "source": [
      "## Explicit sim functions"
     ]
    },
    {
     "cell_type": "code",
     "collapsed": false,
     "input": [
      "def learn(X_train=None):\n",
      "    \"\"\" Build a content-based user profile. \"\"\"\n",
      "    self.user_profile = self.aggr(X_train)\n",
      "\n",
      "def estimate(X_test):\n",
      "    \"\"\" Compute scores for items in X_test. \"\"\"\n",
      "     return self.sim(self.user_profile, X_test)"
     ],
     "language": "python",
     "metadata": {},
     "outputs": [],
     "prompt_number": 1
    },
    {
     "cell_type": "markdown",
     "metadata": {},
     "source": [
      "## Descriptive stats of our grocery dataset\n",
      "\n",
      "In this section we'll take a look at some of pandas' descriptive stats\n",
      "capabilities and we'll learn to visualize those with matplotlib in the next\n",
      "section.\n",
      "\n",
      "Let's start out by loading our product information into a\n",
      "DataFrame."
     ]
    },
    {
     "cell_type": "code",
     "collapsed": false,
     "input": [
      "import numpy as np\n",
      "import pandas as pd\n",
      "\n",
      "nutri_df = pd.read_csv('data/nutri_df_1k.csv', index_col=0)\n",
      "nutri_df.index.name = 'product_ids'\n",
      "nutri_df.columns.name = 'nutrition facts'\n"
     ],
     "language": "python",
     "metadata": {},
     "outputs": [
      {
       "output_type": "pyout",
       "prompt_number": 440,
       "text": [
        "<class 'pandas.core.frame.DataFrame'>\n",
        "Int64Index: 1000 entries, 2767 to 52381\n",
        "Data columns:\n",
        "(Omega-3 Poly)          24  non-null values\n",
        "(Omega-6 Poly)          22  non-null values\n",
        "+ Trans Fat             99  non-null values\n",
        "Biotin (B)              0  non-null values\n",
        "Calcium                 15  non-null values\n",
        "Carbohydrates           507  non-null values\n",
        "Cholesterol             432  non-null values\n",
        "Dietary Fibre           270  non-null values\n",
        "Energy (Cal)            4  non-null values\n",
        "Fat (Total)             462  non-null values\n",
        "Folic Acid (B9)         16  non-null values\n",
        "Iron                    21  non-null values\n",
        "Lycopene                1  non-null values\n",
        "Magnesium               7  non-null values\n",
        "Monounsaturates         75  non-null values\n",
        "Niacin (B3)             16  non-null values\n",
        "Other Nutrients         0  non-null values\n",
        "Pantothenic Acid (B)    9  non-null values\n",
        "Phosphorus              7  non-null values\n",
        "Polyunsaturates         54  non-null values\n",
        "Potassium               149  non-null values\n",
        "Protein                 525  non-null values\n",
        "Pyridoxine (B6)         13  non-null values\n",
        "Riboflavin (B2)         14  non-null values\n",
        "Saturates               296  non-null values\n",
        "Serving Size            433  non-null values\n",
        "Sodium                  506  non-null values\n",
        "Starch                  27  non-null values\n",
        "Sugars                  326  non-null values\n",
        "Thiamine (B1)           15  non-null values\n",
        "Vitamin A               5  non-null values\n",
        "Vitamin B12             6  non-null values\n",
        "Vitamin C               0  non-null values\n",
        "Vitamin D               8  non-null values\n",
        "Vitamin E               0  non-null values\n",
        "Zinc                    11  non-null values\n",
        "dtypes: float64(36)"
       ]
      }
     ],
     "prompt_number": 440
    },
    {
     "cell_type": "markdown",
     "metadata": {},
     "source": [
      "#### Clean up a bit to get only nutritional features in there"
     ]
    },
    {
     "cell_type": "code",
     "collapsed": false,
     "input": [
      "del nutri_df['Serving Size']\n",
      "nutri_df = nutri_df.dropna(axis=1, how='all')\n",
      "nutri_df"
     ],
     "language": "python",
     "metadata": {},
     "outputs": [
      {
       "output_type": "pyout",
       "prompt_number": 821,
       "text": [
        "<class 'pandas.core.frame.DataFrame'>\n",
        "Int64Index: 1000 entries, 2767 to 52381\n",
        "Data columns:\n",
        "(Omega-3 Poly)          24  non-null values\n",
        "(Omega-6 Poly)          22  non-null values\n",
        "+ Trans Fat             99  non-null values\n",
        "Calcium                 15  non-null values\n",
        "Carbohydrates           507  non-null values\n",
        "Cholesterol             432  non-null values\n",
        "Dietary Fibre           270  non-null values\n",
        "Energy (Cal)            4  non-null values\n",
        "Fat (Total)             462  non-null values\n",
        "Folic Acid (B9)         16  non-null values\n",
        "Iron                    21  non-null values\n",
        "Lycopene                1  non-null values\n",
        "Magnesium               7  non-null values\n",
        "Monounsaturates         75  non-null values\n",
        "Niacin (B3)             16  non-null values\n",
        "Pantothenic Acid (B)    9  non-null values\n",
        "Phosphorus              7  non-null values\n",
        "Polyunsaturates         54  non-null values\n",
        "Potassium               149  non-null values\n",
        "Protein                 525  non-null values\n",
        "Pyridoxine (B6)         13  non-null values\n",
        "Riboflavin (B2)         14  non-null values\n",
        "Saturates               296  non-null values\n",
        "Sodium                  506  non-null values\n",
        "Starch                  27  non-null values\n",
        "Sugars                  326  non-null values\n",
        "Thiamine (B1)           15  non-null values\n",
        "Vitamin A               5  non-null values\n",
        "Vitamin B12             6  non-null values\n",
        "Vitamin D               8  non-null values\n",
        "Zinc                    11  non-null values\n",
        "dtypes: float64(31)"
       ]
      }
     ],
     "prompt_number": 821
    },
    {
     "cell_type": "markdown",
     "metadata": {},
     "source": [
      "#### Compute some sparsity metrics\n",
      "\n",
      "Our notion of sparsity now has to consider the many dimensions of the dataset.\n",
      "Let's compute the progress we've made as far as gathering nutritional metadata\n",
      "for each product."
     ]
    },
    {
     "cell_type": "code",
     "collapsed": false,
     "input": [
      "progress = pd.DataFrame(index=nutri_df.columns, columns=['DONE', 'TODO'])\n",
      "for feature in nutri_df.columns:\n",
      "    notnulls = np.where(nutri_df[feature].notnull(), 1, 0).sum()\n",
      "    progress.ix[feature] = [notnulls, nutri_df.index.size - notnulls]\n",
      "\n",
      "normalized_progress = progress.div(progress.sum(axis=1), axis=0)\n",
      "normalized_progress.sort(columns='DONE', inplace=True)\n",
      "normalized_progress.tail(5)"
     ],
     "language": "python",
     "metadata": {},
     "outputs": [
      {
       "html": [
        "<div style=\"max-height:1000px;max-width:1500px;overflow:auto;\">\n",
        "<table border=\"1\">\n",
        "  <thead>\n",
        "    <tr>\n",
        "      <th></th>\n",
        "      <th>DONE</th>\n",
        "      <th>TODO</th>\n",
        "    </tr>\n",
        "  </thead>\n",
        "  <tbody>\n",
        "    <tr>\n",
        "      <td><strong>Cholesterol</strong></td>\n",
        "      <td> 0.432</td>\n",
        "      <td> 0.568</td>\n",
        "    </tr>\n",
        "    <tr>\n",
        "      <td><strong>Fat (Total)</strong></td>\n",
        "      <td> 0.462</td>\n",
        "      <td> 0.538</td>\n",
        "    </tr>\n",
        "    <tr>\n",
        "      <td><strong>Sodium</strong></td>\n",
        "      <td> 0.506</td>\n",
        "      <td> 0.494</td>\n",
        "    </tr>\n",
        "    <tr>\n",
        "      <td><strong>Carbohydrates</strong></td>\n",
        "      <td> 0.507</td>\n",
        "      <td> 0.493</td>\n",
        "    </tr>\n",
        "    <tr>\n",
        "      <td><strong>Protein</strong></td>\n",
        "      <td> 0.525</td>\n",
        "      <td> 0.475</td>\n",
        "    </tr>\n",
        "  </tbody>\n",
        "</table>\n",
        "</div>"
       ],
       "output_type": "pyout",
       "prompt_number": 861,
       "text": [
        "                DONE   TODO\n",
        "Cholesterol    0.432  0.568\n",
        "Fat (Total)    0.462  0.538\n",
        "Sodium         0.506  0.494\n",
        "Carbohydrates  0.507  0.493\n",
        "Protein        0.525  0.475"
       ]
      }
     ],
     "prompt_number": 861
    },
    {
     "cell_type": "code",
     "collapsed": false,
     "input": [
      "# make sure divisions between integers result in floats\n",
      "from __future__ import division\n",
      "\n",
      "todo = (nutri_df.index.size - nutri_df.count()) / nutri_df.index.size\n",
      "normalized_progress = pd.DataFrame({'DONE': 1 - todo, 'TODO': todo})\n",
      "normalized_progress.sort(columns='DONE', inplace=True)\n",
      "normalized_progress.tail(5)\n"
     ],
     "language": "python",
     "metadata": {},
     "outputs": [
      {
       "html": [
        "<div style=\"max-height:1000px;max-width:1500px;overflow:auto;\">\n",
        "<table border=\"1\">\n",
        "  <thead>\n",
        "    <tr>\n",
        "      <th></th>\n",
        "      <th>DONE</th>\n",
        "      <th>TODO</th>\n",
        "    </tr>\n",
        "  </thead>\n",
        "  <tbody>\n",
        "    <tr>\n",
        "      <td><strong>Cholesterol</strong></td>\n",
        "      <td> 0.432</td>\n",
        "      <td> 0.568</td>\n",
        "    </tr>\n",
        "    <tr>\n",
        "      <td><strong>Fat (Total)</strong></td>\n",
        "      <td> 0.462</td>\n",
        "      <td> 0.538</td>\n",
        "    </tr>\n",
        "    <tr>\n",
        "      <td><strong>Sodium</strong></td>\n",
        "      <td> 0.506</td>\n",
        "      <td> 0.494</td>\n",
        "    </tr>\n",
        "    <tr>\n",
        "      <td><strong>Carbohydrates</strong></td>\n",
        "      <td> 0.507</td>\n",
        "      <td> 0.493</td>\n",
        "    </tr>\n",
        "    <tr>\n",
        "      <td><strong>Protein</strong></td>\n",
        "      <td> 0.525</td>\n",
        "      <td> 0.475</td>\n",
        "    </tr>\n",
        "  </tbody>\n",
        "</table>\n",
        "</div>"
       ],
       "output_type": "pyout",
       "prompt_number": 862,
       "text": [
        "                DONE   TODO\n",
        "Cholesterol    0.432  0.568\n",
        "Fat (Total)    0.462  0.538\n",
        "Sodium         0.506  0.494\n",
        "Carbohydrates  0.507  0.493\n",
        "Protein        0.525  0.475"
       ]
      }
     ],
     "prompt_number": 862
    },
    {
     "cell_type": "markdown",
     "metadata": {},
     "source": [
      "## Matplotlib\n",
      "\n",
      "### What is it?\n",
      "\n",
      "*A plotting library that provides a MATLAB-like plotting interface in Python. You\n",
      "can generate plots, histograms, power spectra, bar charts, errorcharts,\n",
      "scatterplots, etc, with just a few lines of code.*"
     ]
    },
    {
     "cell_type": "markdown",
     "metadata": {},
     "source": [
      "### Hello world example"
     ]
    },
    {
     "cell_type": "code",
     "collapsed": false,
     "input": [
      "import matplotlib.pyplot as plt\n",
      "\n",
      "x = np.random.randn(10000)\n",
      "plt.hist(x, 100, alpha=0.4)"
     ],
     "language": "python",
     "metadata": {},
     "outputs": [
      {
       "output_type": "pyout",
       "prompt_number": 865,
       "text": [
        "(array([2, 2, 1, ..., 0, 0, 1]),\n",
        " array([-3.7771, -3.6961, -3.6151, ...,  4.1573,  4.2382,  4.3192]),\n",
        " <a list of 100 Patch objects>)"
       ]
      },
      {
       "output_type": "display_data",
       "png": "[encoded data removed]"
      }
     ],
     "prompt_number": 865
    },
    {
     "cell_type": "markdown",
     "metadata": {},
     "source": [
      "### Visualizing some stats from our grocery dataset"
     ]
    },
    {
     "cell_type": "markdown",
     "metadata": {},
     "source": [
      "#### Sparsity metrics"
     ]
    },
    {
     "cell_type": "code",
     "collapsed": false,
     "input": [
      "plt.rc('figure', figsize=(8,5))\n",
      "\n",
      "normalized_progress.plot(kind='barh', stacked=True, figsize=(10,10))\n",
      "plt.title(\"How we're doing (not that great)\")"
     ],
     "language": "python",
     "metadata": {},
     "outputs": [
      {
       "output_type": "pyout",
       "prompt_number": 863,
       "text": [
        "<matplotlib.text.Text at 0x10e20a390>"
       ]
      },
      {
       "output_type": "display_data",
       "png": "[encoded data removed]"
      }
     ],
     "prompt_number": 863
    },
    {
     "cell_type": "markdown",
     "metadata": {},
     "source": [
      "#### Individual distributions"
     ]
    },
    {
     "cell_type": "code",
     "collapsed": false,
     "input": [
      "nutri_df['Sugars'].hist(bins=50, normed=True, color='k', alpha=0.5)"
     ],
     "language": "python",
     "metadata": {},
     "outputs": [
      {
       "output_type": "pyout",
       "prompt_number": 212,
       "text": [
        "<matplotlib.axes.AxesSubplot at 0x115e5a410>"
       ]
      },
      {
       "output_type": "display_data",
       "png": "[encoded data removed]"
      }
     ],
     "prompt_number": 212
    },
    {
     "cell_type": "markdown",
     "metadata": {},
     "source": [
      "#### Relationship between different features"
     ]
    },
    {
     "cell_type": "code",
     "collapsed": false,
     "input": [
      "# get most complete features\n",
      "counts = nutri_df.count()\n",
      "counts.sort()\n",
      "sorted_features = counts[::-1].index\n",
      "top_6_features = sorted_features[:6]\n",
      "top_6_features\n"
     ],
     "language": "python",
     "metadata": {},
     "outputs": [
      {
       "output_type": "pyout",
       "prompt_number": 213,
       "text": [
        "Index([Protein, Carbohydrates, Sodium, Fat (Total), Cholesterol, Sugars], dtype=object)"
       ]
      }
     ],
     "prompt_number": 213
    },
    {
     "cell_type": "code",
     "collapsed": false,
     "input": [
      "correlations = nutri_df.corr()\n",
      "correlations.ix[top_6_features, top_6_features]"
     ],
     "language": "python",
     "metadata": {},
     "outputs": [
      {
       "html": [
        "<div style=\"max-height:1000px;max-width:1500px;overflow:auto;\">\n",
        "<table border=\"1\" class=\"dataframe\">\n",
        "  <thead>\n",
        "    <tr style=\"text-align: right;\">\n",
        "      <th></th>\n",
        "      <th>Protein</th>\n",
        "      <th>Carbohydrates</th>\n",
        "      <th>Sodium</th>\n",
        "      <th>Fat (Total)</th>\n",
        "      <th>Cholesterol</th>\n",
        "      <th>Sugars</th>\n",
        "    </tr>\n",
        "  </thead>\n",
        "  <tbody>\n",
        "    <tr>\n",
        "      <th>Protein</th>\n",
        "      <td> 1.000000</td>\n",
        "      <td> 0.238873</td>\n",
        "      <td>-0.009255</td>\n",
        "      <td> 0.281346</td>\n",
        "      <td> 0.017212</td>\n",
        "      <td>-0.166093</td>\n",
        "    </tr>\n",
        "    <tr>\n",
        "      <th>Carbohydrates</th>\n",
        "      <td> 0.238873</td>\n",
        "      <td> 1.000000</td>\n",
        "      <td> 0.023479</td>\n",
        "      <td>-0.068227</td>\n",
        "      <td> 0.026481</td>\n",
        "      <td> 0.447665</td>\n",
        "    </tr>\n",
        "    <tr>\n",
        "      <th>Sodium</th>\n",
        "      <td>-0.009255</td>\n",
        "      <td> 0.023479</td>\n",
        "      <td> 1.000000</td>\n",
        "      <td> 0.003079</td>\n",
        "      <td>-0.004958</td>\n",
        "      <td> 0.033574</td>\n",
        "    </tr>\n",
        "    <tr>\n",
        "      <th>Fat (Total)</th>\n",
        "      <td> 0.281346</td>\n",
        "      <td>-0.068227</td>\n",
        "      <td> 0.003079</td>\n",
        "      <td> 1.000000</td>\n",
        "      <td>-0.025557</td>\n",
        "      <td>-0.009031</td>\n",
        "    </tr>\n",
        "    <tr>\n",
        "      <th>Cholesterol</th>\n",
        "      <td> 0.017212</td>\n",
        "      <td> 0.026481</td>\n",
        "      <td>-0.004958</td>\n",
        "      <td>-0.025557</td>\n",
        "      <td> 1.000000</td>\n",
        "      <td>-0.023923</td>\n",
        "    </tr>\n",
        "    <tr>\n",
        "      <th>Sugars</th>\n",
        "      <td>-0.166093</td>\n",
        "      <td> 0.447665</td>\n",
        "      <td> 0.033574</td>\n",
        "      <td>-0.009031</td>\n",
        "      <td>-0.023923</td>\n",
        "      <td> 1.000000</td>\n",
        "    </tr>\n",
        "  </tbody>\n",
        "</table>\n",
        "</div>"
       ],
       "output_type": "pyout",
       "prompt_number": 214,
       "text": [
        "                Protein  Carbohydrates    Sodium  Fat (Total)  Cholesterol    Sugars\n",
        "Protein        1.000000       0.238873 -0.009255     0.281346     0.017212 -0.166093\n",
        "Carbohydrates  0.238873       1.000000  0.023479    -0.068227     0.026481  0.447665\n",
        "Sodium        -0.009255       0.023479  1.000000     0.003079    -0.004958  0.033574\n",
        "Fat (Total)    0.281346      -0.068227  0.003079     1.000000    -0.025557 -0.009031\n",
        "Cholesterol    0.017212       0.026481 -0.004958    -0.025557     1.000000 -0.023923\n",
        "Sugars        -0.166093       0.447665  0.033574    -0.009031    -0.023923  1.000000"
       ]
      }
     ],
     "prompt_number": 214
    },
    {
     "cell_type": "code",
     "collapsed": false,
     "input": [
      "from pandas.tools.plotting import scatter_matrix\n",
      "\n",
      "scatter_matrix(nutri_df[['Sugars', 'Carbohydrates']], diagonal='kde', figsize=(8,8))"
     ],
     "language": "python",
     "metadata": {},
     "outputs": [
      {
       "output_type": "pyout",
       "prompt_number": 334,
       "text": [
        "array([[<matplotlib.axes.AxesSubplot object at 0x116030610>,\n",
        "        <matplotlib.axes.AxesSubplot object at 0x1159d15d0>],\n",
        "       [<matplotlib.axes.AxesSubplot object at 0x1163c3a10>,\n",
        "        <matplotlib.axes.AxesSubplot object at 0x115cc6190>]], dtype=object)"
       ]
      },
      {
       "output_type": "display_data",
       "png": "[encoded data removed]"
      }
     ],
     "prompt_number": 334
    },
    {
     "cell_type": "markdown",
     "metadata": {},
     "source": [
      "## PyTables\n",
      "### What is it?"
     ]
    },
    {
     "cell_type": "markdown",
     "metadata": {},
     "source": [
      "## misc - not yet green"
     ]
    },
    {
     "cell_type": "code",
     "collapsed": false,
     "input": [
      "import numpy as np\n",
      "\n",
      "items_mtx = np.array([[0.9,  0  , 0  ],  # viewed by 1\n",
      "                      [1,    0.1, 0.1],  # viewed by 1\n",
      "                      [0,    0.5, 0  ],  # viewed by 2\n",
      "                      [0.1,  0.4, 0  ],  # viewed by 2\n",
      "                      [0,    0.3, 0  ]])  # ?\n",
      "\n",
      "def aggr(mtx):\n",
      "  return np.mean(mtx)\n",
      "\n",
      "# build profiles\n",
      "user_1_profile = aggr(items_mtx[[0,1]])\n",
      "user_2_profile = aggr(items_mtx[[2,3]])\n",
      "\n",
      "\n",
      "def sim(v1, v2):\n",
      "  pass\n",
      "\n",
      "# recommend!\n",
      "estimated_rating_1_4 = sim(user_1_profile, items_mtx[4])"
     ],
     "language": "python",
     "metadata": {},
     "outputs": []
    },
    {
     "cell_type": "markdown",
     "metadata": {},
     "source": [
      "## The recommendation problem revisited\n",
      "\n",
      "```\n",
      "|---+---+---+---+---|\n",
      "| 0 | 0 | 1 | 0 | 1 |\n",
      "|---+---+---+---+---|\n",
      "| 1 | 0 | 0 | 1 | 1 |\n",
      "|---+---+---+---+---|\n",
      "| 1 | 0 | 0 | 0 | 0 |\n",
      "|---+---+---+---+---|\n",
      "| 0 | 1 | 1 | 1 | 1 |\n",
      "|---+---+---+---+---|\n",
      "| 0 | 0 | 0 | 0 | 0 |\n",
      "|---+---+---+---+---|\n",
      "| 1 | 0 | 1 | 0 | 0 |\n",
      "|---+---+---+---+---|\n",
      "| 0 | 0 | 0 | 0 | 0 |\n",
      "|---+---+---+---+---|\n",
      "| 1 | 1 | 1 | 0 | 0 |\n",
      "|---+---+---+---+---|\n",
      "| 0 | 0 | 0 | 0 | 1 |\n",
      "|---+---+---+---+---|\n",
      "```\n",
      "\n",
      "*Given an incidence matrix ($|U|x|I|$), present users with new items.*\n"
     ]
    },
    {
     "cell_type": "markdown",
     "metadata": {},
     "source": [
      "## First look at our grocery domain dataset\n",
      "\n",
      "The first portion of our dataset is called an incidence matrix. This\n",
      "is a |U| x |I| matrix that shows the relationship between users and\n",
      "items. An entry in row u and column i is 1 if user u and item i are\n",
      "related, and zero if they are not. In our context, related means 'has\n",
      "ever purchased'."
     ]
    },
    {
     "cell_type": "code",
     "collapsed": false,
     "input": [
      "import numpy as np\n",
      "inc_mtx = np.loadtxt(open('data/inc_mtx_10k_1k.csv', 'r'), delimiter=',')\n",
      "inc_mtx.shape\n",
      "inc_mtx.size\n",
      "inc_mtx.sum()\n",
      "# let's compute some basic stats from this matrix\n",
      "tot_sum = inc_mtx.sum()\n",
      "row_sum = inc_mtx.sum(axis=0) \n",
      "col_sum = inc_mtx.sum(axis=1)\n",
      "\n",
      "# ratio of ones and zeros to total entries\n",
      "density = tot_sum / inc_mtx.size\n",
      "sparsity = 1.0 - density\n",
      "\n",
      "# most popular item\n",
      "i_popular = np.argmax(row_sum)\n",
      "# user with the most purchases\n",
      "u_spender = np.argmax(col_sum)\n"
     ],
     "language": "python",
     "metadata": {},
     "outputs": []
    },
    {
     "cell_type": "code",
     "collapsed": false,
     "input": [
      "# don't know whether to use this cell atm -- keep for now\n",
      "# create new dtypes to hold ratings and id information\n",
      "dt = np.dtype([('rating', np.float64), ('ids', np.int32, (2,))])\n",
      "print dt['rating'].__repr__()\n",
      "print dt['ids'].__repr__()\n",
      "\n",
      "# get row,col that are not nan\n",
      "not_nan = ~np.isnan(ratings_mtx_train) # equivalent to ratings_mtx_train >= 1\n",
      "not_nan_ids = zip(*not_nan.nonzero())\n",
      "\n",
      "# build an array with ratings and their user, item ids\n",
      "ratings_train = np.array(zip(ratings_mtx_train[not_nan], not_nan_ids), dtype=dt)\n",
      "ratings_train[:4]\n",
      "\n"
     ],
     "language": "python",
     "metadata": {},
     "outputs": [
      {
       "output_type": "stream",
       "stream": "stdout",
       "text": [
        "dtype('float64')\n",
        "dtype(('int32',(2,)))\n"
       ]
      },
      {
       "output_type": "pyout",
       "prompt_number": 82,
       "text": [
        "array([(5.0, [0, 0]), (5.0, [0, 47]), (4.0, [0, 253]), (4.0, [0, 517])], \n",
        "      dtype=[('rating', '<f8'), ('ids', '<i4', (2,))])"
       ]
      }
     ],
     "prompt_number": 82
    }
   ],
   "metadata": {}
  }
 ]
}