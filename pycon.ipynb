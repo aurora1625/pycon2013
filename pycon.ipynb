{
 "metadata": {
  "name": "pycon"
 },
 "nbformat": 3,
 "nbformat_minor": 0,
 "worksheets": [
  {
   "cells": [
    {
     "cell_type": "markdown",
     "metadata": {},
     "source": [
      "# A Beginners Introduction to Pydata: How to Build a Minimal Recommendation System"
     ]
    },
    {
     "cell_type": "markdown",
     "metadata": {},
     "source": [
      "## Welcome!"
     ]
    },
    {
     "cell_type": "markdown",
     "metadata": {},
     "source": [
      "## The recommendation problem\n",
      "\n",
      "### Definitions from the literature\n",
      "\n",
      "*In a typical recommender system people provide recommendations as inputs, which\n",
      "the system then aggregates and directs to appropriate recipients.* -- Resnick\n",
      "and Varian, 1997\n",
      "\n",
      "*Collaborative filtering simply means that people collaborate to help one\n",
      "another perform filtering by recording their reactions to documents they read.*\n",
      "-- Goldberg et al, 1992\n",
      "\n",
      "*In its most common formulation, the recommendation problem is reduced to the\n",
      "problem of estimating ratings for the items that have not been seen by a\n",
      "user. Intuitively, this estimation is usually based on the ratings given by this\n",
      "user to other items and on some other information [...] Once we can estimate\n",
      "ratings for the yet unrated items, we can recommend to the user the item(s) with\n",
      "the highest estimated rating(s).* -- Adomavicius and Tuzhilin, 2005\n"
     ]
    },
    {
     "cell_type": "markdown",
     "metadata": {},
     "source": [
      "### Notation\n",
      "\n",
      "- $U$ is the set of users in our domain. Its size is $|U|$.\n",
      "- $I$ is the set of items in our domain. Its size is $|I|$.\n",
      "- $I(u)$ is the set of items that user $u$ has rated/purchased.\n",
      "- $-I(u)$ is the complement of $I(u)$ i.e., the set of items not yet seen by user $u$.\n",
      "- $U(i)$ is the set of users that have rated/purchased item $i$.\n",
      "- $-U(i)$ is the complement of $U(i)$."
     ]
    },
    {
     "cell_type": "markdown",
     "metadata": {},
     "source": [
      "### Goal of a recommendation system\n",
      "\n",
      "$$ \\forall{u \\in U},\\; i^* = argmax_{i \\in -I(u)} [S(u,i)] $$"
     ]
    },
    {
     "cell_type": "markdown",
     "metadata": {},
     "source": [
      "### Problem statement\n",
      "\n",
      "The recommendation problem in its most basic form is quite simple to define:\n",
      "\n",
      "```\n",
      "|---+---+---+---+---|\n",
      "| ? | ? | 4 | ? | 1 |\n",
      "|---+---+---+---+---|\n",
      "| 3 | ? | ? | 2 | 2 |\n",
      "|---+---+---+---+---|\n",
      "| 3 | ? | ? | ? | ? |\n",
      "|---+---+---+---+---|\n",
      "| ? | 1 | 2 | 1 | 1 |\n",
      "|---+---+---+---+---|\n",
      "| ? | ? | ? | ? | ? |\n",
      "|---+---+---+---+---|\n",
      "| 2 | ? | 2 | ? | ? |\n",
      "|---+---+---+---+---|\n",
      "| ? | ? | ? | ? | ? |\n",
      "|---+---+---+---+---|\n",
      "| 3 | 1 | 5 | ? | ? |\n",
      "|---+---+---+---+---|\n",
      "| ? | ? | ? | ? | 2 |\n",
      "|---+---+---+---+---|\n",
      "```\n",
      "\n",
      "*Given a partially filled matrix of ratings ($|U|x|I|$), estimate the missing values.*\n"
     ]
    },
    {
     "cell_type": "markdown",
     "metadata": {},
     "source": [
      "### Content-based filtering\n",
      "\n",
      "Generic expression (notice how this is kind of a 'row-based' approach):\n",
      "\n",
      "$$ r_{u,i} = aggr_{i' \\in I(u)} [r_{u,i'}] $$\n"
     ]
    },
    {
     "cell_type": "markdown",
     "metadata": {},
     "source": [
      "#### Content-based: simple ratings-based recommendations\n",
      "\n",
      "Purely based on ratings information.\n",
      "\n",
      "$$ r_{u,i} = \\bar r_u = \\frac{\\sum_{i \\in I(u)} r_{u,i}}{|I(u)|} $$\n"
     ]
    },
    {
     "cell_type": "markdown",
     "metadata": {},
     "source": [
      "### Collaborative filtering\n",
      "\n",
      "Generic expression (notice how this is kind of a 'col-based' approach):\n",
      "\n",
      "$$ r_{u,i} = aggr_{u' \\in U(i)} [r_{u',i}] $$"
     ]
    },
    {
     "cell_type": "markdown",
     "metadata": {},
     "source": [
      "#### Collaborative filtering: simple ratings-based recommendations\n",
      "\n",
      "$$ r_{u,i} = \\bar r_i = \\frac{1}{N} \\sum_{u' \\in U(i)} r_{u',i} $$\n"
     ]
    },
    {
     "cell_type": "markdown",
     "metadata": {},
     "source": [
      "### Hybrid solutions\n",
      "\n",
      "The literature has lots of examples of systems that try to combine the strengths\n",
      "of the two main approaches. This can be done in a number of ways:\n",
      "\n",
      "- Combine the predictions of a content-based system and a collaborative system.\n",
      "- Incorporate content-based techniques into a collaborative approach.\n",
      "- Incorporarte collaborative techniques into a content-based approach.\n",
      "- Unifying model."
     ]
    },
    {
     "cell_type": "markdown",
     "metadata": {},
     "source": [
      "### Challenges\n",
      "\n",
      "#### Availability of item metadata\n",
      "\n",
      "Content-based techniques are limited by the amount of metadata that is available\n",
      "to describe an item. There are domains in which feature extraction methods are\n",
      "expensive or time consuming, e.g., processing multimedia data such as graphics,\n",
      "audio/video streams. In the context of grocery items for example, it's often the\n",
      "case that item information is only partial or completely missing. Examples\n",
      "include:\n",
      "\n",
      "- Ingredients\n",
      "- Nutrition facts\n",
      "- Brand\n",
      "- Description\n",
      "- County of origin\n",
      "\n",
      "#### New user problem\n",
      "\n",
      "A user has to have rated a sufficient number of items before a recommender\n",
      "system can have a good idea of what their preferences are. In a content-based\n",
      "system, the aggregation function needs ratings to aggregate.\n",
      "\n",
      "#### New item problem\n",
      "\n",
      "Collaborative filters rely on an item being rated by many users to compute\n",
      "aggregates of those ratings. Think of this as the exact counterpart of the new\n",
      "user problem for content-based systems.\n",
      "\n",
      "#### Data sparsity\n",
      "\n",
      "When looking at the more general versions of content-based and collaborative\n",
      "systems, the success of the recommender system depends on the availability of a\n",
      "critical mass of user/item iteractions. We get a first glance at the data\n",
      "sparsity problem by quantifying the ratio of existing ratings vs $|U|x|I|$. A\n",
      "highly sparse matrix of interactions makes it difficult to compute similarities\n",
      "between users and items. As an example, for a user whose tastes are unusual\n",
      "compared to the rest of the population, there will not be any other users who\n",
      "are particularly similar, leading to poor recommendations.\n"
     ]
    },
    {
     "cell_type": "markdown",
     "metadata": {},
     "source": [
      "## About this tutorial\n",
      "\n",
      "### What this tutorial is\n",
      "\n",
      "The goal of this tutorial is to provide you with a hands-on overview of two of\n",
      "the main libraries from the scientific and data analysis communities. We're going to\n",
      "use:\n",
      "\n",
      "- ipython -- [ipython.org](http://ipython.org/)\n",
      "- numpy -- [numpy.org](http://www.numpy.org)\n",
      "- pandas -- [pandas.pydata.org](http://pandas.pydata.org/)\n",
      "- (bonus) pytables -- [pytables.org](http://www.pytables.org)\n",
      "\n",
      "### What this tutorial is not\n",
      "\n",
      "- An exhaustive overview of the recommendation literature\n",
      "- A set of recipes that will win you the next Netflix/Kaggle/? challenge."
     ]
    },
    {
     "cell_type": "markdown",
     "metadata": {},
     "source": [
      "## Roadmap\n",
      "\n",
      "What exactly are we going to do?\n",
      "\n",
      "- learn about NumPy arrays\n",
      "- learn about DataFrames\n",
      "- iterate over a few implementations of a minimal reco engine\n",
      "- challenge"
     ]
    },
    {
     "cell_type": "markdown",
     "metadata": {},
     "source": [
      "### Flow chart: the big picture"
     ]
    },
    {
     "cell_type": "code",
     "collapsed": false,
     "input": [
      "import matplotlib.pyplot as plt\n",
      "\n",
      "plt.imshow(plt.imread('./pycon_reco_flow.png'), aspect=1)"
     ],
     "language": "python",
     "metadata": {},
     "outputs": [
      {
       "output_type": "pyout",
       "prompt_number": 306,
       "text": [
        "<matplotlib.image.AxesImage at 0x1250e8ed0>"
       ]
      },
      {
       "output_type": "display_data",
       "png": "[encoded data removed]"
      }
     ],
     "prompt_number": 306
    },
    {
     "cell_type": "markdown",
     "metadata": {},
     "source": [
      "### Dataset\n",
      "\n",
      "MovieLens: from [GroupLens Research](http://www.grouplens.org/)\n",
      "\n",
      "The MovieLens 1M data set contains 1 million ratings collected from 6000 users\n",
      "on 4000 movies.\n",
      "\n"
     ]
    },
    {
     "cell_type": "markdown",
     "metadata": {},
     "source": [
      "## NumPy: Numerical Python\n",
      "\n",
      "### What is it?\n",
      "\n",
      "*It is a Python library that provides a multidimensional array object, various\n",
      "derived objects (such as masked arrays and matrices), and an assortment of\n",
      "routines for fast operations on arrays, including mathematical, logical, shape\n",
      "manipulation, sorting, selecting, I/O, discrete Fourier transforms, basic linear\n",
      "algebra, basic statistical operations, random simulation and much more.*"
     ]
    },
    {
     "cell_type": "markdown",
     "metadata": {},
     "source": [
      "### NumPy's basic data structure: the ndarray\n",
      "\n",
      "Think of ndarrays as the building blocks for pydata. A multidimensional array\n",
      "object that acts as a container for data to be passed between algorithms. Also,\n",
      "libraries written in a lower-level language, such as C or Fortran, can operate\n",
      "on the data stored in a NumPy array without copying any data.\n"
     ]
    },
    {
     "cell_type": "code",
     "collapsed": false,
     "input": [
      "import numpy as np\n",
      "\n",
      "# set some print options\n",
      "np.set_printoptions(precision=4)\n",
      "np.set_printoptions(threshold=5)\n",
      "np.set_printoptions(suppress=True)\n",
      "\n",
      "# build an array using the array function\n",
      "arr = np.array([0, 9, 5.055, 4, 3])\n",
      "arr"
     ],
     "language": "python",
     "metadata": {},
     "outputs": [
      {
       "output_type": "pyout",
       "prompt_number": 8,
       "text": [
        "array([ 0.   ,  9.   ,  5.055,  4.   ,  3.   ])"
       ]
      }
     ],
     "prompt_number": 8
    },
    {
     "cell_type": "markdown",
     "metadata": {},
     "source": [
      "### Array creation examples\n",
      "\n",
      "There are several functions that are used to create new arrays:\n",
      "\n",
      "- `np.array`\n",
      "- `np.asarray`\n",
      "- `np.arange`\n",
      "- `np.ones`\n",
      "- `np.ones_like`\n",
      "- `np.zeros`\n",
      "- `np.zeros_like`"
     ]
    },
    {
     "cell_type": "code",
     "collapsed": false,
     "input": [
      "np.zeros(4)\n"
     ],
     "language": "python",
     "metadata": {},
     "outputs": [
      {
       "output_type": "pyout",
       "prompt_number": 308,
       "text": [
        "array([ 0.,  0.,  0.,  0.])"
       ]
      }
     ],
     "prompt_number": 308
    },
    {
     "cell_type": "code",
     "collapsed": false,
     "input": [
      "np.ones(4)"
     ],
     "language": "python",
     "metadata": {},
     "outputs": [
      {
       "output_type": "pyout",
       "prompt_number": 309,
       "text": [
        "array([ 1.,  1.,  1.,  1.])"
       ]
      }
     ],
     "prompt_number": 309
    },
    {
     "cell_type": "code",
     "collapsed": false,
     "input": [
      "np.empty(4)"
     ],
     "language": "python",
     "metadata": {},
     "outputs": [
      {
       "output_type": "pyout",
       "prompt_number": 310,
       "text": [
        "array([  2.0000e+000,  -2.6868e+154,   6.9261e-310,   3.4740e-309])"
       ]
      }
     ],
     "prompt_number": 310
    },
    {
     "cell_type": "code",
     "collapsed": false,
     "input": [
      "np.arange(4)"
     ],
     "language": "python",
     "metadata": {},
     "outputs": [
      {
       "output_type": "pyout",
       "prompt_number": 311,
       "text": [
        "array([0, 1, 2, 3])"
       ]
      }
     ],
     "prompt_number": 311
    },
    {
     "cell_type": "markdown",
     "metadata": {},
     "source": [
      "### dtype and shape\n",
      "\n",
      "NumPy's arrays are containers of homogeneous data, which means all elements are\n",
      "of the same type. The 'dtype' propery is an object that specifies the data type\n",
      "of each element. The 'shape' property is a tuple that indicates the size of each\n",
      "dimension."
     ]
    },
    {
     "cell_type": "code",
     "collapsed": false,
     "input": [
      "arr = np.random.randn(5)\n",
      "arr.dtype"
     ],
     "language": "python",
     "metadata": {},
     "outputs": [
      {
       "output_type": "pyout",
       "prompt_number": 312,
       "text": [
        "dtype('float64')"
       ]
      }
     ],
     "prompt_number": 312
    },
    {
     "cell_type": "code",
     "collapsed": false,
     "input": [
      "arr.shape"
     ],
     "language": "python",
     "metadata": {},
     "outputs": [
      {
       "output_type": "pyout",
       "prompt_number": 313,
       "text": [
        "(5,)"
       ]
      }
     ],
     "prompt_number": 313
    },
    {
     "cell_type": "code",
     "collapsed": false,
     "input": [
      "# you can be explicit about the data type that you want\n",
      "np.empty(4, dtype=np.int32)"
     ],
     "language": "python",
     "metadata": {},
     "outputs": [
      {
       "output_type": "pyout",
       "prompt_number": 314,
       "text": [
        "array([         0, 1073741824,  -71475674, 1073743863], dtype=int32)"
       ]
      }
     ],
     "prompt_number": 314
    },
    {
     "cell_type": "code",
     "collapsed": false,
     "input": [
      "np.array(['numpy','pandas','pytables'], dtype=np.string_)"
     ],
     "language": "python",
     "metadata": {},
     "outputs": [
      {
       "output_type": "pyout",
       "prompt_number": 315,
       "text": [
        "array(['numpy', 'pandas', 'pytables'], \n",
        "      dtype='|S8')"
       ]
      }
     ],
     "prompt_number": 315
    },
    {
     "cell_type": "code",
     "collapsed": false,
     "input": [
      "float_arr = np.array([4.4, 5.52425, -0.1234, 98.1], dtype=np.float64)\n",
      "# truncate the decimal part\n",
      "float_arr.astype(np.int32)\n"
     ],
     "language": "python",
     "metadata": {},
     "outputs": [
      {
       "output_type": "pyout",
       "prompt_number": 316,
       "text": [
        "array([ 4,  5,  0, 98], dtype=int32)"
       ]
      }
     ],
     "prompt_number": 316
    },
    {
     "cell_type": "markdown",
     "metadata": {},
     "source": [
      "### Indexing and slicing\n",
      "\n",
      "#### Just what you would expect from Python"
     ]
    },
    {
     "cell_type": "code",
     "collapsed": false,
     "input": [
      "arr = np.array([0, 9, 1.02, 4, 64])\n",
      "arr[3]"
     ],
     "language": "python",
     "metadata": {},
     "outputs": [
      {
       "output_type": "pyout",
       "prompt_number": 317,
       "text": [
        "4.0"
       ]
      }
     ],
     "prompt_number": 317
    },
    {
     "cell_type": "code",
     "collapsed": false,
     "input": [
      "arr[1:3]"
     ],
     "language": "python",
     "metadata": {},
     "outputs": [
      {
       "output_type": "pyout",
       "prompt_number": 318,
       "text": [
        "array([ 9.  ,  1.02])"
       ]
      }
     ],
     "prompt_number": 318
    },
    {
     "cell_type": "code",
     "collapsed": false,
     "input": [
      "# set the last two elements to 555\n",
      "arr[-2:] = 555\n",
      "arr"
     ],
     "language": "python",
     "metadata": {},
     "outputs": [
      {
       "output_type": "pyout",
       "prompt_number": 319,
       "text": [
        "array([   0.  ,    9.  ,    1.02,  555.  ,  555.  ])"
       ]
      }
     ],
     "prompt_number": 319
    },
    {
     "cell_type": "markdown",
     "metadata": {},
     "source": [
      "#### Indexing behaviour for multidimensional arrays\n",
      "\n",
      "A good way to think about indexing in multidimensional arrays is that you are\n",
      "moving along the values of the shape property. So, a 4d array `arr_4d`, with a\n",
      "shape of `(w,x,y,z)` will result in indexed views such that:\n",
      "\n",
      "- `arr_4d[i].shape == (x,y,z)`\n",
      "- `arr_4d[i,j].shape == (y,z)`\n",
      "- `arr_4d[i,j,k].shape == (z,)`\n",
      "\n",
      "For the case of slices, what you are doing is selecting a range of elements\n",
      "along a particular axis:"
     ]
    },
    {
     "cell_type": "code",
     "collapsed": false,
     "input": [
      "arr_2d = np.array([[5,3,4],[0,1,2],[1,1,10],[0,0,0.1]])\n",
      "# get the first row\n",
      "arr_2d[0]"
     ],
     "language": "python",
     "metadata": {},
     "outputs": [
      {
       "output_type": "pyout",
       "prompt_number": 320,
       "text": [
        "array([ 5.,  3.,  4.])"
       ]
      }
     ],
     "prompt_number": 320
    },
    {
     "cell_type": "code",
     "collapsed": false,
     "input": [
      "# get the first column\n",
      "arr_2d[:,0]"
     ],
     "language": "python",
     "metadata": {},
     "outputs": [
      {
       "output_type": "pyout",
       "prompt_number": 321,
       "text": [
        "array([ 5.,  0.,  1.,  0.])"
       ]
      }
     ],
     "prompt_number": 321
    },
    {
     "cell_type": "code",
     "collapsed": false,
     "input": [
      "# get the first two rows\n",
      "arr_2d[:2]"
     ],
     "language": "python",
     "metadata": {},
     "outputs": [
      {
       "output_type": "pyout",
       "prompt_number": 322,
       "text": [
        "array([[ 5.,  3.,  4.],\n",
        "       [ 0.,  1.,  2.]])"
       ]
      }
     ],
     "prompt_number": 322
    },
    {
     "cell_type": "code",
     "collapsed": false,
     "input": [
      "# get the last element of the last two rows\n",
      "arr_2d[-2:, -1]"
     ],
     "language": "python",
     "metadata": {},
     "outputs": [
      {
       "output_type": "pyout",
       "prompt_number": 323,
       "text": [
        "array([ 10. ,   0.1])"
       ]
      }
     ],
     "prompt_number": 323
    },
    {
     "cell_type": "code",
     "collapsed": false,
     "input": [
      "# try this for higher dimensions\n",
      "arr_3d = np.array([[[2,2,2],[3,3,3]],[[1,1,1],[9,9,9]]])\n",
      "arr_3d[0]"
     ],
     "language": "python",
     "metadata": {},
     "outputs": [
      {
       "output_type": "pyout",
       "prompt_number": 324,
       "text": [
        "array([[2, 2, 2],\n",
        "       [3, 3, 3]])"
       ]
      }
     ],
     "prompt_number": 324
    },
    {
     "cell_type": "code",
     "collapsed": false,
     "input": [
      "# get the last column of each matrix in this 3d array\n",
      "arr_3d[:,:,0]"
     ],
     "language": "python",
     "metadata": {},
     "outputs": [
      {
       "output_type": "pyout",
       "prompt_number": 325,
       "text": [
        "array([[2, 3],\n",
        "       [1, 9]])"
       ]
      }
     ],
     "prompt_number": 325
    },
    {
     "cell_type": "markdown",
     "metadata": {},
     "source": [
      "#### Careful, it's a view!\n",
      "\n",
      "A slice does not return a copy, which means that any modifications will be\n",
      "reflected in the source array. This is a design feature of NumPy to avoid memory\n",
      "problems."
     ]
    },
    {
     "cell_type": "code",
     "collapsed": false,
     "input": [
      "arr = np.array([0, 9, 1.02, 4, 64])\n",
      "slice = arr[2:4]\n",
      "slice[1] = 999.44\n",
      "arr"
     ],
     "language": "python",
     "metadata": {},
     "outputs": [
      {
       "output_type": "pyout",
       "prompt_number": 326,
       "text": [
        "array([   0.  ,    9.  ,    1.02,  999.44,   64.  ])"
       ]
      }
     ],
     "prompt_number": 326
    },
    {
     "cell_type": "markdown",
     "metadata": {},
     "source": [
      "#### Boolean indexing\n",
      "\n",
      "Boolean indexing allows you to select data subsets of an array that satisfy a\n",
      "given condition."
     ]
    },
    {
     "cell_type": "code",
     "collapsed": false,
     "input": [
      "arr = np.array([123, 456])\n",
      "idx = np.array([True, False])\n",
      "arr[idx]\n"
     ],
     "language": "python",
     "metadata": {},
     "outputs": [
      {
       "output_type": "pyout",
       "prompt_number": 57,
       "text": [
        "array([123])"
       ]
      }
     ],
     "prompt_number": 57
    },
    {
     "cell_type": "code",
     "collapsed": false,
     "input": [
      "arr_2d = np.random.randn(4,8)\n",
      "arr_2d\n"
     ],
     "language": "python",
     "metadata": {},
     "outputs": [
      {
       "output_type": "pyout",
       "prompt_number": 9,
       "text": [
        "array([[-1.62780513,  0.75119037,  1.77599234, -0.54132535,  0.07525542,\n",
        "        -1.13599703,  0.9871528 , -1.09432587],\n",
        "       [-0.94793116,  1.28768979, -0.77580626,  0.72597929,  1.30397223,\n",
        "        -0.58529031, -0.26642649, -0.11379114],\n",
        "       [ 0.29059982,  0.71732783, -0.04092828, -0.03454477, -0.08600881,\n",
        "        -0.24025097, -0.28669052,  1.01795408],\n",
        "       [ 0.12426444,  0.35279217, -0.25867588, -0.1568266 ,  1.83882713,\n",
        "        -0.28127304,  0.71232604,  0.01678308]])"
       ]
      }
     ],
     "prompt_number": 9
    },
    {
     "cell_type": "code",
     "collapsed": false,
     "input": [
      "arr_2d < 0"
     ],
     "language": "python",
     "metadata": {},
     "outputs": [
      {
       "output_type": "pyout",
       "prompt_number": 329,
       "text": [
        "array([[ True, False, False, ..., False,  True,  True],\n",
        "       [ True, False, False, ...,  True,  True, False],\n",
        "       [False,  True,  True, ...,  True,  True, False],\n",
        "       [ True,  True, False, ..., False,  True,  True]], dtype=bool)"
       ]
      }
     ],
     "prompt_number": 329
    },
    {
     "cell_type": "code",
     "collapsed": false,
     "input": [
      "arr_2d[arr_2d < 0]"
     ],
     "language": "python",
     "metadata": {},
     "outputs": [
      {
       "output_type": "pyout",
       "prompt_number": 330,
       "text": [
        "array([-2.4936, -1.2596, -0.3673, ..., -0.291 , -1.2982, -0.273 ])"
       ]
      }
     ],
     "prompt_number": 330
    },
    {
     "cell_type": "code",
     "collapsed": false,
     "input": [
      "arr_2d[arr_2d < 0] = 0\n",
      "arr_2d"
     ],
     "language": "python",
     "metadata": {},
     "outputs": [
      {
       "output_type": "pyout",
       "prompt_number": 331,
       "text": [
        "array([[ 0.    ,  0.2267,  0.2045, ...,  0.2202,  0.    ,  0.    ],\n",
        "       [ 0.    ,  1.551 ,  0.2051, ...,  0.    ,  0.    ,  1.5655],\n",
        "       [ 0.2503,  0.    ,  0.    , ...,  0.    ,  0.    ,  1.4263],\n",
        "       [ 0.    ,  0.    ,  0.9367, ...,  0.3147,  0.    ,  0.    ]])"
       ]
      }
     ],
     "prompt_number": 331
    },
    {
     "cell_type": "code",
     "collapsed": false,
     "input": [
      "arr_2d[arr_2d.sum(axis=1) > 2.5]"
     ],
     "language": "python",
     "metadata": {},
     "outputs": [
      {
       "output_type": "pyout",
       "prompt_number": 332,
       "text": [
        "array([[ 0.    ,  1.551 ,  0.2051, ...,  0.    ,  0.    ,  1.5655],\n",
        "       [ 0.    ,  0.    ,  0.9367, ...,  0.3147,  0.    ,  0.    ]])"
       ]
      }
     ],
     "prompt_number": 332
    },
    {
     "cell_type": "markdown",
     "metadata": {},
     "source": [
      "#### Fancy indexing\n",
      "\n",
      "Fancy indexing is indexing with integer arrays."
     ]
    },
    {
     "cell_type": "code",
     "collapsed": false,
     "input": [
      "arr = np.arange(18).reshape(6,3)\n",
      "arr"
     ],
     "language": "python",
     "metadata": {},
     "outputs": [
      {
       "output_type": "pyout",
       "prompt_number": 55,
       "text": [
        "array([[ 0,  1,  2],\n",
        "       [ 3,  4,  5],\n",
        "       [ 6,  7,  8],\n",
        "       [ 9, 10, 11],\n",
        "       [12, 13, 14],\n",
        "       [15, 16, 17]])"
       ]
      }
     ],
     "prompt_number": 55
    },
    {
     "cell_type": "code",
     "collapsed": false,
     "input": [
      "# fancy selection of rows in a particular order\n",
      "arr[[0,4,4]]"
     ],
     "language": "python",
     "metadata": {},
     "outputs": [
      {
       "output_type": "pyout",
       "prompt_number": 56,
       "text": [
        "array([[ 0,  1,  2],\n",
        "       [12, 13, 14],\n",
        "       [12, 13, 14]])"
       ]
      }
     ],
     "prompt_number": 56
    },
    {
     "cell_type": "code",
     "collapsed": false,
     "input": [
      "# index into individual elements and flatten\n",
      "arr[[5,3,1],[2,1,0]]"
     ],
     "language": "python",
     "metadata": {},
     "outputs": [
      {
       "output_type": "pyout",
       "prompt_number": 335,
       "text": [
        "array([17, 10,  3])"
       ]
      }
     ],
     "prompt_number": 335
    },
    {
     "cell_type": "code",
     "collapsed": false,
     "input": [
      "# select a submatrix\n",
      "arr[np.ix_([5,3,1],[2,1])]"
     ],
     "language": "python",
     "metadata": {},
     "outputs": [
      {
       "output_type": "pyout",
       "prompt_number": 336,
       "text": [
        "array([[17, 16],\n",
        "       [11, 10],\n",
        "       [ 5,  4]])"
       ]
      }
     ],
     "prompt_number": 336
    },
    {
     "cell_type": "markdown",
     "metadata": {},
     "source": [
      "Different from the concept of views, selecting data from an array by boolean or\n",
      "fancy indexing always creates a copy of the data, even if the returned array is\n",
      "unchanged."
     ]
    },
    {
     "cell_type": "markdown",
     "metadata": {},
     "source": [
      "--> Go to question set"
     ]
    },
    {
     "cell_type": "markdown",
     "metadata": {},
     "source": [
      "### Vectorization\n",
      "Vectorization is at the heart of NumPy and it enables us to express operations\n",
      "without writing any for loops.  Operations between arrays with equal shapes are\n",
      "performed element-wise.\n"
     ]
    },
    {
     "cell_type": "code",
     "collapsed": false,
     "input": [
      "arr = np.array([0, 9, 1.02, 4, 32])\n",
      "arr - arr"
     ],
     "language": "python",
     "metadata": {},
     "outputs": [
      {
       "output_type": "pyout",
       "prompt_number": 338,
       "text": [
        "array([ 0.,  0.,  0.,  0.,  0.])"
       ]
      }
     ],
     "prompt_number": 338
    },
    {
     "cell_type": "code",
     "collapsed": false,
     "input": [
      "arr * arr\n"
     ],
     "language": "python",
     "metadata": {},
     "outputs": [
      {
       "output_type": "pyout",
       "prompt_number": 339,
       "text": [
        "array([    0.    ,    81.    ,     1.0404,    16.    ,  1024.    ])"
       ]
      }
     ],
     "prompt_number": 339
    },
    {
     "cell_type": "markdown",
     "metadata": {},
     "source": [
      "### Broadcasting Rules\n",
      "\n",
      "Vectorized operations between arrays of different sizes and between arrays and\n",
      "scalars are subject to the rules of broadcasting. The idea is quite simple in\n",
      "many cases:\n"
     ]
    },
    {
     "cell_type": "code",
     "collapsed": false,
     "input": [
      "arr = np.array([0, 9, 1.02, 4, 64])\n",
      "5 * arr "
     ],
     "language": "python",
     "metadata": {},
     "outputs": [
      {
       "output_type": "pyout",
       "prompt_number": 340,
       "text": [
        "array([   0. ,   45. ,    5.1,   20. ,  320. ])"
       ]
      }
     ],
     "prompt_number": 340
    },
    {
     "cell_type": "code",
     "collapsed": false,
     "input": [
      "10 + arr"
     ],
     "language": "python",
     "metadata": {},
     "outputs": [
      {
       "output_type": "pyout",
       "prompt_number": 341,
       "text": [
        "array([ 10.  ,  19.  ,  11.02,  14.  ,  74.  ])"
       ]
      }
     ],
     "prompt_number": 341
    },
    {
     "cell_type": "code",
     "collapsed": false,
     "input": [
      "arr ** .5"
     ],
     "language": "python",
     "metadata": {},
     "outputs": [
      {
       "output_type": "pyout",
       "prompt_number": 342,
       "text": [
        "array([ 0.  ,  3.  ,  1.01,  2.  ,  8.  ])"
       ]
      }
     ],
     "prompt_number": 342
    },
    {
     "cell_type": "code",
     "collapsed": false,
     "input": [
      "arr = np.random.randn(4,2)\n",
      "arr"
     ],
     "language": "python",
     "metadata": {},
     "outputs": [
      {
       "output_type": "pyout",
       "prompt_number": 59,
       "text": [
        "array([[ 0.4904, -0.7805],\n",
        "       [ 0.6318,  0.1873],\n",
        "       [-1.0602,  0.9837],\n",
        "       [ 1.3888,  0.3158]])"
       ]
      }
     ],
     "prompt_number": 59
    },
    {
     "cell_type": "code",
     "collapsed": false,
     "input": [
      "mean_row = np.mean(arr, axis=0)\n",
      "mean_row"
     ],
     "language": "python",
     "metadata": {},
     "outputs": [
      {
       "output_type": "pyout",
       "prompt_number": 60,
       "text": [
        "array([ 0.3627,  0.1766])"
       ]
      }
     ],
     "prompt_number": 60
    },
    {
     "cell_type": "code",
     "collapsed": false,
     "input": [
      "centered_rows = arr - mean_row\n",
      "np.mean(centered_rows, axis=0)"
     ],
     "language": "python",
     "metadata": {},
     "outputs": [
      {
       "output_type": "pyout",
       "prompt_number": 61,
       "text": [
        "array([-0.,  0.])"
       ]
      }
     ],
     "prompt_number": 61
    },
    {
     "cell_type": "code",
     "collapsed": false,
     "input": [
      "mean_col = np.mean(arr, axis=1)\n",
      "mean_col"
     ],
     "language": "python",
     "metadata": {},
     "outputs": [
      {
       "output_type": "pyout",
       "prompt_number": 37,
       "text": [
        "array([-1.23479171, -1.41868698,  1.0489301 ,  0.50219038])"
       ]
      }
     ],
     "prompt_number": 37
    },
    {
     "cell_type": "code",
     "collapsed": false,
     "input": [
      "centered_cols = arr - mean_col"
     ],
     "language": "python",
     "metadata": {},
     "outputs": [
      {
       "ename": "ValueError",
       "evalue": "operands could not be broadcast together with shapes (4,2) (4) ",
       "output_type": "pyerr",
       "traceback": [
        "\u001b[0;31m---------------------------------------------------------------------------\u001b[0m\n\u001b[0;31mValueError\u001b[0m                                Traceback (most recent call last)",
        "\u001b[0;32m<ipython-input-38-bd5236897883>\u001b[0m in \u001b[0;36m<module>\u001b[0;34m()\u001b[0m\n\u001b[0;32m----> 1\u001b[0;31m \u001b[0mcentered_cols\u001b[0m \u001b[0;34m=\u001b[0m \u001b[0marr\u001b[0m \u001b[0;34m-\u001b[0m \u001b[0mmean_col\u001b[0m\u001b[0;34m\u001b[0m\u001b[0m\n\u001b[0m",
        "\u001b[0;31mValueError\u001b[0m: operands could not be broadcast together with shapes (4,2) (4) "
       ]
      }
     ],
     "prompt_number": 38
    },
    {
     "cell_type": "code",
     "collapsed": false,
     "input": [
      "# make the 1-D array a column vector\n",
      "mean_col.reshape((4,1))"
     ],
     "language": "python",
     "metadata": {},
     "outputs": [
      {
       "output_type": "pyout",
       "prompt_number": 39,
       "text": [
        "array([[-1.23479171],\n",
        "       [-1.41868698],\n",
        "       [ 1.0489301 ],\n",
        "       [ 0.50219038]])"
       ]
      }
     ],
     "prompt_number": 39
    },
    {
     "cell_type": "code",
     "collapsed": false,
     "input": [
      "centered_cols = arr - mean_col.reshape((4,1))\n",
      "centered_cols.mean(axis=1)"
     ],
     "language": "python",
     "metadata": {},
     "outputs": [
      {
       "output_type": "pyout",
       "prompt_number": 40,
       "text": [
        "array([  0.00000000e+00,   0.00000000e+00,  -1.11022302e-16,\n",
        "        -2.77555756e-17])"
       ]
      }
     ],
     "prompt_number": 40
    },
    {
     "cell_type": "markdown",
     "metadata": {},
     "source": [
      "#### A note about NANs: \n",
      "\n",
      "Per the floating point standard IEEE 754, NaN is a floating point value that, by definition, is not equal to any other floating point value."
     ]
    },
    {
     "cell_type": "code",
     "collapsed": false,
     "input": [
      "np.nan != np.nan"
     ],
     "language": "python",
     "metadata": {},
     "outputs": [
      {
       "output_type": "pyout",
       "prompt_number": 337,
       "text": [
        "True"
       ]
      }
     ],
     "prompt_number": 337
    },
    {
     "cell_type": "code",
     "collapsed": false,
     "input": [
      "np.array([10,6,5,4,np.nan,1,np.nan]) == np.nan"
     ],
     "language": "python",
     "metadata": {},
     "outputs": [
      {
       "output_type": "pyout",
       "prompt_number": 32,
       "text": [
        "array([False, False, False, False, False, False, False], dtype=bool)"
       ]
      }
     ],
     "prompt_number": 32
    },
    {
     "cell_type": "code",
     "collapsed": false,
     "input": [
      "np.isnan(np.array([10,6,5,4,np.nan,1,np.nan]))"
     ],
     "language": "python",
     "metadata": {},
     "outputs": [
      {
       "output_type": "pyout",
       "prompt_number": 33,
       "text": [
        "array([False, False, False, False,  True, False,  True], dtype=bool)"
       ]
      }
     ],
     "prompt_number": 33
    },
    {
     "cell_type": "markdown",
     "metadata": {},
     "source": [
      "--> Go to question set"
     ]
    },
    {
     "cell_type": "markdown",
     "metadata": {},
     "source": [
      "### [EXTRA] more vectorized operations"
     ]
    },
    {
     "cell_type": "code",
     "collapsed": false,
     "input": [
      "a = np.random.randn(5,2,3)\n",
      "b = np.zeros((2,3))\n",
      "a * b"
     ],
     "language": "python",
     "metadata": {},
     "outputs": [
      {
       "output_type": "pyout",
       "prompt_number": 350,
       "text": [
        "array([[[ 0., -0.,  0.],\n",
        "        [-0.,  0.,  0.]],\n",
        "\n",
        "       [[ 0.,  0.,  0.],\n",
        "        [-0.,  0.,  0.]],\n",
        "\n",
        "       [[ 0.,  0.,  0.],\n",
        "        [ 0., -0.,  0.]],\n",
        "\n",
        "       [[-0.,  0., -0.],\n",
        "        [ 0., -0., -0.]],\n",
        "\n",
        "       [[ 0., -0.,  0.],\n",
        "        [ 0., -0.,  0.]]])"
       ]
      }
     ],
     "prompt_number": 350
    },
    {
     "cell_type": "code",
     "collapsed": false,
     "input": [
      "arr = np.random.randn(4,3)\n",
      "vec = np.zeros(3)\n",
      "np.dot(arr, vec)"
     ],
     "language": "python",
     "metadata": {},
     "outputs": [
      {
       "output_type": "pyout",
       "prompt_number": 351,
       "text": [
        "array([ 0.,  0.,  0.,  0.])"
       ]
      }
     ],
     "prompt_number": 351
    },
    {
     "cell_type": "code",
     "collapsed": false,
     "input": [
      "arr = np.random.randn(4,3)\n",
      "vec = np.zeros(4)\n",
      "np.dot(arr.T, vec)"
     ],
     "language": "python",
     "metadata": {},
     "outputs": [
      {
       "output_type": "pyout",
       "prompt_number": 352,
       "text": [
        "array([ 0.,  0.,  0.])"
       ]
      }
     ],
     "prompt_number": 352
    },
    {
     "cell_type": "code",
     "collapsed": false,
     "input": [
      "arr = np.random.randn(2,3)\n",
      "np.dot(arr, arr.T)"
     ],
     "language": "python",
     "metadata": {},
     "outputs": [
      {
       "output_type": "pyout",
       "prompt_number": 353,
       "text": [
        "array([[ 11.1868,   1.9457],\n",
        "       [  1.9457,   1.9679]])"
       ]
      }
     ],
     "prompt_number": 353
    },
    {
     "cell_type": "code",
     "collapsed": false,
     "input": [
      "np.dot(arr.T, arr)"
     ],
     "language": "python",
     "metadata": {},
     "outputs": [
      {
       "output_type": "pyout",
       "prompt_number": 354,
       "text": [
        "array([[ 2.4879, -0.9372,  4.2007],\n",
        "       [-0.9372,  1.0707, -0.2422],\n",
        "       [ 4.2007, -0.2422,  9.5962]])"
       ]
      }
     ],
     "prompt_number": 354
    },
    {
     "cell_type": "code",
     "collapsed": false,
     "input": [
      "a = np.random.randn(5,2,3)\n",
      "b = np.random.randn(2,3)\n",
      "np.dot(a, b.T)"
     ],
     "language": "python",
     "metadata": {},
     "outputs": [
      {
       "output_type": "pyout",
       "prompt_number": 355,
       "text": [
        "array([[[-0.7184,  1.2361],\n",
        "        [ 0.1465,  0.411 ]],\n",
        "\n",
        "       [[ 0.8093, -1.1328],\n",
        "        [ 2.1862,  0.7199]],\n",
        "\n",
        "       [[-0.0089,  0.2586],\n",
        "        [-1.0335,  1.0687]],\n",
        "\n",
        "       [[-0.5067,  0.4145],\n",
        "        [-1.9715,  1.0619]],\n",
        "\n",
        "       [[-0.6083,  2.0049],\n",
        "        [ 0.4974,  0.107 ]]])"
       ]
      }
     ],
     "prompt_number": 355
    },
    {
     "cell_type": "markdown",
     "metadata": {},
     "source": [
      "(should be at about 50')"
     ]
    },
    {
     "cell_type": "markdown",
     "metadata": {},
     "source": [
      "## pandas: Python Data Analysis Library\n",
      "\n",
      "### What is it?\n",
      "\n",
      "*Python has long been great for data munging and preparation, but less so for\n",
      "data analysis and modeling. pandas helps fill this gap, enabling you to carry\n",
      "out your entire data analysis workflow in Python without having to switch to a\n",
      "more domain specific language like R.*\n",
      "\n",
      "The heart of pandas is the DataFrame object for data manipulation. It features:\n",
      "\n",
      "- a powerful index object\n",
      "- data alignment\n",
      "- handling of missing data\n",
      "- aggregation with groupby\n",
      "- data manipuation via reshape, pivot, slice, merge, join\n",
      "\n",
      "### Series: labelled arrays\n",
      "\n",
      "The pandas Series is the simplest datastructure to start with. It is a subclass\n",
      "of ndarray that supports more meaninful indices."
     ]
    },
    {
     "cell_type": "markdown",
     "metadata": {},
     "source": [
      "#### Let's look at some creation examples for Series"
     ]
    },
    {
     "cell_type": "code",
     "collapsed": false,
     "input": [
      "import pandas as pd\n",
      "\n",
      "values = np.array([2.0, 1.0, 5.0, 0.97, 3.0, 10.0, 0.0599, 8.0])\n",
      "ser = pd.Series(values)\n",
      "ser"
     ],
     "language": "python",
     "metadata": {},
     "outputs": [
      {
       "output_type": "pyout",
       "prompt_number": 1,
       "text": [
        "0     2.0000\n",
        "1     1.0000\n",
        "2     5.0000\n",
        "3     0.9700\n",
        "4     3.0000\n",
        "5    10.0000\n",
        "6     0.0599\n",
        "7     8.0000"
       ]
      }
     ],
     "prompt_number": 1
    },
    {
     "cell_type": "code",
     "collapsed": false,
     "input": [
      "values = np.array([2.0, 1.0, 5.0, 0.97, 3.0, 10.0, 0.0599, 8.0])\n",
      "labels = ['A', 'B', 'C', 'D', 'E', 'F', 'G', 'H']\n",
      "ser = pd.Series(data=values, index=labels)\n",
      "ser\n"
     ],
     "language": "python",
     "metadata": {},
     "outputs": [
      {
       "output_type": "pyout",
       "prompt_number": 2,
       "text": [
        "A     2.0000\n",
        "B     1.0000\n",
        "C     5.0000\n",
        "D     0.9700\n",
        "E     3.0000\n",
        "F    10.0000\n",
        "G     0.0599\n",
        "H     8.0000"
       ]
      }
     ],
     "prompt_number": 2
    },
    {
     "cell_type": "code",
     "collapsed": false,
     "input": [
      "movie_rating = {\n",
      "    'age': 1,\n",
      "    'gender': 'F',\n",
      "    'genres': 'Drama',\n",
      "    'movie_id': 1193,\n",
      "    'occupation': 10,\n",
      "    'rating': 5,\n",
      "    'timestamp': 978300760,\n",
      "    'title': \"One Flew Over the Cuckoo's Nest (1975)\",\n",
      "    'user_id': 1,\n",
      "    'zip': '48067'\n",
      "    }\n",
      "ser = pd.Series(movie_rating)\n",
      "ser\n"
     ],
     "language": "python",
     "metadata": {},
     "outputs": [
      {
       "output_type": "pyout",
       "prompt_number": 3,
       "text": [
        "age                                                1\n",
        "gender                                             F\n",
        "genres                                         Drama\n",
        "movie_id                                        1193\n",
        "occupation                                        10\n",
        "rating                                             5\n",
        "timestamp                                  978300760\n",
        "title         One Flew Over the Cuckoo's Nest (1975)\n",
        "user_id                                            1\n",
        "zip                                            48067"
       ]
      }
     ],
     "prompt_number": 3
    },
    {
     "cell_type": "code",
     "collapsed": false,
     "input": [
      "ser.index"
     ],
     "language": "python",
     "metadata": {},
     "outputs": [
      {
       "output_type": "pyout",
       "prompt_number": 4,
       "text": [
        "Index([age, gender, genres, movie_id, occupation, rating, timestamp, title, user_id, zip], dtype=object)"
       ]
      }
     ],
     "prompt_number": 4
    },
    {
     "cell_type": "code",
     "collapsed": false,
     "input": [
      "ser.values"
     ],
     "language": "python",
     "metadata": {},
     "outputs": [
      {
       "output_type": "pyout",
       "prompt_number": 5,
       "text": [
        "array([1, 'F', 'Drama', 1193, 10, 5, 978300760,\n",
        "       \"One Flew Over the Cuckoo's Nest (1975)\", 1, '48067'], dtype=object)"
       ]
      }
     ],
     "prompt_number": 5
    },
    {
     "cell_type": "markdown",
     "metadata": {},
     "source": [
      "#### Series Indexing"
     ]
    },
    {
     "cell_type": "code",
     "collapsed": false,
     "input": [
      "ser[0]"
     ],
     "language": "python",
     "metadata": {},
     "outputs": [
      {
       "output_type": "pyout",
       "prompt_number": 361,
       "text": [
        "1"
       ]
      }
     ],
     "prompt_number": 361
    },
    {
     "cell_type": "code",
     "collapsed": false,
     "input": [
      "ser['gender']"
     ],
     "language": "python",
     "metadata": {},
     "outputs": [
      {
       "output_type": "pyout",
       "prompt_number": 362,
       "text": [
        "'F'"
       ]
      }
     ],
     "prompt_number": 362
    },
    {
     "cell_type": "code",
     "collapsed": false,
     "input": [
      "ser.get_value('gender')"
     ],
     "language": "python",
     "metadata": {},
     "outputs": [
      {
       "output_type": "pyout",
       "prompt_number": 363,
       "text": [
        "'F'"
       ]
      }
     ],
     "prompt_number": 363
    },
    {
     "cell_type": "markdown",
     "metadata": {},
     "source": [
      "#### Operations between Series with different index objects"
     ]
    },
    {
     "cell_type": "code",
     "collapsed": false,
     "input": [
      "ser_1 = pd.Series(data=[1,3,4], index=['A', 'B', 'C'])\n",
      "ser_2 = pd.Series(data=[5,5,5], index=['A', 'G', 'C'])\n",
      "ser_1 + ser_2\n"
     ],
     "language": "python",
     "metadata": {},
     "outputs": [
      {
       "output_type": "pyout",
       "prompt_number": 6,
       "text": [
        "A     6\n",
        "B   NaN\n",
        "C     9\n",
        "G   NaN"
       ]
      }
     ],
     "prompt_number": 6
    },
    {
     "cell_type": "markdown",
     "metadata": {},
     "source": [
      "### DataFrame\n",
      "\n",
      "The DataFrame is the 2-dimensional version of a Series.\n",
      "\n",
      "#### Let's look at some creation examples for DataFrame\n",
      "\n",
      "You can think of it as a spreadsheet whose columns are Series objects."
     ]
    },
    {
     "cell_type": "code",
     "collapsed": false,
     "input": [
      "# build from a dict of equal-length lists or ndarrays\n",
      "pd.DataFrame({'col_1': [0.12, 7, 45, 10], 'col_2': [0.9, 9, 34, 11]})"
     ],
     "language": "python",
     "metadata": {},
     "outputs": [
      {
       "html": [
        "<div style=\"max-height:1000px;max-width:1500px;overflow:auto;\">\n",
        "<table border=\"1\" class=\"dataframe\">\n",
        "  <thead>\n",
        "    <tr style=\"text-align: right;\">\n",
        "      <th></th>\n",
        "      <th>col_1</th>\n",
        "      <th>col_2</th>\n",
        "    </tr>\n",
        "  </thead>\n",
        "  <tbody>\n",
        "    <tr>\n",
        "      <th>0</th>\n",
        "      <td>  0.12</td>\n",
        "      <td>  0.9</td>\n",
        "    </tr>\n",
        "    <tr>\n",
        "      <th>1</th>\n",
        "      <td>  7.00</td>\n",
        "      <td>  9.0</td>\n",
        "    </tr>\n",
        "    <tr>\n",
        "      <th>2</th>\n",
        "      <td> 45.00</td>\n",
        "      <td> 34.0</td>\n",
        "    </tr>\n",
        "    <tr>\n",
        "      <th>3</th>\n",
        "      <td> 10.00</td>\n",
        "      <td> 11.0</td>\n",
        "    </tr>\n",
        "  </tbody>\n",
        "</table>\n",
        "</div>"
       ],
       "output_type": "pyout",
       "prompt_number": 365,
       "text": [
        "   col_1  col_2\n",
        "0   0.12    0.9\n",
        "1   7.00    9.0\n",
        "2  45.00   34.0\n",
        "3  10.00   11.0"
       ]
      }
     ],
     "prompt_number": 365
    },
    {
     "cell_type": "markdown",
     "metadata": {},
     "source": [
      "You can explicitly set the column names and index values as well."
     ]
    },
    {
     "cell_type": "code",
     "collapsed": false,
     "input": [
      "pd.DataFrame(data={'col_1': [0.12, 7, 45, 10], 'col_2': [0.9, 9, 34, 11]},\n",
      "             columns=['col_1', 'col_2', 'col_3'])"
     ],
     "language": "python",
     "metadata": {},
     "outputs": [
      {
       "html": [
        "<div style=\"max-height:1000px;max-width:1500px;overflow:auto;\">\n",
        "<table border=\"1\" class=\"dataframe\">\n",
        "  <thead>\n",
        "    <tr style=\"text-align: right;\">\n",
        "      <th></th>\n",
        "      <th>col_1</th>\n",
        "      <th>col_2</th>\n",
        "      <th>col_3</th>\n",
        "    </tr>\n",
        "  </thead>\n",
        "  <tbody>\n",
        "    <tr>\n",
        "      <th>0</th>\n",
        "      <td>  0.12</td>\n",
        "      <td>  0.9</td>\n",
        "      <td> NaN</td>\n",
        "    </tr>\n",
        "    <tr>\n",
        "      <th>1</th>\n",
        "      <td>  7.00</td>\n",
        "      <td>  9.0</td>\n",
        "      <td> NaN</td>\n",
        "    </tr>\n",
        "    <tr>\n",
        "      <th>2</th>\n",
        "      <td> 45.00</td>\n",
        "      <td> 34.0</td>\n",
        "      <td> NaN</td>\n",
        "    </tr>\n",
        "    <tr>\n",
        "      <th>3</th>\n",
        "      <td> 10.00</td>\n",
        "      <td> 11.0</td>\n",
        "      <td> NaN</td>\n",
        "    </tr>\n",
        "  </tbody>\n",
        "</table>\n",
        "</div>"
       ],
       "output_type": "pyout",
       "prompt_number": 8,
       "text": [
        "   col_1  col_2 col_3\n",
        "0   0.12    0.9   NaN\n",
        "1   7.00    9.0   NaN\n",
        "2  45.00   34.0   NaN\n",
        "3  10.00   11.0   NaN"
       ]
      }
     ],
     "prompt_number": 8
    },
    {
     "cell_type": "code",
     "collapsed": false,
     "input": [
      "pd.DataFrame(data={'col_1': [0.12, 7, 45, 10], 'col_2': [0.9, 9, 34, 11]},\n",
      "             columns=['col_1', 'col_2', 'col_3'],\n",
      "             index=['obs1', 'obs2', 'obs3', 'obs4'])\n"
     ],
     "language": "python",
     "metadata": {},
     "outputs": [
      {
       "html": [
        "<div style=\"max-height:1000px;max-width:1500px;overflow:auto;\">\n",
        "<table border=\"1\" class=\"dataframe\">\n",
        "  <thead>\n",
        "    <tr style=\"text-align: right;\">\n",
        "      <th></th>\n",
        "      <th>col_1</th>\n",
        "      <th>col_2</th>\n",
        "      <th>col_3</th>\n",
        "    </tr>\n",
        "  </thead>\n",
        "  <tbody>\n",
        "    <tr>\n",
        "      <th>obs1</th>\n",
        "      <td>  0.12</td>\n",
        "      <td>  0.9</td>\n",
        "      <td> NaN</td>\n",
        "    </tr>\n",
        "    <tr>\n",
        "      <th>obs2</th>\n",
        "      <td>  7.00</td>\n",
        "      <td>  9.0</td>\n",
        "      <td> NaN</td>\n",
        "    </tr>\n",
        "    <tr>\n",
        "      <th>obs3</th>\n",
        "      <td> 45.00</td>\n",
        "      <td> 34.0</td>\n",
        "      <td> NaN</td>\n",
        "    </tr>\n",
        "    <tr>\n",
        "      <th>obs4</th>\n",
        "      <td> 10.00</td>\n",
        "      <td> 11.0</td>\n",
        "      <td> NaN</td>\n",
        "    </tr>\n",
        "  </tbody>\n",
        "</table>\n",
        "</div>"
       ],
       "output_type": "pyout",
       "prompt_number": 7,
       "text": [
        "      col_1  col_2 col_3\n",
        "obs1   0.12    0.9   NaN\n",
        "obs2   7.00    9.0   NaN\n",
        "obs3  45.00   34.0   NaN\n",
        "obs4  10.00   11.0   NaN"
       ]
      }
     ],
     "prompt_number": 7
    },
    {
     "cell_type": "markdown",
     "metadata": {},
     "source": [
      "You can also think of it as a dictionary of Series objects."
     ]
    },
    {
     "cell_type": "code",
     "collapsed": false,
     "input": [
      "movie_rating = {\n",
      "    'gender': 'F',\n",
      "    'genres': 'Drama',\n",
      "    'movie_id': 1193,\n",
      "    'rating': 5,\n",
      "    'timestamp': 978300760,\n",
      "    'user_id': 1,\n",
      "    }\n",
      "ser_1 = pd.Series(movie_rating)\n",
      "ser_2 = pd.Series(movie_rating)\n",
      "df = pd.DataFrame({'r_1': ser_1, 'r_2': ser_2})\n",
      "df.columns.name = 'rating_events'\n",
      "df.index.name = 'rating_data'\n",
      "df"
     ],
     "language": "python",
     "metadata": {},
     "outputs": [
      {
       "html": [
        "<div style=\"max-height:1000px;max-width:1500px;overflow:auto;\">\n",
        "<table border=\"1\" class=\"dataframe\">\n",
        "  <thead>\n",
        "    <tr style=\"text-align: right;\">\n",
        "      <th>rating_events</th>\n",
        "      <th>r_1</th>\n",
        "      <th>r_2</th>\n",
        "    </tr>\n",
        "    <tr>\n",
        "      <th>rating_data</th>\n",
        "      <th></th>\n",
        "      <th></th>\n",
        "    </tr>\n",
        "  </thead>\n",
        "  <tbody>\n",
        "    <tr>\n",
        "      <th>gender</th>\n",
        "      <td>         F</td>\n",
        "      <td>         F</td>\n",
        "    </tr>\n",
        "    <tr>\n",
        "      <th>genres</th>\n",
        "      <td>     Drama</td>\n",
        "      <td>     Drama</td>\n",
        "    </tr>\n",
        "    <tr>\n",
        "      <th>movie_id</th>\n",
        "      <td>      1193</td>\n",
        "      <td>      1193</td>\n",
        "    </tr>\n",
        "    <tr>\n",
        "      <th>rating</th>\n",
        "      <td>         5</td>\n",
        "      <td>         5</td>\n",
        "    </tr>\n",
        "    <tr>\n",
        "      <th>timestamp</th>\n",
        "      <td> 978300760</td>\n",
        "      <td> 978300760</td>\n",
        "    </tr>\n",
        "    <tr>\n",
        "      <th>user_id</th>\n",
        "      <td>         1</td>\n",
        "      <td>         1</td>\n",
        "    </tr>\n",
        "  </tbody>\n",
        "</table>\n",
        "</div>"
       ],
       "output_type": "pyout",
       "prompt_number": 368,
       "text": [
        "rating_events        r_1        r_2\n",
        "rating_data                        \n",
        "gender                 F          F\n",
        "genres             Drama      Drama\n",
        "movie_id            1193       1193\n",
        "rating                 5          5\n",
        "timestamp      978300760  978300760\n",
        "user_id                1          1"
       ]
      }
     ],
     "prompt_number": 368
    },
    {
     "cell_type": "code",
     "collapsed": false,
     "input": [
      "df = df.T\n",
      "df"
     ],
     "language": "python",
     "metadata": {},
     "outputs": [
      {
       "html": [
        "<div style=\"max-height:1000px;max-width:1500px;overflow:auto;\">\n",
        "<table border=\"1\" class=\"dataframe\">\n",
        "  <thead>\n",
        "    <tr style=\"text-align: right;\">\n",
        "      <th>rating_data</th>\n",
        "      <th>gender</th>\n",
        "      <th>genres</th>\n",
        "      <th>movie_id</th>\n",
        "      <th>rating</th>\n",
        "      <th>timestamp</th>\n",
        "      <th>user_id</th>\n",
        "    </tr>\n",
        "    <tr>\n",
        "      <th>rating_events</th>\n",
        "      <th></th>\n",
        "      <th></th>\n",
        "      <th></th>\n",
        "      <th></th>\n",
        "      <th></th>\n",
        "      <th></th>\n",
        "    </tr>\n",
        "  </thead>\n",
        "  <tbody>\n",
        "    <tr>\n",
        "      <th>r_1</th>\n",
        "      <td> F</td>\n",
        "      <td> Drama</td>\n",
        "      <td> 1193</td>\n",
        "      <td> 5</td>\n",
        "      <td> 978300760</td>\n",
        "      <td> 1</td>\n",
        "    </tr>\n",
        "    <tr>\n",
        "      <th>r_2</th>\n",
        "      <td> F</td>\n",
        "      <td> Drama</td>\n",
        "      <td> 1193</td>\n",
        "      <td> 5</td>\n",
        "      <td> 978300760</td>\n",
        "      <td> 1</td>\n",
        "    </tr>\n",
        "  </tbody>\n",
        "</table>\n",
        "</div>"
       ],
       "output_type": "pyout",
       "prompt_number": 369,
       "text": [
        "rating_data   gender genres movie_id rating  timestamp user_id\n",
        "rating_events                                                 \n",
        "r_1                F  Drama     1193      5  978300760       1\n",
        "r_2                F  Drama     1193      5  978300760       1"
       ]
      }
     ],
     "prompt_number": 369
    },
    {
     "cell_type": "code",
     "collapsed": false,
     "input": [
      "df.columns "
     ],
     "language": "python",
     "metadata": {},
     "outputs": [
      {
       "output_type": "pyout",
       "prompt_number": 370,
       "text": [
        "Index([gender, genres, movie_id, rating, timestamp, user_id], dtype=object)"
       ]
      }
     ],
     "prompt_number": 370
    },
    {
     "cell_type": "code",
     "collapsed": false,
     "input": [
      "df.index"
     ],
     "language": "python",
     "metadata": {},
     "outputs": [
      {
       "output_type": "pyout",
       "prompt_number": 371,
       "text": [
        "Index([r_1, r_2], dtype=object)"
       ]
      }
     ],
     "prompt_number": 371
    },
    {
     "cell_type": "markdown",
     "metadata": {},
     "source": [
      "#### Adding/Deleting entries"
     ]
    },
    {
     "cell_type": "code",
     "collapsed": false,
     "input": [
      "df = pd.DataFrame({'r_1': ser_1, 'r_2': ser_2})\n",
      "df.drop('genres', axis=0)"
     ],
     "language": "python",
     "metadata": {},
     "outputs": [
      {
       "html": [
        "<div style=\"max-height:1000px;max-width:1500px;overflow:auto;\">\n",
        "<table border=\"1\" class=\"dataframe\">\n",
        "  <thead>\n",
        "    <tr style=\"text-align: right;\">\n",
        "      <th></th>\n",
        "      <th>r_1</th>\n",
        "      <th>r_2</th>\n",
        "    </tr>\n",
        "  </thead>\n",
        "  <tbody>\n",
        "    <tr>\n",
        "      <th>gender</th>\n",
        "      <td>         F</td>\n",
        "      <td>         F</td>\n",
        "    </tr>\n",
        "    <tr>\n",
        "      <th>movie_id</th>\n",
        "      <td>      1193</td>\n",
        "      <td>      1193</td>\n",
        "    </tr>\n",
        "    <tr>\n",
        "      <th>rating</th>\n",
        "      <td>         5</td>\n",
        "      <td>         5</td>\n",
        "    </tr>\n",
        "    <tr>\n",
        "      <th>timestamp</th>\n",
        "      <td> 978300760</td>\n",
        "      <td> 978300760</td>\n",
        "    </tr>\n",
        "    <tr>\n",
        "      <th>user_id</th>\n",
        "      <td>         1</td>\n",
        "      <td>         1</td>\n",
        "    </tr>\n",
        "  </tbody>\n",
        "</table>\n",
        "</div>"
       ],
       "output_type": "pyout",
       "prompt_number": 372,
       "text": [
        "                 r_1        r_2\n",
        "gender             F          F\n",
        "movie_id        1193       1193\n",
        "rating             5          5\n",
        "timestamp  978300760  978300760\n",
        "user_id            1          1"
       ]
      }
     ],
     "prompt_number": 372
    },
    {
     "cell_type": "code",
     "collapsed": false,
     "input": [
      "df.drop('r_1', axis=1)"
     ],
     "language": "python",
     "metadata": {},
     "outputs": [
      {
       "html": [
        "<div style=\"max-height:1000px;max-width:1500px;overflow:auto;\">\n",
        "<table border=\"1\" class=\"dataframe\">\n",
        "  <thead>\n",
        "    <tr style=\"text-align: right;\">\n",
        "      <th></th>\n",
        "      <th>r_2</th>\n",
        "    </tr>\n",
        "    <tr>\n",
        "      <th>rating_data</th>\n",
        "      <th></th>\n",
        "    </tr>\n",
        "  </thead>\n",
        "  <tbody>\n",
        "    <tr>\n",
        "      <th>gender</th>\n",
        "      <td>         F</td>\n",
        "    </tr>\n",
        "    <tr>\n",
        "      <th>genres</th>\n",
        "      <td>     Drama</td>\n",
        "    </tr>\n",
        "    <tr>\n",
        "      <th>movie_id</th>\n",
        "      <td>      1193</td>\n",
        "    </tr>\n",
        "    <tr>\n",
        "      <th>rating</th>\n",
        "      <td>         5</td>\n",
        "    </tr>\n",
        "    <tr>\n",
        "      <th>timestamp</th>\n",
        "      <td> 978300760</td>\n",
        "    </tr>\n",
        "    <tr>\n",
        "      <th>user_id</th>\n",
        "      <td>         1</td>\n",
        "    </tr>\n",
        "  </tbody>\n",
        "</table>\n",
        "</div>"
       ],
       "output_type": "pyout",
       "prompt_number": 373,
       "text": [
        "                   r_2\n",
        "rating_data           \n",
        "gender               F\n",
        "genres           Drama\n",
        "movie_id          1193\n",
        "rating               5\n",
        "timestamp    978300760\n",
        "user_id              1"
       ]
      }
     ],
     "prompt_number": 373
    },
    {
     "cell_type": "code",
     "collapsed": false,
     "input": [
      "# careful with the order here\n",
      "df['r_3'] = ['F', 'Drama', 1193, 5, 978300760, 1]\n",
      "df"
     ],
     "language": "python",
     "metadata": {},
     "outputs": [
      {
       "html": [
        "<div style=\"max-height:1000px;max-width:1500px;overflow:auto;\">\n",
        "<table border=\"1\" class=\"dataframe\">\n",
        "  <thead>\n",
        "    <tr style=\"text-align: right;\">\n",
        "      <th></th>\n",
        "      <th>r_1</th>\n",
        "      <th>r_2</th>\n",
        "      <th>r_3</th>\n",
        "    </tr>\n",
        "    <tr>\n",
        "      <th>rating_data</th>\n",
        "      <th></th>\n",
        "      <th></th>\n",
        "      <th></th>\n",
        "    </tr>\n",
        "  </thead>\n",
        "  <tbody>\n",
        "    <tr>\n",
        "      <th>gender</th>\n",
        "      <td>         F</td>\n",
        "      <td>         F</td>\n",
        "      <td>         F</td>\n",
        "    </tr>\n",
        "    <tr>\n",
        "      <th>genres</th>\n",
        "      <td>     Drama</td>\n",
        "      <td>     Drama</td>\n",
        "      <td>     Drama</td>\n",
        "    </tr>\n",
        "    <tr>\n",
        "      <th>movie_id</th>\n",
        "      <td>      1193</td>\n",
        "      <td>      1193</td>\n",
        "      <td>      1193</td>\n",
        "    </tr>\n",
        "    <tr>\n",
        "      <th>rating</th>\n",
        "      <td>         5</td>\n",
        "      <td>         5</td>\n",
        "      <td>         5</td>\n",
        "    </tr>\n",
        "    <tr>\n",
        "      <th>timestamp</th>\n",
        "      <td> 978300760</td>\n",
        "      <td> 978300760</td>\n",
        "      <td> 978300760</td>\n",
        "    </tr>\n",
        "    <tr>\n",
        "      <th>user_id</th>\n",
        "      <td>         1</td>\n",
        "      <td>         1</td>\n",
        "      <td>         1</td>\n",
        "    </tr>\n",
        "  </tbody>\n",
        "</table>\n",
        "</div>"
       ],
       "output_type": "pyout",
       "prompt_number": 374,
       "text": [
        "                   r_1        r_2        r_3\n",
        "rating_data                                 \n",
        "gender               F          F          F\n",
        "genres           Drama      Drama      Drama\n",
        "movie_id          1193       1193       1193\n",
        "rating               5          5          5\n",
        "timestamp    978300760  978300760  978300760\n",
        "user_id              1          1          1"
       ]
      }
     ],
     "prompt_number": 374
    },
    {
     "cell_type": "markdown",
     "metadata": {},
     "source": [
      "(should be at about 1:30 hrs)"
     ]
    },
    {
     "cell_type": "markdown",
     "metadata": {},
     "source": [
      "--> Go to question set"
     ]
    },
    {
     "cell_type": "markdown",
     "metadata": {},
     "source": [
      "## The MovieLens dataset: loading and first look\n",
      "\n",
      "Loading of the MovieLens dataset here is based on the intro chapter of 'Python\n",
      "for Data Analysis\".\n",
      "\n",
      "The MovieLens data is spread across three files. Using the `pd.read_table`\n",
      "method we load each file:\n"
     ]
    },
    {
     "cell_type": "code",
     "collapsed": false,
     "input": [
      "import pandas as pd\n",
      "\n",
      "unames = ['user_id', 'gender', 'age', 'occupation', 'zip']\n",
      "users = pd.read_table('data/ml-1m/users.dat',\n",
      "                      sep='::', header=None, names=unames)\n",
      "\n",
      "rnames = ['user_id', 'movie_id', 'rating', 'timestamp']\n",
      "ratings = pd.read_table('data/ml-1m/ratings.dat',\n",
      "                        sep='::', header=None, names=rnames)\n",
      "\n",
      "mnames = ['movie_id', 'title', 'genres']\n",
      "movies = pd.read_table('data/ml-1m/movies.dat',\n",
      "                       sep='::', header=None, names=mnames)\n",
      "\n",
      "# show how one of them looks\n",
      "ratings.head(5)\n"
     ],
     "language": "python",
     "metadata": {},
     "outputs": [
      {
       "html": [
        "<div style=\"max-height:1000px;max-width:1500px;overflow:auto;\">\n",
        "<table border=\"1\" class=\"dataframe\">\n",
        "  <thead>\n",
        "    <tr style=\"text-align: right;\">\n",
        "      <th></th>\n",
        "      <th>user_id</th>\n",
        "      <th>movie_id</th>\n",
        "      <th>rating</th>\n",
        "      <th>timestamp</th>\n",
        "    </tr>\n",
        "  </thead>\n",
        "  <tbody>\n",
        "    <tr>\n",
        "      <th>0</th>\n",
        "      <td> 1</td>\n",
        "      <td> 1193</td>\n",
        "      <td> 5</td>\n",
        "      <td> 978300760</td>\n",
        "    </tr>\n",
        "    <tr>\n",
        "      <th>1</th>\n",
        "      <td> 1</td>\n",
        "      <td>  661</td>\n",
        "      <td> 3</td>\n",
        "      <td> 978302109</td>\n",
        "    </tr>\n",
        "    <tr>\n",
        "      <th>2</th>\n",
        "      <td> 1</td>\n",
        "      <td>  914</td>\n",
        "      <td> 3</td>\n",
        "      <td> 978301968</td>\n",
        "    </tr>\n",
        "    <tr>\n",
        "      <th>3</th>\n",
        "      <td> 1</td>\n",
        "      <td> 3408</td>\n",
        "      <td> 4</td>\n",
        "      <td> 978300275</td>\n",
        "    </tr>\n",
        "    <tr>\n",
        "      <th>4</th>\n",
        "      <td> 1</td>\n",
        "      <td> 2355</td>\n",
        "      <td> 5</td>\n",
        "      <td> 978824291</td>\n",
        "    </tr>\n",
        "  </tbody>\n",
        "</table>\n",
        "</div>"
       ],
       "output_type": "pyout",
       "prompt_number": 63,
       "text": [
        "   user_id  movie_id  rating  timestamp\n",
        "0        1      1193       5  978300760\n",
        "1        1       661       3  978302109\n",
        "2        1       914       3  978301968\n",
        "3        1      3408       4  978300275\n",
        "4        1      2355       5  978824291"
       ]
      }
     ],
     "prompt_number": 63
    },
    {
     "cell_type": "markdown",
     "metadata": {},
     "source": [
      "Using `pd.merge` we get it all into  one big DataFrame."
     ]
    },
    {
     "cell_type": "code",
     "collapsed": false,
     "input": [
      "movielens = pd.merge(pd.merge(ratings, users), movies)\n",
      "# let's work with a smaller subset for speed reasons\n",
      "movielens = movielens.ix[np.random.choice(movielens.index.size, 10000)]\n",
      "movielens\n",
      "\n"
     ],
     "language": "python",
     "metadata": {},
     "outputs": [
      {
       "output_type": "pyout",
       "prompt_number": 64,
       "text": [
        "<class 'pandas.core.frame.DataFrame'>\n",
        "Int64Index: 10000 entries, 386133 to 321490\n",
        "Data columns:\n",
        "user_id       10000  non-null values\n",
        "movie_id      10000  non-null values\n",
        "rating        10000  non-null values\n",
        "timestamp     10000  non-null values\n",
        "gender        10000  non-null values\n",
        "age           10000  non-null values\n",
        "occupation    10000  non-null values\n",
        "zip           10000  non-null values\n",
        "title         10000  non-null values\n",
        "genres        10000  non-null values\n",
        "dtypes: int64(6), object(4)"
       ]
      }
     ],
     "prompt_number": 64
    },
    {
     "cell_type": "markdown",
     "metadata": {},
     "source": [
      "## Evaluation\n",
      "\n",
      "Before we attempt to express the basic equations for content-based or\n",
      "collaborative filtering we need a basic mechanism to evaluate the performance of\n",
      "our engine."
     ]
    },
    {
     "cell_type": "markdown",
     "metadata": {},
     "source": [
      "### Evaluation: split ratings into train and test sets\n",
      "\n",
      "This subsection will generate training and testing sets for evaluation. You do\n",
      "not need to understand every single line of code, just the general gist.\n",
      "\n",
      "If we take a per user approach of partitionning the available data into a\n",
      "training and testing set, then the bare minimum that we need per user is at\n",
      "least two ratings. We start by making sure that we have at least 2 ratings per\n",
      "user."
     ]
    },
    {
     "cell_type": "code",
     "collapsed": false,
     "input": [
      "user_ids_larger_1 = pd.value_counts(movielens.user_id, sort=False) > 1\n",
      "movielens = movielens[user_ids_larger_1[movielens.user_id]]\n",
      "np.all(movielens.user_id.value_counts() > 1)"
     ],
     "language": "python",
     "metadata": {},
     "outputs": [
      {
       "output_type": "pyout",
       "prompt_number": 65,
       "text": [
        "True"
       ]
      }
     ],
     "prompt_number": 65
    },
    {
     "cell_type": "markdown",
     "metadata": {},
     "source": [
      "Using the one-line-per-rating format in the original DataFrame, we can generate\n",
      "train and test subsets using groupby and apply."
     ]
    },
    {
     "cell_type": "code",
     "collapsed": false,
     "input": [
      "def assign_to_set(df):\n",
      "    sampled_ids = np.random.choice(df.index,\n",
      "                                   size=np.int64(np.ceil(df.index.size * 0.2)),\n",
      "                                   replace=False)\n",
      "    df.ix[sampled_ids] = True\n",
      "    return df\n",
      "\n",
      "np.random.seed(4)\n",
      "movielens['for_testing'] = False\n",
      "grouped = movielens.groupby('user_id', group_keys=False).apply(assign_to_set)\n",
      "movielens_train = movielens[grouped.for_testing == False]\n",
      "movielens_test = movielens[grouped.for_testing == True]\n",
      "print movielens_train.index.size\n",
      "print movielens_test.index.size\n",
      "print movielens_train.index & movielens_test.index"
     ],
     "language": "python",
     "metadata": {},
     "outputs": [
      {
       "ename": "Exception",
       "evalue": "Reindexing only valid with uniquely valued Index objects",
       "output_type": "pyerr",
       "traceback": [
        "\u001b[0;31m---------------------------------------------------------------------------\u001b[0m\n\u001b[0;31mException\u001b[0m                                 Traceback (most recent call last)",
        "\u001b[0;32m<ipython-input-66-418caac824ba>\u001b[0m in \u001b[0;36m<module>\u001b[0;34m()\u001b[0m\n\u001b[1;32m      8\u001b[0m \u001b[0mnp\u001b[0m\u001b[0;34m.\u001b[0m\u001b[0mrandom\u001b[0m\u001b[0;34m.\u001b[0m\u001b[0mseed\u001b[0m\u001b[0;34m(\u001b[0m\u001b[0;36m4\u001b[0m\u001b[0;34m)\u001b[0m\u001b[0;34m\u001b[0m\u001b[0m\n\u001b[1;32m      9\u001b[0m \u001b[0mmovielens\u001b[0m\u001b[0;34m[\u001b[0m\u001b[0;34m'for_testing'\u001b[0m\u001b[0;34m]\u001b[0m \u001b[0;34m=\u001b[0m \u001b[0mFalse\u001b[0m\u001b[0;34m\u001b[0m\u001b[0m\n\u001b[0;32m---> 10\u001b[0;31m \u001b[0mgrouped\u001b[0m \u001b[0;34m=\u001b[0m \u001b[0mmovielens\u001b[0m\u001b[0;34m.\u001b[0m\u001b[0mgroupby\u001b[0m\u001b[0;34m(\u001b[0m\u001b[0;34m'user_id'\u001b[0m\u001b[0;34m,\u001b[0m \u001b[0mgroup_keys\u001b[0m\u001b[0;34m=\u001b[0m\u001b[0mFalse\u001b[0m\u001b[0;34m)\u001b[0m\u001b[0;34m.\u001b[0m\u001b[0mapply\u001b[0m\u001b[0;34m(\u001b[0m\u001b[0massign_to_set\u001b[0m\u001b[0;34m)\u001b[0m\u001b[0;34m\u001b[0m\u001b[0m\n\u001b[0m\u001b[1;32m     11\u001b[0m \u001b[0mmovielens_train\u001b[0m \u001b[0;34m=\u001b[0m \u001b[0mmovielens\u001b[0m\u001b[0;34m[\u001b[0m\u001b[0mgrouped\u001b[0m\u001b[0;34m.\u001b[0m\u001b[0mfor_testing\u001b[0m \u001b[0;34m==\u001b[0m \u001b[0mFalse\u001b[0m\u001b[0;34m]\u001b[0m\u001b[0;34m\u001b[0m\u001b[0m\n\u001b[1;32m     12\u001b[0m \u001b[0mmovielens_test\u001b[0m \u001b[0;34m=\u001b[0m \u001b[0mmovielens\u001b[0m\u001b[0;34m[\u001b[0m\u001b[0mgrouped\u001b[0m\u001b[0;34m.\u001b[0m\u001b[0mfor_testing\u001b[0m \u001b[0;34m==\u001b[0m \u001b[0mTrue\u001b[0m\u001b[0;34m]\u001b[0m\u001b[0;34m\u001b[0m\u001b[0m\n",
        "\u001b[0;32m/usr/local/Cellar/python/2.7.3/Frameworks/Python.framework/Versions/2.7/lib/python2.7/site-packages/pandas/core/groupby.pyc\u001b[0m in \u001b[0;36mapply\u001b[0;34m(self, func, *args, **kwargs)\u001b[0m\n\u001b[1;32m    320\u001b[0m         \u001b[0mfunc\u001b[0m \u001b[0;34m=\u001b[0m \u001b[0m_intercept_function\u001b[0m\u001b[0;34m(\u001b[0m\u001b[0mfunc\u001b[0m\u001b[0;34m)\u001b[0m\u001b[0;34m\u001b[0m\u001b[0m\n\u001b[1;32m    321\u001b[0m         \u001b[0mf\u001b[0m \u001b[0;34m=\u001b[0m \u001b[0;32mlambda\u001b[0m \u001b[0mg\u001b[0m\u001b[0;34m:\u001b[0m \u001b[0mfunc\u001b[0m\u001b[0;34m(\u001b[0m\u001b[0mg\u001b[0m\u001b[0;34m,\u001b[0m \u001b[0;34m*\u001b[0m\u001b[0margs\u001b[0m\u001b[0;34m,\u001b[0m \u001b[0;34m**\u001b[0m\u001b[0mkwargs\u001b[0m\u001b[0;34m)\u001b[0m\u001b[0;34m\u001b[0m\u001b[0m\n\u001b[0;32m--> 322\u001b[0;31m         \u001b[0;32mreturn\u001b[0m \u001b[0mself\u001b[0m\u001b[0;34m.\u001b[0m\u001b[0m_python_apply_general\u001b[0m\u001b[0;34m(\u001b[0m\u001b[0mf\u001b[0m\u001b[0;34m)\u001b[0m\u001b[0;34m\u001b[0m\u001b[0m\n\u001b[0m\u001b[1;32m    323\u001b[0m \u001b[0;34m\u001b[0m\u001b[0m\n\u001b[1;32m    324\u001b[0m     \u001b[0;32mdef\u001b[0m \u001b[0m_python_apply_general\u001b[0m\u001b[0;34m(\u001b[0m\u001b[0mself\u001b[0m\u001b[0;34m,\u001b[0m \u001b[0mf\u001b[0m\u001b[0;34m)\u001b[0m\u001b[0;34m:\u001b[0m\u001b[0;34m\u001b[0m\u001b[0m\n",
        "\u001b[0;32m/usr/local/Cellar/python/2.7.3/Frameworks/Python.framework/Versions/2.7/lib/python2.7/site-packages/pandas/core/groupby.pyc\u001b[0m in \u001b[0;36m_python_apply_general\u001b[0;34m(self, f)\u001b[0m\n\u001b[1;32m    326\u001b[0m \u001b[0;34m\u001b[0m\u001b[0m\n\u001b[1;32m    327\u001b[0m         return self._wrap_applied_output(keys, values,\n\u001b[0;32m--> 328\u001b[0;31m                                          not_indexed_same=mutated)\n\u001b[0m\u001b[1;32m    329\u001b[0m \u001b[0;34m\u001b[0m\u001b[0m\n\u001b[1;32m    330\u001b[0m     \u001b[0;32mdef\u001b[0m \u001b[0maggregate\u001b[0m\u001b[0;34m(\u001b[0m\u001b[0mself\u001b[0m\u001b[0;34m,\u001b[0m \u001b[0mfunc\u001b[0m\u001b[0;34m,\u001b[0m \u001b[0;34m*\u001b[0m\u001b[0margs\u001b[0m\u001b[0;34m,\u001b[0m \u001b[0;34m**\u001b[0m\u001b[0mkwargs\u001b[0m\u001b[0;34m)\u001b[0m\u001b[0;34m:\u001b[0m\u001b[0;34m\u001b[0m\u001b[0m\n",
        "\u001b[0;32m/usr/local/Cellar/python/2.7.3/Frameworks/Python.framework/Versions/2.7/lib/python2.7/site-packages/pandas/core/groupby.pyc\u001b[0m in \u001b[0;36m_wrap_applied_output\u001b[0;34m(self, keys, values, not_indexed_same)\u001b[0m\n\u001b[1;32m   1742\u001b[0m         \u001b[0;32mif\u001b[0m \u001b[0misinstance\u001b[0m\u001b[0;34m(\u001b[0m\u001b[0mvalues\u001b[0m\u001b[0;34m[\u001b[0m\u001b[0;36m0\u001b[0m\u001b[0;34m]\u001b[0m\u001b[0;34m,\u001b[0m \u001b[0mDataFrame\u001b[0m\u001b[0;34m)\u001b[0m\u001b[0;34m:\u001b[0m\u001b[0;34m\u001b[0m\u001b[0m\n\u001b[1;32m   1743\u001b[0m             return self._concat_objects(keys, values,\n\u001b[0;32m-> 1744\u001b[0;31m                                         not_indexed_same=not_indexed_same)\n\u001b[0m\u001b[1;32m   1745\u001b[0m         \u001b[0;32melif\u001b[0m \u001b[0mhasattr\u001b[0m\u001b[0;34m(\u001b[0m\u001b[0mself\u001b[0m\u001b[0;34m.\u001b[0m\u001b[0mgrouper\u001b[0m\u001b[0;34m,\u001b[0m \u001b[0;34m'groupings'\u001b[0m\u001b[0;34m)\u001b[0m\u001b[0;34m:\u001b[0m\u001b[0;34m\u001b[0m\u001b[0m\n\u001b[1;32m   1746\u001b[0m             \u001b[0;32mif\u001b[0m \u001b[0mlen\u001b[0m\u001b[0;34m(\u001b[0m\u001b[0mself\u001b[0m\u001b[0;34m.\u001b[0m\u001b[0mgrouper\u001b[0m\u001b[0;34m.\u001b[0m\u001b[0mgroupings\u001b[0m\u001b[0;34m)\u001b[0m \u001b[0;34m>\u001b[0m \u001b[0;36m1\u001b[0m\u001b[0;34m:\u001b[0m\u001b[0;34m\u001b[0m\u001b[0m\n",
        "\u001b[0;32m/usr/local/Cellar/python/2.7.3/Frameworks/Python.framework/Versions/2.7/lib/python2.7/site-packages/pandas/core/groupby.pyc\u001b[0m in \u001b[0;36m_concat_objects\u001b[0;34m(self, keys, values, not_indexed_same)\u001b[0m\n\u001b[1;32m    477\u001b[0m                 \u001b[0mresult\u001b[0m \u001b[0;34m=\u001b[0m \u001b[0mresult\u001b[0m\u001b[0;34m.\u001b[0m\u001b[0mreindex\u001b[0m\u001b[0;34m(\u001b[0m\u001b[0max\u001b[0m\u001b[0;34m)\u001b[0m\u001b[0;34m\u001b[0m\u001b[0m\n\u001b[1;32m    478\u001b[0m             \u001b[0;32melse\u001b[0m\u001b[0;34m:\u001b[0m\u001b[0;34m\u001b[0m\u001b[0m\n\u001b[0;32m--> 479\u001b[0;31m                 \u001b[0mresult\u001b[0m \u001b[0;34m=\u001b[0m \u001b[0mresult\u001b[0m\u001b[0;34m.\u001b[0m\u001b[0mreindex_axis\u001b[0m\u001b[0;34m(\u001b[0m\u001b[0max\u001b[0m\u001b[0;34m,\u001b[0m \u001b[0maxis\u001b[0m\u001b[0;34m=\u001b[0m\u001b[0mself\u001b[0m\u001b[0;34m.\u001b[0m\u001b[0maxis\u001b[0m\u001b[0;34m)\u001b[0m\u001b[0;34m\u001b[0m\u001b[0m\n\u001b[0m\u001b[1;32m    480\u001b[0m         \u001b[0;32melif\u001b[0m \u001b[0mself\u001b[0m\u001b[0;34m.\u001b[0m\u001b[0mgroup_keys\u001b[0m\u001b[0;34m:\u001b[0m\u001b[0;34m\u001b[0m\u001b[0m\n\u001b[1;32m    481\u001b[0m             \u001b[0mgroup_keys\u001b[0m \u001b[0;34m=\u001b[0m \u001b[0mkeys\u001b[0m\u001b[0;34m\u001b[0m\u001b[0m\n",
        "\u001b[0;32m/usr/local/Cellar/python/2.7.3/Frameworks/Python.framework/Versions/2.7/lib/python2.7/site-packages/pandas/core/frame.pyc\u001b[0m in \u001b[0;36mreindex_axis\u001b[0;34m(self, labels, axis, method, level, copy, limit, fill_value)\u001b[0m\n\u001b[1;32m   2587\u001b[0m             return self._reindex_index(labels, method, copy, level,\n\u001b[1;32m   2588\u001b[0m                                        \u001b[0mfill_value\u001b[0m\u001b[0;34m=\u001b[0m\u001b[0mfill_value\u001b[0m\u001b[0;34m,\u001b[0m\u001b[0;34m\u001b[0m\u001b[0m\n\u001b[0;32m-> 2589\u001b[0;31m                                        limit=limit)\n\u001b[0m\u001b[1;32m   2590\u001b[0m         \u001b[0;32melif\u001b[0m \u001b[0maxis\u001b[0m \u001b[0;34m==\u001b[0m \u001b[0;36m1\u001b[0m\u001b[0;34m:\u001b[0m\u001b[0;34m\u001b[0m\u001b[0m\n\u001b[1;32m   2591\u001b[0m             return self._reindex_columns(labels, copy, level,\n",
        "\u001b[0;32m/usr/local/Cellar/python/2.7.3/Frameworks/Python.framework/Versions/2.7/lib/python2.7/site-packages/pandas/core/frame.pyc\u001b[0m in \u001b[0;36m_reindex_index\u001b[0;34m(self, new_index, method, copy, level, fill_value, limit)\u001b[0m\n\u001b[1;32m   2616\u001b[0m                        limit=None):\n\u001b[1;32m   2617\u001b[0m         new_index, indexer = self.index.reindex(new_index, method, level,\n\u001b[0;32m-> 2618\u001b[0;31m                                                 limit=limit)\n\u001b[0m\u001b[1;32m   2619\u001b[0m         return self._reindex_with_indexers(new_index, indexer, None, None,\n\u001b[1;32m   2620\u001b[0m                                            copy, fill_value)\n",
        "\u001b[0;32m/usr/local/Cellar/python/2.7.3/Frameworks/Python.framework/Versions/2.7/lib/python2.7/site-packages/pandas/core/index.pyc\u001b[0m in \u001b[0;36mreindex\u001b[0;34m(self, target, method, level, limit)\u001b[0m\n\u001b[1;32m    891\u001b[0m             \u001b[0;32melse\u001b[0m\u001b[0;34m:\u001b[0m\u001b[0;34m\u001b[0m\u001b[0m\n\u001b[1;32m    892\u001b[0m                 indexer = self.get_indexer(target, method=method,\n\u001b[0;32m--> 893\u001b[0;31m                                            limit=limit)\n\u001b[0m\u001b[1;32m    894\u001b[0m         \u001b[0;32mreturn\u001b[0m \u001b[0mtarget\u001b[0m\u001b[0;34m,\u001b[0m \u001b[0mindexer\u001b[0m\u001b[0;34m\u001b[0m\u001b[0m\n\u001b[1;32m    895\u001b[0m \u001b[0;34m\u001b[0m\u001b[0m\n",
        "\u001b[0;32m/usr/local/Cellar/python/2.7.3/Frameworks/Python.framework/Versions/2.7/lib/python2.7/site-packages/pandas/core/index.pyc\u001b[0m in \u001b[0;36mget_indexer\u001b[0;34m(self, target, method, limit)\u001b[0m\n\u001b[1;32m    810\u001b[0m \u001b[0;34m\u001b[0m\u001b[0m\n\u001b[1;32m    811\u001b[0m         \u001b[0;32mif\u001b[0m \u001b[0;32mnot\u001b[0m \u001b[0mself\u001b[0m\u001b[0;34m.\u001b[0m\u001b[0mis_unique\u001b[0m\u001b[0;34m:\u001b[0m\u001b[0;34m\u001b[0m\u001b[0m\n\u001b[0;32m--> 812\u001b[0;31m             raise Exception('Reindexing only valid with uniquely valued Index '\n\u001b[0m\u001b[1;32m    813\u001b[0m                             'objects')\n\u001b[1;32m    814\u001b[0m \u001b[0;34m\u001b[0m\u001b[0m\n",
        "\u001b[0;31mException\u001b[0m: Reindexing only valid with uniquely valued Index objects"
       ]
      }
     ],
     "prompt_number": 66
    },
    {
     "cell_type": "markdown",
     "metadata": {},
     "source": [
      "### Evaluation: performance criterion\n",
      "\n",
      "Performance evaluation of recommendation systems is an entire topic all in\n",
      "itself. Some of the options include:\n",
      "\n",
      "- RMSE: $\\sqrt{\\sum(\\hat y - y)^2 / n}$\n",
      "- Precision / Recall / F-scores\n",
      "- ROC curves\n",
      "- Cost curves"
     ]
    },
    {
     "cell_type": "code",
     "collapsed": false,
     "input": [
      "def compute_rmse(y_pred, y_true):\n",
      "    \"\"\" Compute Root Mean Squared Error. \"\"\"\n",
      "    return np.sqrt(np.mean(np.power(y_pred - y_true, 2)))"
     ],
     "language": "python",
     "metadata": {},
     "outputs": [],
     "prompt_number": 377
    },
    {
     "cell_type": "markdown",
     "metadata": {},
     "source": [
      "### Evaluation: `evaluate' method"
     ]
    },
    {
     "cell_type": "code",
     "collapsed": false,
     "input": [
      "def evaluate(estimate_f):\n",
      "    \"\"\" RMSE-based predictive performance evaluation with pandas. \"\"\"\n",
      "    ids_to_estimate = zip(movielens_test.user_id, movielens_test.movie_id)\n",
      "    estimated = [estimate_f(u,i) for (u,i) in ids_to_estimate]\n",
      "    real = movielens_test.rating\n",
      "    return compute_rmse(estimated, real)\n"
     ],
     "language": "python",
     "metadata": {},
     "outputs": [],
     "prompt_number": 378
    },
    {
     "cell_type": "markdown",
     "metadata": {},
     "source": [
      "--> Go to question set"
     ]
    },
    {
     "cell_type": "markdown",
     "metadata": {},
     "source": [
      "## Let's build our first iteration of the reco engine"
     ]
    },
    {
     "cell_type": "markdown",
     "metadata": {},
     "source": [
      "### Content-based filtering using mean ratings\n",
      "\n",
      "With this table-like representation of the ratings data, a basic content-based\n",
      "filter becomes a one-liner function."
     ]
    },
    {
     "cell_type": "code",
     "collapsed": false,
     "input": [
      "def estimate1(user_id, item_id):\n",
      "    \"\"\" Simple content-filtering based on mean ratings. \"\"\"\n",
      "    return movielens_train.ix[movielens_train.user_id == user_id, 'rating'].mean()\n",
      "\n",
      "print 'RMSE for estimate1: %s' % evaluate(estimate1)"
     ],
     "language": "python",
     "metadata": {},
     "outputs": [
      {
       "output_type": "stream",
       "stream": "stdout",
       "text": [
        "RMSE for estimate1: 1.0917422518\n"
       ]
      }
     ],
     "prompt_number": 379
    },
    {
     "cell_type": "markdown",
     "metadata": {},
     "source": [
      "### Collaborative-based filtering using mean ratings"
     ]
    },
    {
     "cell_type": "code",
     "collapsed": false,
     "input": [
      "def estimate2(user_id, item_id):\n",
      "    \"\"\" Simple collaborative filter based on mean ratings. \"\"\"\n",
      "    # need to account for nans here!?\n",
      "    return  movielens_train.ix[movielens_train.movie_id == item_id, 'rating'].mean()\n",
      "\n",
      "print 'RMSE for estimate2: %s' % evaluate_new(estimate2)"
     ],
     "language": "python",
     "metadata": {},
     "outputs": [
      {
       "output_type": "stream",
       "stream": "stdout",
       "text": [
        "RMSE for estimate2: 0.877870360341\n"
       ]
      }
     ],
     "prompt_number": 380
    },
    {
     "cell_type": "markdown",
     "metadata": {},
     "source": [
      "## More formulas!"
     ]
    },
    {
     "cell_type": "markdown",
     "metadata": {},
     "source": [
      "### Content-based: generalizations of the aggregation function\n",
      "\n",
      "Possibly incorporating metadata about items.\n",
      "\n",
      "$$ r_{u,i} = k \\sum_{i' \\in I(u)} sim(i, i') \\; r_{u,i'} $$\n",
      "\n",
      "$$ r_{u,i} = \\bar r_u + k \\sum_{i' \\in I(u)} sim(i, i') \\; (r_{u,i'} - \\bar r_u) $$\n",
      "\n",
      "Here $k$ is a normalizing factor,\n",
      "\n",
      "$$ k = \\frac{1}{\\sum_{i' \\in I(u)} |sim(i,i')|} $$\n",
      "\n",
      "and $\\bar r_u$ is the average rating of user u:\n",
      "\n",
      "$$ \\bar r_u = \\frac{\\sum_{i \\in I(u)} r_{u,i}}{|I(u)|} $$\n"
     ]
    },
    {
     "cell_type": "markdown",
     "metadata": {},
     "source": [
      "### Collaborative filtering: generalizations of the aggregation function\n",
      "\n",
      "Possibly incorporating metadata about users.\n",
      "\n",
      "$$ r_{u,i} = k \\sum_{u' \\in U(i)} sim(u, u') \\; r_{u',i} $$\n",
      "\n",
      "$$ r_{u,i} = \\bar r_u + k \\sum_{u' \\in U(i)} sim(u, u') \\; (r_{u',i} - \\bar r_u) $$\n",
      "\n",
      "Here $k$ is a normalizing factor,\n",
      "\n",
      "$$ k = \\frac{1}{\\sum_{u' \\in U(i)} |sim(u,u')|} $$\n",
      "\n",
      "and $\\bar r_u$ is the average rating of user u:\n",
      "\n",
      "$$ \\bar r_u = \\frac{\\sum_{i \\in I(u)} r_{u,i}}{|I(u)|} $$"
     ]
    },
    {
     "cell_type": "markdown",
     "metadata": {},
     "source": [
      "## Aggregation in pandas"
     ]
    },
    {
     "cell_type": "markdown",
     "metadata": {},
     "source": [
      "### Groupby\n",
      "\n",
      "The idea of groupby is that of *split-apply-combine*:\n",
      "\n",
      "- split data in an object according to a given key;\n",
      "- apply a function to each subset;\n",
      "- combine results into a new object."
     ]
    },
    {
     "cell_type": "code",
     "collapsed": false,
     "input": [
      "movielens.groupby('gender')['rating'].mean()"
     ],
     "language": "python",
     "metadata": {},
     "outputs": [
      {
       "output_type": "pyout",
       "prompt_number": 384,
       "text": [
        "gender\n",
        "F         4.145863\n",
        "M         4.096026\n",
        "Name: rating"
       ]
      }
     ],
     "prompt_number": 384
    },
    {
     "cell_type": "code",
     "collapsed": false,
     "input": [
      "movielens.groupby(['gender', 'age'])['rating'].mean()"
     ],
     "language": "python",
     "metadata": {},
     "outputs": [
      {
       "output_type": "pyout",
       "prompt_number": 385,
       "text": [
        "gender  age\n",
        "F       1      3.992366\n",
        "        18     4.145251\n",
        "        25     4.212462\n",
        "        35     4.126316\n",
        "        45     4.039526\n",
        "        50     4.025253\n",
        "        56     4.272059\n",
        "M       1      3.809045\n",
        "        18     4.055638\n",
        "        25     4.117165\n",
        "        35     4.110884\n",
        "        45     4.068966\n",
        "        50     4.160752\n",
        "        56     4.144231\n",
        "Name: rating"
       ]
      }
     ],
     "prompt_number": 385
    },
    {
     "cell_type": "markdown",
     "metadata": {},
     "source": [
      "### Pivoting\n",
      "\n",
      "Let's start with a simple pivoting example that does not involve any\n",
      "aggregation. This is how we obtained the ratings matrix that we've been working\n",
      "with."
     ]
    },
    {
     "cell_type": "code",
     "collapsed": false,
     "input": [
      "# work with a smaller subset for speed reasons\n",
      "ratings_subset = ratings[:10000]\n",
      "# transform the ratings frame into a ratings matrix\n",
      "ratings_mtx_df = ratings_subset.pivot_table(values='rating',\n",
      "                                            rows='user_id',\n",
      "                                            cols='movie_id')\n",
      "ratings_mtx_df"
     ],
     "language": "python",
     "metadata": {},
     "outputs": [],
     "prompt_number": 386
    },
    {
     "cell_type": "markdown",
     "metadata": {},
     "source": [
      "The more interesting case with `pivot_table` is as an interface to\n",
      "`groupby`:"
     ]
    },
    {
     "cell_type": "code",
     "collapsed": false,
     "input": [
      "movielens.groupby(['gender', 'title'])['rating'].mean()"
     ],
     "language": "python",
     "metadata": {},
     "outputs": [
      {
       "output_type": "pyout",
       "prompt_number": 407,
       "text": [
        "gender  title                                 \n",
        "F       Ben-Hur (1959)                            3.976562\n",
        "        Bug's Life, A (1998)                      3.927505\n",
        "        Christmas Story, A (1983)                 4.297959\n",
        "        Erin Brockovich (2000)                    4.007126\n",
        "        James and the Giant Peach (1996)          3.459627\n",
        "        My Fair Lady (1964)                       4.336667\n",
        "        One Flew Over the Cuckoo's Nest (1975)    4.310811\n",
        "        Princess Bride, The (1987)                4.342767\n",
        "M       Ben-Hur (1959)                            4.140625\n",
        "        Bug's Life, A (1998)                      3.826580\n",
        "        Christmas Story, A (1983)                 4.218335\n",
        "        Erin Brockovich (2000)                    3.796421\n",
        "        James and the Giant Peach (1996)          3.467033\n",
        "        My Fair Lady (1964)                       3.991071\n",
        "        One Flew Over the Cuckoo's Nest (1975)    4.418423\n",
        "        Princess Bride, The (1987)                4.288942\n",
        "Name: rating"
       ]
      }
     ],
     "prompt_number": 407
    },
    {
     "cell_type": "code",
     "collapsed": false,
     "input": [
      "movielens.groupby(['gender', 'title'])['rating'].mean().unstack('gender')"
     ],
     "language": "python",
     "metadata": {},
     "outputs": [
      {
       "html": [
        "<div style=\"max-height:1000px;max-width:1500px;overflow:auto;\">\n",
        "<table border=\"1\" class=\"dataframe\">\n",
        "  <thead>\n",
        "    <tr style=\"text-align: right;\">\n",
        "      <th>gender</th>\n",
        "      <th>F</th>\n",
        "      <th>M</th>\n",
        "    </tr>\n",
        "    <tr>\n",
        "      <th>title</th>\n",
        "      <th></th>\n",
        "      <th></th>\n",
        "    </tr>\n",
        "  </thead>\n",
        "  <tbody>\n",
        "    <tr>\n",
        "      <th>Ben-Hur (1959)</th>\n",
        "      <td> 3.976562</td>\n",
        "      <td> 4.140625</td>\n",
        "    </tr>\n",
        "    <tr>\n",
        "      <th>Bug's Life, A (1998)</th>\n",
        "      <td> 3.927505</td>\n",
        "      <td> 3.826580</td>\n",
        "    </tr>\n",
        "    <tr>\n",
        "      <th>Christmas Story, A (1983)</th>\n",
        "      <td> 4.297959</td>\n",
        "      <td> 4.218335</td>\n",
        "    </tr>\n",
        "    <tr>\n",
        "      <th>Erin Brockovich (2000)</th>\n",
        "      <td> 4.007126</td>\n",
        "      <td> 3.796421</td>\n",
        "    </tr>\n",
        "    <tr>\n",
        "      <th>James and the Giant Peach (1996)</th>\n",
        "      <td> 3.459627</td>\n",
        "      <td> 3.467033</td>\n",
        "    </tr>\n",
        "    <tr>\n",
        "      <th>My Fair Lady (1964)</th>\n",
        "      <td> 4.336667</td>\n",
        "      <td> 3.991071</td>\n",
        "    </tr>\n",
        "    <tr>\n",
        "      <th>One Flew Over the Cuckoo's Nest (1975)</th>\n",
        "      <td> 4.310811</td>\n",
        "      <td> 4.418423</td>\n",
        "    </tr>\n",
        "    <tr>\n",
        "      <th>Princess Bride, The (1987)</th>\n",
        "      <td> 4.342767</td>\n",
        "      <td> 4.288942</td>\n",
        "    </tr>\n",
        "  </tbody>\n",
        "</table>\n",
        "</div>"
       ],
       "output_type": "pyout",
       "prompt_number": 388,
       "text": [
        "gender                                         F         M\n",
        "title                                                     \n",
        "Ben-Hur (1959)                          3.976562  4.140625\n",
        "Bug's Life, A (1998)                    3.927505  3.826580\n",
        "Christmas Story, A (1983)               4.297959  4.218335\n",
        "Erin Brockovich (2000)                  4.007126  3.796421\n",
        "James and the Giant Peach (1996)        3.459627  3.467033\n",
        "My Fair Lady (1964)                     4.336667  3.991071\n",
        "One Flew Over the Cuckoo's Nest (1975)  4.310811  4.418423\n",
        "Princess Bride, The (1987)              4.342767  4.288942"
       ]
      }
     ],
     "prompt_number": 388
    },
    {
     "cell_type": "code",
     "collapsed": false,
     "input": [
      "movielens.pivot_table('rating', rows='title', cols='gender')\n"
     ],
     "language": "python",
     "metadata": {},
     "outputs": [
      {
       "html": [
        "<div style=\"max-height:1000px;max-width:1500px;overflow:auto;\">\n",
        "<table border=\"1\" class=\"dataframe\">\n",
        "  <thead>\n",
        "    <tr style=\"text-align: right;\">\n",
        "      <th>gender</th>\n",
        "      <th>F</th>\n",
        "      <th>M</th>\n",
        "    </tr>\n",
        "    <tr>\n",
        "      <th>title</th>\n",
        "      <th></th>\n",
        "      <th></th>\n",
        "    </tr>\n",
        "  </thead>\n",
        "  <tbody>\n",
        "    <tr>\n",
        "      <th>Ben-Hur (1959)</th>\n",
        "      <td> 3.976562</td>\n",
        "      <td> 4.140625</td>\n",
        "    </tr>\n",
        "    <tr>\n",
        "      <th>Bug's Life, A (1998)</th>\n",
        "      <td> 3.927505</td>\n",
        "      <td> 3.826580</td>\n",
        "    </tr>\n",
        "    <tr>\n",
        "      <th>Christmas Story, A (1983)</th>\n",
        "      <td> 4.297959</td>\n",
        "      <td> 4.218335</td>\n",
        "    </tr>\n",
        "    <tr>\n",
        "      <th>Erin Brockovich (2000)</th>\n",
        "      <td> 4.007126</td>\n",
        "      <td> 3.796421</td>\n",
        "    </tr>\n",
        "    <tr>\n",
        "      <th>James and the Giant Peach (1996)</th>\n",
        "      <td> 3.459627</td>\n",
        "      <td> 3.467033</td>\n",
        "    </tr>\n",
        "    <tr>\n",
        "      <th>My Fair Lady (1964)</th>\n",
        "      <td> 4.336667</td>\n",
        "      <td> 3.991071</td>\n",
        "    </tr>\n",
        "    <tr>\n",
        "      <th>One Flew Over the Cuckoo's Nest (1975)</th>\n",
        "      <td> 4.310811</td>\n",
        "      <td> 4.418423</td>\n",
        "    </tr>\n",
        "    <tr>\n",
        "      <th>Princess Bride, The (1987)</th>\n",
        "      <td> 4.342767</td>\n",
        "      <td> 4.288942</td>\n",
        "    </tr>\n",
        "  </tbody>\n",
        "</table>\n",
        "</div>"
       ],
       "output_type": "pyout",
       "prompt_number": 389,
       "text": [
        "gender                                         F         M\n",
        "title                                                     \n",
        "Ben-Hur (1959)                          3.976562  4.140625\n",
        "Bug's Life, A (1998)                    3.927505  3.826580\n",
        "Christmas Story, A (1983)               4.297959  4.218335\n",
        "Erin Brockovich (2000)                  4.007126  3.796421\n",
        "James and the Giant Peach (1996)        3.459627  3.467033\n",
        "My Fair Lady (1964)                     4.336667  3.991071\n",
        "One Flew Over the Cuckoo's Nest (1975)  4.310811  4.418423\n",
        "Princess Bride, The (1987)              4.342767  4.288942"
       ]
      }
     ],
     "prompt_number": 389
    },
    {
     "cell_type": "markdown",
     "metadata": {},
     "source": [
      "### Collaborative-based filtering using mean ratings: implicit\n",
      "\n",
      "A col-based approach with an implicit `sim(u,u')` function.  It's worth\n",
      "mentioning at this point that we'd probably use a `learn` function in\n",
      "conjunction with `estimate` that computes the per-gender mean rating of each\n",
      "movie."
     ]
    },
    {
     "cell_type": "code",
     "collapsed": false,
     "input": [
      "def estimate3(user_id, item_id):\n",
      "    \"\"\" Collaborative filtering using an implicit sim(u,u'). \"\"\"\n",
      "    df_subset = movielens_train[movielens_train.movie_id == item_id]\n",
      "    movie_means = df_subset.groupby('gender')['rating'].mean()\n",
      "    return movie_means[users.ix[user_id, 'gender']]\n",
      "\n",
      "print 'RMSE for estimate3: %s' % evaluate_new(estimate3)"
     ],
     "language": "python",
     "metadata": {},
     "outputs": [
      {
       "output_type": "stream",
       "stream": "stdout",
       "text": [
        "RMSE for estimate3: 0.8797764713\n"
       ]
      }
     ],
     "prompt_number": 390
    },
    {
     "cell_type": "code",
     "collapsed": false,
     "input": [
      "def estimate4(user_id, item_id):\n",
      "    \"\"\" Collaborative filtering using an implicit sim(u,u'). \"\"\"\n",
      "    df_subset = movielens_train[movielens_train.movie_id == item_id]\n",
      "    movie_means = df_subset.groupby('age')['rating'].mean()\n",
      "    return movie_means[users.ix[user_id, 'age']]\n",
      "\n",
      "print 'RMSE for estimate4: %s' % evaluate_new(estimate4)\n"
     ],
     "language": "python",
     "metadata": {},
     "outputs": [
      {
       "output_type": "stream",
       "stream": "stdout",
       "text": [
        "RMSE for estimate4: 0.883057039992\n"
       ]
      }
     ],
     "prompt_number": 391
    },
    {
     "cell_type": "code",
     "collapsed": false,
     "input": [
      "def estimate5(user_id, item_id):\n",
      "    \"\"\" Collaborative filtering using an implicit sim(u,u'). \"\"\"\n",
      "    df_subset = movielens_train[movielens_train.movie_id == item_id]\n",
      "    movie_means = df_subset.groupby(['age','gender'])['rating'].mean()\n",
      "    age, gender = users.ix[user_id, ['age','gender']]\n",
      "    return movie_means[age, gender]\n",
      "\n",
      "print 'RMSE for estimate3: %s' % evaluate_new(estimate3)\n"
     ],
     "language": "python",
     "metadata": {},
     "outputs": [
      {
       "output_type": "stream",
       "stream": "stdout",
       "text": [
        "RMSE for estimate3: 0.8797764713\n"
       ]
      }
     ],
     "prompt_number": 392
    },
    {
     "cell_type": "markdown",
     "metadata": {},
     "source": [
      "## Explicit similarity functions\n",
      "\n",
      "- Euclidean distance\n",
      "\n",
      "$$ sim(x,y) = \\sqrt{\\sum (x - y)^2} $$\n",
      "\n",
      "- Cosine similarity\n",
      "\n",
      "$$ \\frac{(x . y)}{\\sqrt{(x . x) (y . y)}} $$\n",
      "\n",
      "- Pearson correlation\n",
      "\n",
      "$$ sim(x,y) = \\frac{(x - \\bar x).(y - \\bar y)}{\\sqrt{(x - \\bar x).(x - \\bar x) * (y - \\bar y)(y - \\bar y)}} $$\n",
      "\n",
      "- Jaccard similarity\n",
      "\n",
      "$$ \\frac{(x . y)}{(x . x) (y . y) - (x . y)} $$"
     ]
    },
    {
     "cell_type": "code",
     "collapsed": false,
     "input": [
      "# keep in mind that these may not be checking for edge cases!\n",
      "# take a look at np.nan_to_num\n",
      "def euclidean(v1, v2):\n",
      "    diff = v1 - v2\n",
      "    return np.sqrt(np.dot(diff, diff))\n",
      "\n",
      "def cosine(v1, v2):\n",
      "    return np.nan_to_num(\n",
      "        np.dot(v1, v2) / \\\n",
      "        np.sqrt(np.dot(v1, v1)) * np.sqrt(np.dot(v2, v2)))\n",
      "\n",
      "def pearson(v1, v2):\n",
      "    v1_c = v1 - np.mean(v1)\n",
      "    v2_c = v2 - np.mean(v2)\n",
      "    return np.nan_to_num(\n",
      "        np.dot(v1_c , v2_c) / \\\n",
      "        np.sqrt(np.dot(v1_c, v1_c) * np.dot(v2_c, v2_c)))\n",
      "\n",
      "def jaccard(v1, v2):\n",
      "    dotp = np.dot(v1, v2)\n",
      "    return np.nan_to_num(\n",
      "        dotp / (np.dot(v1, v1) + np.dot(v2, v2) - dotp))\n",
      "\n",
      "def binjaccard(v1, v2):\n",
      "    dotp = np.dot(v1, v2)\n",
      "    return np.nan_to_num(\n",
      "        dotp / (v1.sum() + v2.sum() - dotp))"
     ],
     "language": "python",
     "metadata": {},
     "outputs": [],
     "prompt_number": 2
    },
    {
     "cell_type": "code",
     "collapsed": false,
     "input": [
      "users_who_rated = movielens[movielens.movie_id == 3844].user_id\n",
      "movielensusers_who_rated"
     ],
     "language": "python",
     "metadata": {},
     "outputs": [
      {
       "output_type": "pyout",
       "prompt_number": 30,
       "text": [
        "829713    4281\n",
        "829653    3916\n",
        "829391     235\n",
        "829576    3331\n",
        "829726    4361\n",
        "829720    4312\n",
        "829650    3850\n",
        "829404     531\n",
        "829541    3067\n",
        "829572    3290\n",
        "829447    1317\n",
        "829480    1941\n",
        "829744    4470\n",
        "Name: user_id"
       ]
      }
     ],
     "prompt_number": 30
    },
    {
     "cell_type": "code",
     "collapsed": false,
     "input": [
      "def estimate6(user_id, item_id):\n",
      "    \"\"\" Collaborative filtering with pearson correlation user sim. \"\"\"\n",
      "    df_subset = movielens_train[movielens_train.movie_id == item_id]\n",
      "    df_subset['sim'] = df_subset.\n",
      "    \n"
     ],
     "language": "python",
     "metadata": {},
     "outputs": []
    },
    {
     "cell_type": "code",
     "collapsed": false,
     "input": [
      "def learn(X_train=None):\n",
      "    \"\"\" Build a content-based user profile. \"\"\"\n",
      "    self.user_profile = self.aggr(X_train)\n",
      "\n",
      "def estimate(X_test):\n",
      "    \"\"\" Compute scores for items in X_test. \"\"\"\n",
      "     return self.sim(self.user_profile, X_test)"
     ],
     "language": "python",
     "metadata": {},
     "outputs": [
      {
       "ename": "IndentationError",
       "evalue": "unexpected indent (<ipython-input-393-920aa6fce85a>, line 7)",
       "output_type": "pyerr",
       "traceback": [
        "\u001b[0;31mIndentationError\u001b[0m\u001b[0;31m:\u001b[0m unexpected indent\n"
       ]
      }
     ],
     "prompt_number": 393
    },
    {
     "cell_type": "markdown",
     "metadata": {},
     "source": [
      "## PyTables\n",
      "### What is it?\n",
      "\n",
      "*PyTables is a package for managing hierarchical datasets and designed to\n",
      "efficiently and easily cope with extremely large amounts of data.*"
     ]
    }
   ],
   "metadata": {}
  }
 ]
}