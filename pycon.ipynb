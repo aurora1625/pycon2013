{
 "metadata": {
  "name": "pycon"
 },
 "nbformat": 3,
 "nbformat_minor": 0,
 "worksheets": [
  {
   "cells": [
    {
     "cell_type": "markdown",
     "source": [
      "# A Begginers Introduction to Pydata: How to Build a Minimal Recommendation System"
     ]
    },
    {
     "cell_type": "markdown",
     "source": [
      "## Environment setup\n",
      "### mac\n",
      "### win\n",
      "### lin"
     ]
    },
    {
     "cell_type": "markdown",
     "source": [
      "## The recommendation problem\n",
      "### Some definitions from the literature\n",
      "\"In a typical recommender sys tem people provide recommendations as\n",
      "inputs, which the system then aggregates and directs to appropriate\n",
      "recipients.\" -- Resnick and Varian, 1997\n",
      "\"Collaborative filtering simply means that people collaborate to help\n",
      "one another perform filtering by recording their reactions to\n",
      "documents they read.\" -- Goldberg et al, 1992\n",
      "\n",
      "\"In its most common formulation, the recommendation problem is reduced\n",
      "to the problem of estimating ratings for the items that have not been\n",
      "seen by a user. Intuitively, this estimation is usually based on the\n",
      "ratings given by this user to other items and on some other\n",
      "information [...] Once we can estimate ratings for the yet unrated\n",
      "items, we can recommend to the user the item(s) with the highest\n",
      "estimated rating(s).\" -- Adomavicius and Tuzhilin, 2005\n"
     ]
    },
    {
     "cell_type": "markdown",
     "source": [
      "### Goal of a recommendation system\n",
      "$$ \\forall{u \\in U}, i^* = \\argmax_{i \\in I} S(u,i) $$"
     ]
    },
    {
     "cell_type": "markdown",
     "source": [
      "### Problem statement\n",
      "The recommendation problem in its most basic form is quite simple to define:\n",
      "\n",
      "```\n",
      "|---+---+---+---+---|\n",
      "| ? | ? | 4 | ? | 1 |\n",
      "|---+---+---+---+---|\n",
      "| 3 | ? | ? | 2 | 2 |\n",
      "|---+---+---+---+---|\n",
      "| 3 | ? | ? | ? | ? |\n",
      "|---+---+---+---+---|\n",
      "| ? | 1 | 2 | 1 | 1 |\n",
      "|---+---+---+---+---|\n",
      "| ? | ? | ? | ? | ? |\n",
      "|---+---+---+---+---|\n",
      "| 2 | ? | 2 | ? | ? |\n",
      "|---+---+---+---+---|\n",
      "| ? | ? | ? | ? | ? |\n",
      "|---+---+---+---+---|\n",
      "| 3 | 1 | 5 | ? | ? |\n",
      "|---+---+---+---+---|\n",
      "| ? | ? | ? | ? | 2 |\n",
      "|---+---+---+---+---|\n",
      "```\n",
      "\n",
      "*\"Given a partially filled matrix of ratings, estimate the missing values.\"*\n"
     ]
    },
    {
     "cell_type": "markdown",
     "source": [
      "### Content-based (or content-based filtering)\n",
      "Generic expression:\n",
      "$$ \\hat{r}_{u,i} = aggr_{i' \\in I_u} r_{u,i'} $$\n",
      "\n",
      "see how this is kind of a 'row based' approach.\n",
      "\n",
      "### Collaborative filtering\n",
      "Generic expression:\n",
      "\n",
      "$$ \\hat{r}_{u,i} = aggr_{u' \\in U_i} r_{u',i} $$\n",
      "\n",
      "see how this is kind of a 'col based' approach.\n",
      "\n",
      "### Hybrid solutions\n",
      "\n"
     ]
    },
    {
     "cell_type": "markdown",
     "source": [
      "### Challenges\n",
      "#### New user problem\n",
      "#### New item problem\n",
      "#### Data sparsity\n"
     ]
    },
    {
     "cell_type": "markdown",
     "source": [
      "## Roadmap for this tutorial\n",
      "What exactly are we going to do?\n",
      "\n",
      "### Goal\n",
      "The goal of this tutorial is to provide you with a hands-on overview\n",
      "of a few of the libraries from the scientific and data analysis\n",
      "communities. We're going to use\n",
      "\n",
      "- numpy\n",
      "- pandas\n",
      "- matplotlib\n",
      "- pytables\n",
      "- (a little bit of) scipy\n",
      "\n",
      "### Description of the datasets we're going to use\n",
      "\n"
     ]
    },
    {
     "cell_type": "markdown",
     "source": [
      "### Flow chart: the big picture\n"
     ]
    },
    {
     "cell_type": "markdown",
     "source": [
      "## numpy: numerical python\n",
      "### what is it?\n",
      "From the user's guide: \"It is a Python library that provides a\n",
      "multidimensional array object, various derived objects (such as masked\n",
      "arrays and matrices), and an assortment of routines for fast\n",
      "operations on arrays, including mathematical, logical, shape\n",
      "manipulation, sorting, selecting, I/O, discrete Fourier transforms,\n",
      "basic linear algebra, basic statistical operations, random simulation\n",
      "and much more.\"\n",
      "### numpy's basic data structure: the ndarray\n",
      "A container for data to be passed between algorithms. Also, libraries\n",
      "written in a lower-level language, such as C or Fortran, can operate\n",
      "on the data stored in a NumPy array without copying any data.\n",
      "\n"
     ]
    },
    {
     "cell_type": "code",
     "collapsed": false,
     "input": [
      "import numpy as np\n",
      "np.array([0,9,5,4,3])"
     ],
     "language": "python",
     "outputs": []
    },
    {
     "cell_type": "markdown",
     "source": [
      "### structure: header and payload, why this is important\n",
      "### dtype\n",
      "describes type, sizeof, byte order, record, subarray\n",
      "### shape\n",
      "### ndarrays as the building blocks for pydata\n",
      "### indexing\n",
      "- std\n",
      "- fancy\n",
      "- views\n",
      "\n",
      "### vectorization\n",
      "### broadcasting rules\n",
      "### arbitrary data-types\n",
      "\n"
     ]
    },
    {
     "cell_type": "markdown",
     "source": [
      "## A typical example using the movielens dataset\n",
      "This is from \"Python for Data Analysis\", a great book on these topics\n",
      "that I highly recommend. Let's start by importing the data.\n",
      "\n"
     ]
    },
    {
     "cell_type": "code",
     "collapsed": false,
     "input": [
      "import pandas as pd\n",
      "unames = ['user_id', 'gender', 'age', 'occupation', 'zip']\n",
      "users = pd.read_table('data/ml-1m/users.dat', sep='::', header=None, names=unames)\n",
      "\n",
      "rnames = ['user_id', 'movie_id', 'rating', 'timestamp']\n",
      "ratings = pd.read_table('data/ml-1m/ratings.dat', sep='::', header=None, names=rnames)\n",
      "\n",
      "mnames = ['movie_id', 'title', 'genres']\n",
      "movies = pd.read_table('data/ml-1m/movies.dat', sep='::', header=None, names=mnames)\n"
     ],
     "language": "python",
     "outputs": []
    },
    {
     "cell_type": "code",
     "collapsed": false,
     "input": [
      "users"
     ],
     "language": "python",
     "outputs": [
      {
       "output_type": "pyout",
       "prompt_number": 7,
       "text": [
        "<class 'pandas.core.frame.DataFrame'>\n",
        "Int64Index: 6040 entries, 0 to 6039\n",
        "Data columns:\n",
        "user_id       6040  non-null values\n",
        "gender        6040  non-null values\n",
        "age           6040  non-null values\n",
        "occupation    6040  non-null values\n",
        "zip           6040  non-null values\n",
        "dtypes: int64(3), object(2)"
       ]
      }
     ],
     "prompt_number": 7
    },
    {
     "cell_type": "code",
     "collapsed": false,
     "input": [
      "ratings"
     ],
     "language": "python",
     "outputs": [
      {
       "output_type": "pyout",
       "prompt_number": 8,
       "text": [
        "<class 'pandas.core.frame.DataFrame'>\n",
        "Int64Index: 1000209 entries, 0 to 1000208\n",
        "Data columns:\n",
        "user_id      1000209  non-null values\n",
        "movie_id     1000209  non-null values\n",
        "rating       1000209  non-null values\n",
        "timestamp    1000209  non-null values\n",
        "dtypes: int64(4)"
       ]
      }
     ],
     "prompt_number": 8
    },
    {
     "cell_type": "code",
     "collapsed": false,
     "input": [
      "movies"
     ],
     "language": "python",
     "outputs": [
      {
       "output_type": "pyout",
       "prompt_number": 9,
       "text": [
        "<class 'pandas.core.frame.DataFrame'>\n",
        "Int64Index: 3883 entries, 0 to 3882\n",
        "Data columns:\n",
        "movie_id    3883  non-null values\n",
        "title       3883  non-null values\n",
        "genres      3883  non-null values\n",
        "dtypes: int64(1), object(2)"
       ]
      }
     ],
     "prompt_number": 9
    },
    {
     "cell_type": "markdown",
     "source": [
      "Now, transform the frame into a ratings matrix."
     ]
    },
    {
     "cell_type": "code",
     "collapsed": false,
     "input": [
      "ratings_mtx_df = ratings.pivot_table(values='rating',rows='user_id',cols='movie_id')\n",
      "ratings_mtx = ratings_mtx_df.as_matrix()\n",
      "ratings_mtx"
     ],
     "language": "python",
     "outputs": [
      {
       "output_type": "pyout",
       "prompt_number": 10,
       "text": [
        "array([[  5.,  nan,  nan, ...,  nan,  nan,  nan],\n",
        "       [ nan,  nan,  nan, ...,  nan,  nan,  nan],\n",
        "       [ nan,  nan,  nan, ...,  nan,  nan,  nan],\n",
        "       ..., \n",
        "       [ nan,  nan,  nan, ...,  nan,  nan,  nan],\n",
        "       [ nan,  nan,  nan, ...,  nan,  nan,  nan],\n",
        "       [  3.,  nan,  nan, ...,  nan,  nan,  nan]])"
       ]
      }
     ],
     "prompt_number": 10
    },
    {
     "cell_type": "markdown",
     "source": [
      "Load the an example ratings matrix from the MovieLens group and\n",
      "compute some basic stats from this matrix."
     ]
    },
    {
     "cell_type": "code",
     "collapsed": false,
     "input": [
      "from __future__ import division\n",
      "# ratings_mtx = np.loadtxt(...)\n",
      "ratings_density = ratings_mtx[ratings_mtx >= 1].size / ratings_mtx.size\n",
      "ratings_sparsity = 1 - ratings_density\n",
      "print \"Density is %f and sparsity is %f\" %(ratings_density, ratings_sparsity)"
     ],
     "language": "python",
     "outputs": [
      {
       "output_type": "stream",
       "stream": "stdout",
       "text": [
        "Density is 0.044684 and sparsity is 0.955316\n"
       ]
      }
     ],
     "prompt_number": 13
    },
    {
     "cell_type": "code",
     "collapsed": false,
     "input": [
      "from scipy.stats.stats import nanmean\n",
      "row_mean = nanmean(ratings_mtx, axis=0)\n",
      "col_mean = nanmean(ratings_mtx, axis=1)"
     ],
     "language": "python",
     "outputs": [],
     "prompt_number": 14
    },
    {
     "cell_type": "code",
     "collapsed": false,
     "input": [
      "row_mean"
     ],
     "language": "python",
     "outputs": [
      {
       "output_type": "pyout",
       "prompt_number": 15,
       "text": [
        "array([ 4.14684641,  3.20114123,  3.0167364 , ...,  3.66666667,\n",
        "        3.9       ,  3.78092784])"
       ]
      }
     ],
     "prompt_number": 15
    },
    {
     "cell_type": "code",
     "collapsed": false,
     "input": [
      "col_mean"
     ],
     "language": "python",
     "outputs": [
      {
       "output_type": "pyout",
       "prompt_number": 16,
       "text": [
        "array([ 4.18867925,  3.71317829,  3.90196078, ...,  3.8       ,\n",
        "        3.87804878,  3.57771261])"
       ]
      }
     ],
     "prompt_number": 16
    },
    {
     "cell_type": "markdown",
     "source": [
      "## First look at our grocery domain dataset \n",
      "The first portion of our dataset is called an incidence matrix. This\n",
      "is a |U| x |I| matrix that shows the relationship between users and\n",
      "items. An entry in row u and column i is 1 if user u and item i are\n",
      "related, and zero if they are not. In our context, related means 'has\n",
      "ever purchased'."
     ]
    },
    {
     "cell_type": "code",
     "collapsed": false,
     "input": [
      "import numpy as np\n",
      "inc_mtx = np.loadtxt(open('data/inc_mtx_10k_1k.csv', 'r'), delimiter=',')\n",
      "inc_mtx.shape\n",
      "inc_mtx.size\n"
     ],
     "language": "python",
     "outputs": []
    },
    {
     "cell_type": "markdown",
     "source": [
      "Let's compute some basic stats from this matrix"
     ]
    },
    {
     "cell_type": "code",
     "collapsed": false,
     "input": [
      "tot_sum = inc_mtx.sum()\n",
      "row_sum = inc_mtx.sum(axis=0) \n",
      "col_sum = inc_mtx.sum(axis=1)\n",
      "\n",
      "# ratio of ones and zeros to total entries\n",
      "density = tot_sum / inc_mtx.size\n",
      "sparsity = 1.0 - density\n",
      "\n",
      "# most popular item\n",
      "i_popular = np.argmax(row_sum)\n",
      "# user with the most purchases\n",
      "u_spender = np.argmax(col_sum)\n"
     ],
     "language": "python",
     "outputs": []
    },
    {
     "cell_type": "markdown",
     "source": [
      "## pandas\n",
      "### what is it?\n",
      "### series: labelled arrays\n",
      "what problem do they solve?\n",
      "### dataframe: an extension of series similar to R's frame DS\n",
      "\n"
     ]
    },
    {
     "cell_type": "markdown",
     "source": [
      "## pytables\n",
      "### what is it?"
     ]
    },
    {
     "cell_type": "markdown",
     "source": [
      "## misc - not yet green"
     ]
    },
    {
     "cell_type": "code",
     "collapsed": false,
     "input": [
      "import numpy as np\n",
      "items_mtx = np.array([[0.9,  0  , 0  ],  # viewed by 1\n",
      "                      [1,    0.1, 0.1],  # viewed by 1\n",
      "                      [0,    0.5, 0  ],  # viewed by 2\n",
      "                      [0.1,  0.4, 0  ],  # viewed by 2\n",
      "                      [0,    0.3, 0  ]])  # ?\n",
      "\n",
      "def aggr(mtx):\n",
      "  return np.mean(mtx)\n",
      "\n",
      "# build profiles\n",
      "user_1_profile = aggr(items_mtx[[0,1]])\n",
      "user_2_profile = aggr(items_mtx[[2,3]])\n",
      "\n",
      "\n",
      "def sim(v1, v2):\n",
      "  pass\n",
      "\n",
      "# recommend!\n",
      "estimated_rating_1_4 = sim(user_1_profile, items_mtx[4])"
     ],
     "language": "python",
     "outputs": []
    }
   ]
  }
 ]
}