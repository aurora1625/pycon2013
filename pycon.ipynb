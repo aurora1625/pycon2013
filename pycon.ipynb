{
 "metadata": {
  "name": "pycon"
 },
 "nbformat": 3,
 "nbformat_minor": 0,
 "worksheets": [
  {
   "cells": [
    {
     "cell_type": "markdown",
     "source": [
      "# A Beginners Introduction to Pydata: How to Build a Minimal Recommendation System"
     ]
    },
    {
     "cell_type": "markdown",
     "source": [
      "## Environment setup\n",
      "### mac\n",
      "### win\n",
      "### lin"
     ]
    },
    {
     "cell_type": "markdown",
     "source": [
      "## The recommendation problem\n",
      "### Some definitions from the literature\n",
      "\n",
      "*In a typical recommender system people provide recommendations as inputs, which\n",
      "the system then aggregates and directs to appropriate recipients.* -- Resnick\n",
      "and Varian, 1997\n",
      "\n",
      "*Collaborative filtering simply means that people collaborate to help one\n",
      "another perform filtering by recording their reactions to documents they read.*\n",
      "-- Goldberg et al, 1992\n",
      "\n",
      "*In its most common formulation, the recommendation problem is reduced to the\n",
      "problem of estimating ratings for the items that have not been seen by a\n",
      "user. Intuitively, this estimation is usually based on the ratings given by this\n",
      "user to other items and on some other information [...] Once we can estimate\n",
      "ratings for the yet unrated items, we can recommend to the user the item(s) with\n",
      "the highest estimated rating(s).* -- Adomavicius and Tuzhilin, 2005\n"
     ]
    },
    {
     "cell_type": "markdown",
     "source": [
      "### Some notation\n",
      "\n",
      "- $U$ is the set of users in our domain. Its size is $|U|$.\n",
      "- $I$ is the set of items in our domain. Its size is $|I|$.\n",
      "- $I(u)$ is the set of items that user $u$ has rated/purchased.\n",
      "- $-I(u)$ is the complement of $I(u)$ i.e., the set of items not yet seen by user $u$.\n",
      "- $U(i)$ is the set of users that have rated/purchased item $i$.\n",
      "- $-U(i)$ is the complement of $U(i)$."
     ]
    },
    {
     "cell_type": "markdown",
     "source": [
      "### Goal of a recommendation system\n",
      "$$ \\forall{u \\in U},\\; i^* = argmax_{i \\in -I(u)} [S(u,i)] $$"
     ]
    },
    {
     "cell_type": "markdown",
     "source": [
      "### Problem statement\n",
      "The recommendation problem in its most basic form is quite simple to define:\n",
      "\n",
      "```\n",
      "|---+---+---+---+---|\n",
      "| ? | ? | 4 | ? | 1 |\n",
      "|---+---+---+---+---|\n",
      "| 3 | ? | ? | 2 | 2 |\n",
      "|---+---+---+---+---|\n",
      "| 3 | ? | ? | ? | ? |\n",
      "|---+---+---+---+---|\n",
      "| ? | 1 | 2 | 1 | 1 |\n",
      "|---+---+---+---+---|\n",
      "| ? | ? | ? | ? | ? |\n",
      "|---+---+---+---+---|\n",
      "| 2 | ? | 2 | ? | ? |\n",
      "|---+---+---+---+---|\n",
      "| ? | ? | ? | ? | ? |\n",
      "|---+---+---+---+---|\n",
      "| 3 | 1 | 5 | ? | ? |\n",
      "|---+---+---+---+---|\n",
      "| ? | ? | ? | ? | 2 |\n",
      "|---+---+---+---+---|\n",
      "```\n",
      "\n",
      "*Given a partially filled matrix of ratings ($|U|x|I|$), estimate the missing values.*\n"
     ]
    },
    {
     "cell_type": "markdown",
     "source": [
      "### Content-based filtering\n",
      "\n",
      "Generic expression (notice how this is kind of a 'row-based' approach):\n",
      "\n",
      "$$ r_{u,i} = aggr_{i' \\in I(u)} [r_{u,i'}] $$\n"
     ]
    },
    {
     "cell_type": "markdown",
     "source": [
      "### Simple ratrings-based recommendations\n",
      "\n",
      "$$ r_{u,i} = \\bar r_u = \\frac{\\sum_{i \\in I(u)} r_{u,i}}{|I(u)|} $$\n"
     ]
    },
    {
     "cell_type": "markdown",
     "source": [
      "#### Generalizations of the aggregation function\n",
      "\n",
      "$$ r_{u,i} = k \\sum_{i' \\in I(u)} sim(i, i') \\; r_{u,i'} $$\n",
      "\n",
      "$$ r_{u,i} = \\bar r_u + k \\sum_{i' \\in I(u)} sim(i, i') \\; (r_{u,i'} - \\bar r_u) $$\n",
      "\n",
      "Here $k$ is a normalizing factor,\n",
      "\n",
      "$$ k = \\frac{1}{\\sum_{i' \\in I(u)} |sim(i,i')|} $$\n",
      "\n",
      "and $\\bar r_u$ is the average rating of user u:\n",
      "\n",
      "$$ \\bar r_u = \\frac{\\sum_{i \\in I(u)} r_{u,i}}{|I(u)|} $$\n"
     ]
    },
    {
     "cell_type": "markdown",
     "source": [
      "### Collaborative filtering\n",
      "\n",
      "Generic expression (notice how this is kind of a 'col-based' approach):\n",
      "\n",
      "$$ r_{u,i} = aggr_{u' \\in U(i)} [r_{u',i}] $$"
     ]
    },
    {
     "cell_type": "markdown",
     "source": [
      "### Simple ratrings-based recommendations\n",
      "\n",
      "$$ r_{u,i} = \\bar r_i = \\frac{1}{N} \\sum_{u' \\in U(i)} r_{u',i} $$\n"
     ]
    },
    {
     "cell_type": "markdown",
     "source": [
      "#### Generalizations of the aggregation function\n",
      "\n",
      "$$ r_{u,i} = k \\sum_{u' \\in U(i)} sim(u, u') \\; r_{u',i} $$\n",
      "\n",
      "$$ r_{u,i} = \\bar r_u + k \\sum_{u' \\in U(i)} sim(u, u') \\; (r_{u',i} - \\bar r_u) $$\n",
      "\n",
      "Here $k$ is a normalizing factor,\n",
      "\n",
      "$$ k = \\frac{1}{\\sum_{u' \\in U(i)} |sim(u,u')|} $$\n",
      "\n",
      "and $\\bar r_u$ is the average rating of user u:\n",
      "\n",
      "$$ \\bar r_u = \\frac{\\sum_{i \\in I(u)} r_{u,i}}{|I(u)|} $$"
     ]
    },
    {
     "cell_type": "markdown",
     "source": [
      "### Hybrid solutions\n",
      "\n"
     ]
    },
    {
     "cell_type": "markdown",
     "source": [
      "### Challenges\n",
      "#### New user problem\n",
      "#### New item problem\n",
      "#### Data sparsity\n"
     ]
    },
    {
     "cell_type": "markdown",
     "source": [
      "## Roadmap for this tutorial\n",
      "What exactly are we going to do?\n",
      "### Goal\n",
      "\n",
      "The goal of this tutorial is to provide you with a hands-on overview\n",
      "of a few of the libraries from the scientific and data analysis\n",
      "communities. We're going to use\n",
      "\n",
      "- numpy\n",
      "- pandas\n",
      "- matplotlib\n",
      "- pytables\n",
      "- (a little bit of) scipy\n",
      "- (a little bit of) scikits-learn\n",
      "\n"
     ]
    },
    {
     "cell_type": "markdown",
     "source": [
      "### Description of the datasets we're going to use\n",
      "\n",
      "We'll use the MovieLens dataset and another dataset from an online grocery\n",
      "store. \n"
     ]
    },
    {
     "cell_type": "markdown",
     "source": [
      "### Flow chart: the big picture\n"
     ]
    },
    {
     "cell_type": "markdown",
     "source": [
      "## numpy: numerical python\n",
      "### What is it?\n",
      "From the user's guide: \"It is a Python library that provides a\n",
      "multidimensional array object, various derived objects (such as masked\n",
      "arrays and matrices), and an assortment of routines for fast\n",
      "operations on arrays, including mathematical, logical, shape\n",
      "manipulation, sorting, selecting, I/O, discrete Fourier transforms,\n",
      "basic linear algebra, basic statistical operations, random simulation\n",
      "and much more.\""
     ]
    },
    {
     "cell_type": "markdown",
     "source": [
      "### numpy's basic data structure: the ndarray\n",
      "A container for data to be passed between algorithms. Also, libraries\n",
      "written in a lower-level language, such as C or Fortran, can operate\n",
      "on the data stored in a NumPy array without copying any data.\n",
      "\n"
     ]
    },
    {
     "cell_type": "code",
     "collapsed": false,
     "input": [
      "import numpy as np\n",
      "\n",
      "# set some print options\n",
      "np.set_printoptions(precision=4)\n",
      "np.set_printoptions(threshold=5)\n",
      "\n",
      "# build an array\n",
      "np.array([0, 9, 5.055, 4, 3])"
     ],
     "language": "python",
     "outputs": [
      {
       "output_type": "pyout",
       "prompt_number": 26,
       "text": [
        "array([ 0.   ,  9.   ,  5.055,  4.   ,  3.   ])"
       ]
      }
     ],
     "prompt_number": 26
    },
    {
     "cell_type": "markdown",
     "source": [
      "### structure: header and payload, why this is important\n",
      "### dtype\n",
      "describes type, sizeof, byte order, record, subarray\n",
      "### shape\n",
      "### ndarrays as the building blocks for pydata\n",
      "### indexing\n",
      "- std\n",
      "- fancy\n",
      "- views\n",
      "\n",
      "### vectorization\n",
      "### broadcasting rules\n",
      "### arbitrary data-types\n",
      "\n"
     ]
    },
    {
     "cell_type": "markdown",
     "source": [
      "## The MovieLens Dataset: let's implement basic content and collaborative filters\n",
      "\n",
      "The code to load the data is from \"Python for Data Analysis\", a great book on\n",
      "these topics that I highly recommend.\n"
     ]
    },
    {
     "cell_type": "code",
     "collapsed": false,
     "input": [
      "import pandas as pd\n",
      "\n",
      "unames = ['user_id', 'gender', 'age', 'occupation', 'zip']\n",
      "users = pd.read_table('data/ml-1m/users.dat',\n",
      "                      sep='::', header=None, names=unames)\n",
      "\n",
      "rnames = ['user_id', 'movie_id', 'rating', 'timestamp']\n",
      "ratings = pd.read_table('data/ml-1m/ratings.dat',\n",
      "                        sep='::', header=None, names=rnames)\n",
      "\n",
      "mnames = ['movie_id', 'title', 'genres']\n",
      "movies = pd.read_table('data/ml-1m/movies.dat',\n",
      "                       sep='::', header=None, names=mnames)\n",
      "\n",
      "# transform the frame into a ratings matrix and savetxt it\n",
      "ratings_subset = ratings[:10000]\n",
      "ratings_mtx_df = ratings_subset.pivot_table(values='rating',rows='user_id',cols='movie_id')\n",
      "ratings_mtx = ratings_mtx_df.as_matrix()\n",
      "np.savetxt('data/movielens_ratings_mtx.csv', ratings_mtx, fmt='%.1f', delimiter=',')\n"
     ],
     "language": "python",
     "outputs": [],
     "prompt_number": 27
    },
    {
     "cell_type": "markdown",
     "source": [
      "Load the ratings matrix from MovieLens and look around."
     ]
    },
    {
     "cell_type": "code",
     "collapsed": false,
     "input": [
      "# do this to get floating point when dividing integers\n",
      "from __future__ import division\n",
      "\n",
      "ratings_mtx = np.loadtxt('data/movielens_ratings_mtx.csv', delimiter=',')\n",
      "ratings_density = ratings_mtx[ratings_mtx >= 1].size / ratings_mtx.size\n",
      "ratings_sparsity = 1 - ratings_density\n",
      "print ratings_mtx.shape\n",
      "print ratings_mtx[:4]\n",
      "print \"Density is %f and sparsity is %f\" % (ratings_density, ratings_sparsity)"
     ],
     "language": "python",
     "outputs": [
      {
       "output_type": "stream",
       "stream": "stdout",
       "text": [
        "(70, 2159)\n",
        "[[  5.  nan  nan ...,  nan  nan  nan]\n",
        " [ nan  nan  nan ...,  nan  nan  nan]\n",
        " [ nan  nan  nan ...,  nan  nan  nan]\n",
        " [ nan  nan  nan ...,  nan  nan  nan]]\n",
        "Density is 0.066168 and sparsity is 0.933832\n"
       ]
      }
     ],
     "prompt_number": 28
    },
    {
     "cell_type": "markdown",
     "source": [
      "### Basic evaluation of our recommendation techniques\n",
      "\n",
      "Let's write up a routine to extract training and test sets from the ratings\n",
      "matrix. We'll then use this to evaluate our different recommendation techniques."
     ]
    },
    {
     "cell_type": "code",
     "collapsed": false,
     "input": [
      "from sklearn import cross_validation\n",
      "\n",
      "# get non-nan entries\n",
      "mask = ratings_mtx >= 1\n",
      "\n",
      "# make copies of the original mtx\n",
      "ratings_mtx_train = ratings_mtx.copy()\n",
      "ratings_mtx_test  = ratings_mtx.copy()\n",
      "\n",
      "for u_number, row in enumerate(ratings_mtx[:1]):\n",
      "    # show intermediate steps to get this user's ratings\n",
      "    print 'Mask for user %d is %s' % (u_number, mask[u_number])\n",
      "    \n",
      "    movie_ids = np.where(mask[u_number])[0] # same as mask[u_number].nonzero()[0]\n",
      "    print 'Movie ids that user %d rated are %s' % (u_number, movie_ids)\n",
      "    \n",
      "    user_ratings = row[mask[u_number]]\n",
      "    print 'Ratings given by user %d are %s' % (u_number, user_ratings)\n",
      "\n",
      "    # split ratings into training and test sets\n",
      "    X_train, X_test, y_train, y_test = cross_validation.train_test_split(\n",
      "        movie_ids, user_ratings, test_size=0.2, random_state=0)\n",
      "    print 'Movie ids for testing for user %d are %s' % (u_number, X_test)\n",
      "\n",
      "    # supress test entries from the train mtx\n",
      "    ratings_mtx_train[u_number, X_test] = np.nan\n",
      "    # suppress train entries from the test mtx\n",
      "    ratings_mtx_test[u_number, X_train] = np.nan\n",
      "\n",
      "# show sparsity numbers for the train matrix\n",
      "train_density = ratings_mtx_train[ratings_mtx_train >= 1].size / ratings_mtx_train.size\n",
      "train_sparsity = 1 - train_density\n",
      "print \"Density is %f and sparsity is %f\" % (train_density, train_sparsity)\n",
      "\n"
     ],
     "language": "python",
     "outputs": [
      {
       "output_type": "stream",
       "stream": "stdout",
       "text": [
        "Mask for user 0 is [ True False False ..., False False False]\n",
        "Movie ids that user 0 rated are [   0   39   87 ..., 1749 1780 1882]\n",
        "Ratings given by user 0 are [ 5.  5.  5. ...,  4.  4.  4.]\n",
        "Movie ids for testing for user 0 are [1508 1022 1285 ...,  868  718  333]\n",
        "Density is 0.066095 and sparsity is 0.933905\n"
       ]
      }
     ],
     "prompt_number": 29
    },
    {
     "cell_type": "code",
     "collapsed": false,
     "input": [
      "def compute_rmse(y_pred, y_true):\n",
      "    \"\"\" Compute Root Mean Squared Error. \"\"\"\n",
      "    return np.sqrt(np.mean(np.power(y_pred - y_true, 2)))"
     ],
     "language": "python",
     "outputs": [],
     "prompt_number": 30
    },
    {
     "cell_type": "markdown",
     "source": [
      "### Content-based filtering using mean ratings\n",
      "\n",
      "Let's write this out on a per-user basis so that we illustrate what we referred\n",
      "to as the 'row-based' approach.\n"
     ]
    },
    {
     "cell_type": "code",
     "collapsed": false,
     "input": [
      "from sklearn import cross_validation\n",
      "\n",
      "# get non-nan entries\n",
      "train_mask = ratings_mtx_train >= 1\n",
      "test_mask  = ratings_mtx_test  >= 1\n",
      "\n",
      "for u_number, row in enumerate(ratings_mtx_train[:1]):\n",
      "    # show intermediate steps to get this user's ratings\n",
      "    print 'Mask for user %d is %s' % (u_number, train_mask[u_number])\n",
      "    \n",
      "    movie_ids = np.where(train_mask[u_number])[0] # same as mask[u_number].nonzero()[0]\n",
      "    print 'Movie ids that user %d rated are %s' % (u_number, movie_ids)\n",
      "    \n",
      "    user_ratings = row[train_mask[u_number]]\n",
      "    print 'Ratings given by user %d are %s' % (u_number, user_ratings)\n",
      "\n",
      "    # compute mean rating for this user\n",
      "    mean_rating = np.mean(user_ratings)\n",
      "    print 'Mean rating for user %s is %s' % (u_number, mean_rating)\n",
      "\n",
      "    # evaluate performance of our recommendation technique\n",
      "    rmse = compute_rmse(mean_rating,\n",
      "                        ratings_mtx_test[u_number, ratings_mtx_test[u_number]>=1])\n",
      "    print 'RMSE for user %d is %f' % (u_number, rmse)\n",
      "        "
     ],
     "language": "python",
     "outputs": [
      {
       "output_type": "stream",
       "stream": "stdout",
       "text": [
        "Mask for user 0 is [ True False False ..., False False False]\n",
        "Movie ids that user 0 rated are [   0   39  159 ..., 1749 1780 1882]\n",
        "Ratings given by user 0 are [ 5.  5.  4. ...,  4.  4.  4.]\n",
        "Mean rating for user 0 is 4.16666666667\n",
        "RMSE for user 0 is 0.757121\n"
       ]
      }
     ],
     "prompt_number": 31
    },
    {
     "cell_type": "code",
     "collapsed": false,
     "input": [
      "# don't know whether to use this cell atm -- keep for now\n",
      "# create new dtypes to hold ratings and id information\n",
      "dt = np.dtype([('rating', np.float64), ('ids', np.int32, (2,))])\n",
      "print dt['rating'].__repr__()\n",
      "print dt['ids'].__repr__()\n",
      "\n",
      "# get row,col that are not nan\n",
      "not_nan = ~np.isnan(ratings_mtx_train) # equivalent to ratings_mtx_train >= 1\n",
      "not_nan_ids = zip(*not_nan.nonzero())\n",
      "\n",
      "# build an array with ratings and their user, item ids\n",
      "ratings_train = np.array(zip(ratings_mtx_train[not_nan], not_nan_ids), dtype=dt)\n",
      "ratings_train[:4]\n",
      "\n"
     ],
     "language": "python",
     "outputs": [
      {
       "output_type": "stream",
       "stream": "stdout",
       "text": [
        "dtype('float64')\n",
        "dtype(('int32',(2,)))\n"
       ]
      },
      {
       "output_type": "pyout",
       "prompt_number": 82,
       "text": [
        "array([(5.0, [0, 0]), (5.0, [0, 47]), (4.0, [0, 253]), (4.0, [0, 517])], \n",
        "      dtype=[('rating', '<f8'), ('ids', '<i4', (2,))])"
       ]
      }
     ],
     "prompt_number": 82
    },
    {
     "cell_type": "markdown",
     "source": [
      "### Content-based filtering using mean ratings: overall evaluation"
     ]
    },
    {
     "cell_type": "code",
     "collapsed": false,
     "input": [
      "def estimate0(ids):\n",
      "    \"\"\" Simple content-filtering based on mean ratings. \"\"\"\n",
      "\n",
      "    def func1d(arr):\n",
      "        return np.mean(arr[arr>=1])\n",
      "\n",
      "    return np.apply_along_axis(func1d, 1, ratings_mtx_train[ids[0]])\n",
      "\n",
      "def estimate1(ids):\n",
      "    \"\"\" Simple content-filtering based on mean ratings. \"\"\"\n",
      "    estimates = []\n",
      "    for user_id in ids[0]:\n",
      "        estimates.append(\n",
      "            np.mean(\n",
      "                ratings_mtx_train[user_id,\n",
      "                                  ratings_mtx_train[user_id]>=1]\n",
      "                ))\n",
      "\n",
      "    return np.array(estimates)\n",
      "\n",
      "def estimate2(ids):\n",
      "    \"\"\" Simple content-filtering based on mean ratings. \"\"\"\n",
      "    from scipy.stats.stats import nanmean\n",
      "    \n",
      "    estimates = []\n",
      "    for user_id in ids[0]:\n",
      "        estimates.append(nanmean(ratings_mtx_train[user_id]))\n",
      "\n",
      "    return np.array(estimates)\n",
      "\n",
      "def estimate3(ids):\n",
      "    \"\"\" Simple content-filtering based on mean ratings. \"\"\"\n",
      "    from scipy.stats.stats import nanmean\n",
      "    \n",
      "    estimates = nanmean(ratings_mtx_train[ids[0]], axis=1)\n",
      "    return estimates\n",
      "\n",
      "def evaluate(estimate_f):\n",
      "    \"\"\" Simple content-filtering based on mean ratings. \"\"\"\n",
      "    non_nan_ids = np.where(~np.isnan(ratings_mtx_test))\n",
      "    estimated = estimate_f(non_nan_ids)\n",
      "    real = ratings_mtx_test[non_nan_ids]\n",
      "    return compute_rmse(estimated, real)\n",
      "\n",
      "%time print 'RMSE for estimate0: %s' % evaluate(estimate0)\n",
      "%time print 'RMSE for estimate1: %s' % evaluate(estimate1)\n",
      "%time print 'RMSE for estimate2: %s' % evaluate(estimate2)\n",
      "%time print 'RMSE for estimate3: %s' % evaluate(estimate3)\n"
     ],
     "language": "python",
     "outputs": [
      {
       "output_type": "stream",
       "stream": "stdout",
       "text": [
        "RMSE for estimate0 0.997385212165\n",
        "CPU times: user 1.16 s, sys: 0.07 s, total: 1.23 s\n",
        "Wall time: 1.23 s\n",
        "RMSE for estimate1 0.997385212165"
       ]
      },
      {
       "output_type": "stream",
       "stream": "stdout",
       "text": [
        "\n",
        "CPU times: user 0.55 s, sys: 0.00 s, total: 0.56 s\n",
        "Wall time: 0.56 s\n",
        "RMSE for estimate2 0.997385212165"
       ]
      },
      {
       "output_type": "stream",
       "stream": "stdout",
       "text": [
        "\n",
        "CPU times: user 1.02 s, sys: 0.00 s, total: 1.02 s\n",
        "Wall time: 1.03 s\n",
        "RMSE for estimate3 0.997385212165"
       ]
      },
      {
       "output_type": "stream",
       "stream": "stdout",
       "text": [
        "\n",
        "CPU times: user 1.80 s, sys: 0.28 s, total: 2.08 s\n",
        "Wall time: 2.08 s\n"
       ]
      }
     ],
     "prompt_number": 42
    },
    {
     "cell_type": "markdown",
     "source": [
      "### Collaborative-based filtering using mean ratings\n",
      "\n",
      "Same idea, this time to illustrate the 'col-based' approach.\n"
     ]
    },
    {
     "cell_type": "code",
     "collapsed": false,
     "input": [
      "def estimate4(ids):\n",
      "    \"\"\" Simple collaborative filter based on mean ratings. \"\"\"\n",
      "    estimates = []\n",
      "    for item_id in ids[1]:\n",
      "        estimates.append(\n",
      "            np.mean(\n",
      "                ratings_mtx_train[ratings_mtx_train[:, item_id]>=1,\n",
      "                                  item_id]\n",
      "                ))\n",
      "\n",
      "    return np.array(estimates)\n",
      "\n",
      "def estimate5(ids):\n",
      "    \"\"\" Simple collaborative filter based on mean ratings. \"\"\"\n",
      "    return estimate1(    \n",
      "\n",
      "%time print 'RMSE for estimate:4 %s' % evaluate(estimate4)\n"
     ],
     "language": "python",
     "outputs": [
      {
       "output_type": "stream",
       "stream": "stdout",
       "text": [
        "RMSE for estimate4 0.851885677236\n",
        "CPU times: user 0.28 s, sys: 0.00 s, total: 0.28 s\n",
        "Wall time: 0.28 s\n"
       ]
      }
     ],
     "prompt_number": 44
    },
    {
     "cell_type": "markdown",
     "source": [
      "One more twist: using the same estimate function, but with more arguments. "
     ]
    },
    {
     "cell_type": "code",
     "collapsed": false,
     "input": [
      "def estimate1_with_args(ids, ratings_mtx_train):\n",
      "    \"\"\" Simple content-filtering based on mean ratings. \"\"\"\n",
      "    estimates = []\n",
      "    for user_id in ids[0]:\n",
      "        estimates.append(\n",
      "            np.mean(\n",
      "                ratings_mtx_train[user_id,\n",
      "                                  ratings_mtx_train[user_id]>=1]\n",
      "                ))\n",
      "\n",
      "    return np.array(estimates)\n",
      "\n",
      "non_nan_ids = np.where(~np.isnan(ratings_mtx_test))\n",
      "estimated = estimate1_with_args(non_nan_ids, ratings_mtx_train)\n",
      "real = ratings_mtx_test[non_nan_ids]\n",
      "print 'RMSE for estimate1_with_args (row-based): %s' % compute_rmse(estimated, real)\n",
      "estimated = estimate1_with_args((non_nan_ids[1], non_nan_ids[0]),\n",
      "                                ratings_mtx_train.T)\n",
      "print 'RMSE for estimate1_with_args (col-based): %s' %compute_rmse(estimated, real)"
     ],
     "language": "python",
     "outputs": [
      {
       "output_type": "stream",
       "stream": "stdout",
       "text": [
        "RMSE for estimate1_with_args (row-based): 0.997385212165\n",
        "RMSE for estimate1_with_args (col-based): 0.851885677236"
       ]
      },
      {
       "output_type": "stream",
       "stream": "stdout",
       "text": [
        "\n"
       ]
      }
     ],
     "prompt_number": 54
    },
    {
     "cell_type": "markdown",
     "source": [
      "To put things into perspective, here's an extract from The Netflix Prize Rules:\n",
      "\n",
      "*To qualify for the Grand Prize the RMSE of a Participant\u2019s submitted\n",
      "predictions on the test subset must be less than or equal to 90% of 0.9525, or\n",
      "0.8572 (the \"qualifying RMSE\").*"
     ]
    },
    {
     "cell_type": "markdown",
     "source": [
      "### More generic content-based recommendations"
     ]
    },
    {
     "cell_type": "code",
     "collapsed": false,
     "input": [
      "def learn(X_train=None):\n",
      "    \"\"\" Build a content-based user profile. \"\"\"\n",
      "    self.user_profile = self.aggr(X_train)\n",
      "\n",
      "def estimate(X_test):\n",
      "    \"\"\" Compute scores for items in X_test. \"\"\"\n",
      "    return self.sim(self.user_profile, X_test)"
     ],
     "language": "python",
     "outputs": []
    },
    {
     "cell_type": "code",
     "collapsed": false,
     "input": [],
     "language": "python",
     "outputs": []
    },
    {
     "cell_type": "markdown",
     "source": [
      "## First look at our grocery domain dataset\n",
      "\n",
      "The first portion of our dataset is called an incidence matrix. This\n",
      "is a |U| x |I| matrix that shows the relationship between users and\n",
      "items. An entry in row u and column i is 1 if user u and item i are\n",
      "related, and zero if they are not. In our context, related means 'has\n",
      "ever purchased'."
     ]
    },
    {
     "cell_type": "code",
     "collapsed": false,
     "input": [
      "import numpy as np\n",
      "inc_mtx = np.loadtxt(open('data/inc_mtx_10k_1k.csv', 'r'), delimiter=',')\n",
      "inc_mtx.shape\n",
      "inc_mtx.size\n"
     ],
     "language": "python",
     "outputs": []
    },
    {
     "cell_type": "markdown",
     "source": [
      "Let's compute some basic stats from this matrix"
     ]
    },
    {
     "cell_type": "code",
     "collapsed": false,
     "input": [
      "tot_sum = inc_mtx.sum()\n",
      "row_sum = inc_mtx.sum(axis=0) \n",
      "col_sum = inc_mtx.sum(axis=1)\n",
      "\n",
      "# ratio of ones and zeros to total entries\n",
      "density = tot_sum / inc_mtx.size\n",
      "sparsity = 1.0 - density\n",
      "\n",
      "# most popular item\n",
      "i_popular = np.argmax(row_sum)\n",
      "# user with the most purchases\n",
      "u_spender = np.argmax(col_sum)\n"
     ],
     "language": "python",
     "outputs": []
    },
    {
     "cell_type": "markdown",
     "source": [
      "## pandas\n",
      "### what is it?\n",
      "### series: labelled arrays\n",
      "what problem do they solve?\n",
      "### dataframe: an extension of series similar to R's frame DS\n",
      "\n"
     ]
    },
    {
     "cell_type": "markdown",
     "source": [
      "## pytables\n",
      "### what is it?"
     ]
    },
    {
     "cell_type": "markdown",
     "source": [
      "## misc - not yet green"
     ]
    },
    {
     "cell_type": "code",
     "collapsed": false,
     "input": [
      "import numpy as np\n",
      "\n",
      "items_mtx = np.array([[0.9,  0  , 0  ],  # viewed by 1\n",
      "                      [1,    0.1, 0.1],  # viewed by 1\n",
      "                      [0,    0.5, 0  ],  # viewed by 2\n",
      "                      [0.1,  0.4, 0  ],  # viewed by 2\n",
      "                      [0,    0.3, 0  ]])  # ?\n",
      "\n",
      "def aggr(mtx):\n",
      "  return np.mean(mtx)\n",
      "\n",
      "# build profiles\n",
      "user_1_profile = aggr(items_mtx[[0,1]])\n",
      "user_2_profile = aggr(items_mtx[[2,3]])\n",
      "\n",
      "\n",
      "def sim(v1, v2):\n",
      "  pass\n",
      "\n",
      "# recommend!\n",
      "estimated_rating_1_4 = sim(user_1_profile, items_mtx[4])"
     ],
     "language": "python",
     "outputs": []
    }
   ]
  }
 ]
}