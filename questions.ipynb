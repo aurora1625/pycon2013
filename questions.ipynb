{
 "metadata": {
  "name": "questions"
 },
 "nbformat": 3,
 "nbformat_minor": 0,
 "worksheets": [
  {
   "cells": [
    {
     "cell_type": "markdown",
     "metadata": {},
     "source": [
      "# Exercises for \"A Beginner's Introduction to Pydata: How to Build a Minimal Recommendation System\"\n",
      "## Systems check"
     ]
    },
    {
     "cell_type": "code",
     "collapsed": false,
     "input": [
      "import numpy as np\n",
      "import pandas as pd\n",
      "import tables as tb\n",
      "!find ./data"
     ],
     "language": "python",
     "metadata": {},
     "outputs": [
      {
       "output_type": "stream",
       "stream": "stdout",
       "text": [
        "./data\r\n",
        "./data/.DS_Store\r\n",
        "./data/ml-1m\r\n",
        "./data/ml-1m/movies.dat\r\n",
        "./data/ml-1m/ratings.dat\r\n",
        "./data/ml-1m/README\r\n",
        "./data/ml-1m/users.dat\r\n",
        "./data/movielens_test.csv\r\n",
        "./data/movielens_train.csv\r\n"
       ]
      }
     ],
     "prompt_number": 1
    },
    {
     "cell_type": "markdown",
     "metadata": {},
     "source": [
      "## How to load (a subset of) the MovieLens dataset"
     ]
    },
    {
     "cell_type": "code",
     "collapsed": false,
     "input": [
      "# subset version (hosted notebook)\n",
      "movielens_train = pd.read_csv('data/movielens_train.csv', index_col=0)\n",
      "movielens_test = pd.read_csv('data/movielens_test.csv', index_col=0)\n",
      "print movielens_train\n",
      "print movielens_test"
     ],
     "language": "python",
     "metadata": {},
     "outputs": [
      {
       "output_type": "stream",
       "stream": "stdout",
       "text": [
        "<class 'pandas.core.frame.DataFrame'>\n",
        "Int64Index: 5838 entries, 593263 to 466639\n",
        "Data columns:\n",
        "user_id        5838  non-null values\n",
        "movie_id       5838  non-null values\n",
        "rating         5838  non-null values\n",
        "timestamp      5838  non-null values\n",
        "gender         5838  non-null values\n",
        "age            5838  non-null values\n",
        "occupation     5838  non-null values\n",
        "zip            5838  non-null values\n",
        "title          5838  non-null values\n",
        "genres         5838  non-null values\n",
        "for_testing    5838  non-null values\n",
        "dtypes: bool(1), int64(6), object(4)\n",
        "<class 'pandas.core.frame.DataFrame'>\n",
        "Int64Index: 2668 entries, 693323 to 713194\n",
        "Data columns:\n",
        "user_id        2668  non-null values\n",
        "movie_id       2668  non-null values\n",
        "rating         2668  non-null values\n",
        "timestamp      2668  non-null values\n",
        "gender         2668  non-null values\n",
        "age            2668  non-null values\n",
        "occupation     2668  non-null values\n",
        "zip            2668  non-null values\n",
        "title          2668  non-null values\n",
        "genres         2668  non-null values\n",
        "for_testing    2668  non-null values\n",
        "dtypes: bool(1), int64(6), object(4)\n"
       ]
      }
     ],
     "prompt_number": 2
    },
    {
     "cell_type": "markdown",
     "metadata": {},
     "source": [
      "# Numpy Questions: Indexing\n",
      "## 1. Access an individual element in a NumPy array"
     ]
    },
    {
     "cell_type": "code",
     "collapsed": false,
     "input": [
      "# given the following ndarray, access the its third element\n",
      "arr = np.arange(10)\n",
      "arr"
     ],
     "language": "python",
     "metadata": {},
     "outputs": [
      {
       "output_type": "pyout",
       "prompt_number": 3,
       "text": [
        "array([0, 1, 2, 3, 4, 5, 6, 7, 8, 9])"
       ]
      }
     ],
     "prompt_number": 3
    },
    {
     "cell_type": "markdown",
     "metadata": {},
     "source": [
      "## 2. Access the last column of of a 2d array"
     ]
    },
    {
     "cell_type": "code",
     "collapsed": false,
     "input": [
      "# given the following ndarray, access its last column\n",
      "arr = np.array([[5,4,2,5],[4,5,1,12],[0,1,5,4]])\n",
      "arr"
     ],
     "language": "python",
     "metadata": {},
     "outputs": [
      {
       "output_type": "pyout",
       "prompt_number": 4,
       "text": [
        "array([[ 5,  4,  2,  5],\n",
        "       [ 4,  5,  1, 12],\n",
        "       [ 0,  1,  5,  4]])"
       ]
      }
     ],
     "prompt_number": 4
    },
    {
     "cell_type": "markdown",
     "metadata": {},
     "source": [
      "## 4. Select all elements from a 2d array that are larger than zero"
     ]
    },
    {
     "cell_type": "code",
     "collapsed": false,
     "input": [
      "# given the following ndarray, obtain all elements that are larger than zero\n",
      "arr = np.random.randn(5)\n",
      "arr"
     ],
     "language": "python",
     "metadata": {},
     "outputs": [
      {
       "output_type": "pyout",
       "prompt_number": 5,
       "text": [
        "array([ 0.71949072,  0.58394499,  0.66661434,  0.75513099, -0.64750107])"
       ]
      }
     ],
     "prompt_number": 5
    },
    {
     "cell_type": "markdown",
     "metadata": {},
     "source": [
      "## 5. Set a portion of an array to the same scalar value"
     ]
    },
    {
     "cell_type": "code",
     "collapsed": false,
     "input": [
      "# given the following ndarray, set the last two elements to 10\n",
      "arr = np.zeros(6)\n",
      "arr"
     ],
     "language": "python",
     "metadata": {},
     "outputs": [
      {
       "output_type": "pyout",
       "prompt_number": 6,
       "text": [
        "array([ 0.,  0.,  0.,  0.,  0.,  0.])"
       ]
      }
     ],
     "prompt_number": 6
    },
    {
     "cell_type": "markdown",
     "metadata": {},
     "source": [
      "# Numpy Questions: Operations"
     ]
    },
    {
     "cell_type": "markdown",
     "metadata": {},
     "source": [
      "## 1. Compute the sum of a 1D array"
     ]
    },
    {
     "cell_type": "code",
     "collapsed": false,
     "input": [
      "# given the following ndarray, compute its sum\n",
      "arr = np.random.randn(5)\n",
      "arr"
     ],
     "language": "python",
     "metadata": {},
     "outputs": [
      {
       "output_type": "pyout",
       "prompt_number": 7,
       "text": [
        "array([-0.25262032,  2.54477542, -1.39308539,  0.8186857 ,  0.30090793])"
       ]
      }
     ],
     "prompt_number": 7
    },
    {
     "cell_type": "markdown",
     "metadata": {},
     "source": [
      "## 2. Compute the mean of a 1D array"
     ]
    },
    {
     "cell_type": "code",
     "collapsed": false,
     "input": [
      "# given the following ndarray, compute its mean\n",
      "arr = np.random.randn(5)\n",
      "arr"
     ],
     "language": "python",
     "metadata": {},
     "outputs": [
      {
       "output_type": "pyout",
       "prompt_number": 8,
       "text": [
        "array([ 0.56138573,  0.95797777, -1.24147562, -0.08016767,  1.55450634])"
       ]
      }
     ],
     "prompt_number": 8
    },
    {
     "cell_type": "markdown",
     "metadata": {},
     "source": [
      "## 3. How do you detect the presence of NANs in an array?"
     ]
    },
    {
     "cell_type": "code",
     "collapsed": false,
     "input": [
      "# given the following ndarray, detect all elements that are nans\n",
      "arr = np.array([np.nan] * 10)\n",
      "arr[2:4] = 5\n",
      "arr"
     ],
     "language": "python",
     "metadata": {},
     "outputs": [
      {
       "output_type": "pyout",
       "prompt_number": 9,
       "text": [
        "array([ nan,  nan,   5.,   5.,  nan,  nan,  nan,  nan,  nan,  nan])"
       ]
      }
     ],
     "prompt_number": 9
    },
    {
     "cell_type": "markdown",
     "metadata": {},
     "source": [
      "# Pandas questions: Series and DataFrames\n",
      "## 1. Adding and deleting a column in a dataframe"
     ]
    },
    {
     "cell_type": "code",
     "collapsed": false,
     "input": [
      "# given the following DataFrame, add a new column to it\n",
      "df = pd.DataFrame({'col1': [1,2,3,4]})\n",
      "df"
     ],
     "language": "python",
     "metadata": {},
     "outputs": [
      {
       "html": [
        "<div style=\"max-height:1000px;max-width:1500px;overflow:auto;\">\n",
        "<table border=\"1\" class=\"dataframe\">\n",
        "  <thead>\n",
        "    <tr style=\"text-align: right;\">\n",
        "      <th></th>\n",
        "      <th>col1</th>\n",
        "    </tr>\n",
        "  </thead>\n",
        "  <tbody>\n",
        "    <tr>\n",
        "      <th>0</th>\n",
        "      <td> 1</td>\n",
        "    </tr>\n",
        "    <tr>\n",
        "      <th>1</th>\n",
        "      <td> 2</td>\n",
        "    </tr>\n",
        "    <tr>\n",
        "      <th>2</th>\n",
        "      <td> 3</td>\n",
        "    </tr>\n",
        "    <tr>\n",
        "      <th>3</th>\n",
        "      <td> 4</td>\n",
        "    </tr>\n",
        "  </tbody>\n",
        "</table>\n",
        "</div>"
       ],
       "output_type": "pyout",
       "prompt_number": 10,
       "text": [
        "   col1\n",
        "0     1\n",
        "1     2\n",
        "2     3\n",
        "3     4"
       ]
      }
     ],
     "prompt_number": 10
    },
    {
     "cell_type": "markdown",
     "metadata": {},
     "source": [
      "## 2. Adding and deleting a row in a dataframe"
     ]
    },
    {
     "cell_type": "code",
     "collapsed": false,
     "input": [
      "# given the following DataFrame, delete row 'd' from it\n",
      "df = pd.DataFrame({'col1': [1,2,3,4]}, index = ['a','b','c','d'])\n",
      "df"
     ],
     "language": "python",
     "metadata": {},
     "outputs": [
      {
       "html": [
        "<div style=\"max-height:1000px;max-width:1500px;overflow:auto;\">\n",
        "<table border=\"1\" class=\"dataframe\">\n",
        "  <thead>\n",
        "    <tr style=\"text-align: right;\">\n",
        "      <th></th>\n",
        "      <th>col1</th>\n",
        "    </tr>\n",
        "  </thead>\n",
        "  <tbody>\n",
        "    <tr>\n",
        "      <th>a</th>\n",
        "      <td> 1</td>\n",
        "    </tr>\n",
        "    <tr>\n",
        "      <th>b</th>\n",
        "      <td> 2</td>\n",
        "    </tr>\n",
        "    <tr>\n",
        "      <th>c</th>\n",
        "      <td> 3</td>\n",
        "    </tr>\n",
        "    <tr>\n",
        "      <th>d</th>\n",
        "      <td> 4</td>\n",
        "    </tr>\n",
        "  </tbody>\n",
        "</table>\n",
        "</div>"
       ],
       "output_type": "pyout",
       "prompt_number": 11,
       "text": [
        "   col1\n",
        "a     1\n",
        "b     2\n",
        "c     3\n",
        "d     4"
       ]
      }
     ],
     "prompt_number": 11
    },
    {
     "cell_type": "markdown",
     "metadata": {},
     "source": [
      "## 3. Creating a DataFrame from a few Series"
     ]
    },
    {
     "cell_type": "code",
     "collapsed": false,
     "input": [
      "# given the following three Series, create a DataFrame such that it holds them in its columns\n",
      "ser_1 = pd.Series(np.random.randn(6))\n",
      "ser_2 = pd.Series(np.random.randn(6))\n",
      "ser_3 = pd.Series(np.random.randn(6))\n"
     ],
     "language": "python",
     "metadata": {},
     "outputs": [],
     "prompt_number": 12
    },
    {
     "cell_type": "markdown",
     "metadata": {},
     "source": [
      "# Pandas questions: indexing"
     ]
    },
    {
     "cell_type": "markdown",
     "metadata": {},
     "source": [
      "## 1. Indexing into a specific column"
     ]
    },
    {
     "cell_type": "code",
     "collapsed": false,
     "input": [
      "# given the dataframe 'movielens' that we loaded in the previous step, try to index\n",
      "# into the 'zip' column\n",
      "movielens[?]"
     ],
     "language": "python",
     "metadata": {},
     "outputs": [],
     "prompt_number": 32
    },
    {
     "cell_type": "markdown",
     "metadata": {},
     "source": [
      "## 2. Label-based indexing"
     ]
    },
    {
     "cell_type": "code",
     "collapsed": false,
     "input": [
      "# using the same 'movielens' dataframe, index into the row whose index is 681564\n",
      "movielens.ix[?]"
     ],
     "language": "python",
     "metadata": {},
     "outputs": [],
     "prompt_number": 33
    },
    {
     "cell_type": "markdown",
     "metadata": {},
     "source": [
      "# Reco systems questions: estimation functions\n",
      "## 1. Simple content filtering using mean ratings"
     ]
    },
    {
     "cell_type": "code",
     "collapsed": false,
     "input": [
      "# write an 'estimate' function that computes the mean rating of a particular user\n",
      "def estimate(user_id, movie_id):\n",
      "    # first, index into all ratings by this user\n",
      "    # second, compute the mean of those ratings\n",
      "    # return\n",
      "\n",
      "\n",
      "# try it out for a user_id, movie_id pair\n",
      "estimate(4653, 2648)"
     ],
     "language": "python",
     "metadata": {},
     "outputs": []
    },
    {
     "cell_type": "markdown",
     "metadata": {},
     "source": [
      "## 2. Simple collaborative filtering using mean ratings"
     ]
    },
    {
     "cell_type": "code",
     "collapsed": false,
     "input": [
      "# write an 'estimate' function that computes the mean rating of a particular user\n",
      "def estimate(user_id, movie_id):\n",
      "    # first, index into all ratings of this movie\n",
      "    # second, compute the mean of those ratings\n",
      "    # return\n",
      "\n",
      "    \n",
      "# try it out for a user_id, movie_id pair\n",
      "estimate(4653, 2648)"
     ],
     "language": "python",
     "metadata": {},
     "outputs": []
    },
    {
     "cell_type": "markdown",
     "metadata": {},
     "source": [
      "# Mini-Challenge\n",
      "\n",
      "These are the two functions that you will need to test your `estimate` method."
     ]
    },
    {
     "cell_type": "code",
     "collapsed": false,
     "input": [
      "def compute_rmse(y_pred, y_true):\n",
      "    \"\"\" Compute Root Mean Squared Error. \"\"\"\n",
      "    return np.sqrt(np.mean(np.power(y_pred - y_true, 2)))"
     ],
     "language": "python",
     "metadata": {},
     "outputs": [],
     "prompt_number": 13
    },
    {
     "cell_type": "code",
     "collapsed": false,
     "input": [
      "def evaluate(estimate_f):\n",
      "    \"\"\" RMSE-based predictive performance evaluation with pandas. \"\"\"\n",
      "    ids_to_estimate = zip(movielens_test.user_id, movielens_test.movie_id)\n",
      "    estimated = np.array([estimate_f(u,i) for (u,i) in ids_to_estimate])\n",
      "    real = movielens_test.rating.values\n",
      "    return compute_rmse(estimated, real)"
     ],
     "language": "python",
     "metadata": {},
     "outputs": [],
     "prompt_number": 14
    },
    {
     "cell_type": "markdown",
     "metadata": {},
     "source": [
      "With those, you can test for performance with the following line, which assumes that your function is called `my_estimate_func`:"
     ]
    },
    {
     "cell_type": "code",
     "collapsed": false,
     "input": [
      "print 'RMSE for my estimate function: %s' % evaluate(my_estimate_func)"
     ],
     "language": "python",
     "metadata": {},
     "outputs": []
    },
    {
     "cell_type": "markdown",
     "metadata": {},
     "source": [
      "# Pytables questions: file and node creation\n",
      "## 1. Create a PyTables file in your working environment"
     ]
    },
    {
     "cell_type": "code",
     "collapsed": false,
     "input": [
      "# write your answer in this code block"
     ],
     "language": "python",
     "metadata": {},
     "outputs": []
    },
    {
     "cell_type": "markdown",
     "metadata": {},
     "source": [
      "## 2. Within the file you created, create a new group"
     ]
    },
    {
     "cell_type": "code",
     "collapsed": false,
     "input": [
      "# write your answer in this code block"
     ],
     "language": "python",
     "metadata": {},
     "outputs": []
    },
    {
     "cell_type": "markdown",
     "metadata": {},
     "source": [
      "## 3. Within the group you created, create a new array of integers and save it"
     ]
    },
    {
     "cell_type": "code",
     "collapsed": false,
     "input": [
      "# write your answer in this code block"
     ],
     "language": "python",
     "metadata": {},
     "outputs": []
    },
    {
     "cell_type": "markdown",
     "metadata": {},
     "source": [
      "## 4. For the group created, set a datetime attribute, with the value of \u2018utcnow\u2019"
     ]
    },
    {
     "cell_type": "code",
     "collapsed": false,
     "input": [
      "# write your answer in this code block"
     ],
     "language": "python",
     "metadata": {},
     "outputs": []
    }
   ],
   "metadata": {}
  }
 ]
}