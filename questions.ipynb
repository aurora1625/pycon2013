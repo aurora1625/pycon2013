{
 "metadata": {
  "name": "questions"
 },
 "nbformat": 3,
 "nbformat_minor": 0,
 "worksheets": [
  {
   "cells": [
    {
     "cell_type": "markdown",
     "source": [
      "# Questions"
     ]
    },
    {
     "cell_type": "markdown",
     "source": [
      "# Numpy Questions: Indexing\n",
      "## 1. How do you access individual elements in a multidimensional array?"
     ]
    },
    {
     "cell_type": "code",
     "collapsed": false,
     "input": [
      "# write your answer in this code block"
     ],
     "language": "python",
     "outputs": []
    },
    {
     "cell_type": "markdown",
     "source": [
      "## 2. How do you access the last column of every matrix in a 3d array?"
     ]
    },
    {
     "cell_type": "code",
     "collapsed": false,
     "input": [
      "# write your answer in this code block"
     ],
     "language": "python",
     "outputs": []
    },
    {
     "cell_type": "markdown",
     "source": [
      "## 3. If i have a multidimensional array 'arr' with shape (x,y,z), what will the shape of arr[0] be?"
     ]
    },
    {
     "cell_type": "code",
     "collapsed": false,
     "input": [
      "# write your answer in this code block"
     ],
     "language": "python",
     "outputs": []
    },
    {
     "cell_type": "markdown",
     "source": [
      "## 4. Select rows from a matrix using an array of True and False values."
     ]
    },
    {
     "cell_type": "code",
     "collapsed": false,
     "input": [
      "# write your answer in this code block"
     ],
     "language": "python",
     "outputs": []
    },
    {
     "cell_type": "markdown",
     "source": [
      "# Numpy Questions: Operations"
     ]
    },
    {
     "cell_type": "markdown",
     "source": [
      "## 1. Show how the broadcasting rule for scalars and arrays applies to the assignment operator"
     ]
    },
    {
     "cell_type": "code",
     "collapsed": false,
     "input": [
      "# write your answer in this code block"
     ],
     "language": "python",
     "outputs": []
    },
    {
     "cell_type": "markdown",
     "source": [
      "## 2. How do you detect the presence of NANs in an array?"
     ]
    },
    {
     "cell_type": "code",
     "collapsed": false,
     "input": [
      "# write your answer in this code block"
     ],
     "language": "python",
     "outputs": []
    },
    {
     "cell_type": "markdown",
     "source": [
      "# Numpy Questions: Bonus\n",
      "## 1. Select all rows from a matrix whose sum is larger than a given value x\n",
      "## 2. Compute a sparsity and density ratio for the MovieLens ratings matrix\n",
      "## 3. Build an incidence matrix from the MovieLens ratings matrix\n",
      "## 4. Find the most popular movie in MovieLens\n",
      "## 5. Figure out who is the user that has viewed the largest amount of movies"
     ]
    },
    {
     "cell_type": "markdown",
     "source": [
      "# Pandas questions: Series and DataFrames\n",
      "## 1. Show how to add and delete a col in a dataframe"
     ]
    },
    {
     "cell_type": "code",
     "collapsed": false,
     "input": [
      "# write your answer in this code block"
     ],
     "language": "python",
     "outputs": []
    },
    {
     "cell_type": "markdown",
     "source": [
      "## 2. Show how to add and delete a row in a dataframe"
     ]
    },
    {
     "cell_type": "code",
     "collapsed": false,
     "input": [
      "# write your answer in this code block"
     ],
     "language": "python",
     "outputs": []
    },
    {
     "cell_type": "markdown",
     "source": [
      "## 3. Discover whether an indexed column of a dataframe is a view or a copy"
     ]
    },
    {
     "cell_type": "code",
     "collapsed": false,
     "input": [
      "# write your answer in this code block"
     ],
     "language": "python",
     "outputs": []
    },
    {
     "cell_type": "markdown",
     "source": [
      "# Pandas questions: Bonus\n",
      "## 1. Show how to exchange the columns and index properties of a dataframe\n",
      "## 2. Are index objects mutable or immutable?"
     ]
    },
    {
     "cell_type": "markdown",
     "source": [
      "# Recommendation systems questions: basic concepts"
     ]
    },
    {
     "cell_type": "markdown",
     "source": [
      "# Recommendation systems questions: estimation functions\n",
      "## 1. Write an estimate function that performs simple content filtering using mean ratings."
     ]
    },
    {
     "cell_type": "code",
     "collapsed": false,
     "input": [
      "# write your answer in this code block"
     ],
     "language": "python",
     "outputs": []
    },
    {
     "cell_type": "markdown",
     "source": [
      "## 2. Write an estimate function that performs simple collaborative filtering using mean ratings."
     ]
    },
    {
     "cell_type": "code",
     "collapsed": false,
     "input": [
      "# write your answer in this code block"
     ],
     "language": "python",
     "outputs": []
    },
    {
     "cell_type": "markdown",
     "source": [
      "# Pytables questions: file and node creation\n",
      "## 1. Create a PyTables file in your working environment."
     ]
    },
    {
     "cell_type": "code",
     "collapsed": false,
     "input": [
      "# write your answer in this code block"
     ],
     "language": "python",
     "outputs": []
    },
    {
     "cell_type": "markdown",
     "source": [
      "## 2. Within the file you created in step 1, create two groups, and within each group, create an array of random integers."
     ]
    },
    {
     "cell_type": "code",
     "collapsed": false,
     "input": [
      "# write your answer in this code block"
     ],
     "language": "python",
     "outputs": []
    },
    {
     "cell_type": "markdown",
     "source": [
      "## 3. For each of the groups created, set a datetime attribute, with the value of \u2018utcnow\u2019. Confirm the setting of the attribute by viewing the node attributes."
     ]
    },
    {
     "cell_type": "code",
     "collapsed": false,
     "input": [
      "# write your answer in this code block"
     ],
     "language": "python",
     "outputs": []
    },
    {
     "cell_type": "markdown",
     "source": [
      "# Pytables questions: Bonus\n",
      "## 1. Create a third group containing a 60,000 x 60,000 dimensional array of zeroes.\n",
      "## 2. Repeat the previous question using an EArray, so that the creation of the array is successful."
     ]
    },
    {
     "cell_type": "markdown",
     "source": [
      "# Pytables questions: pandas integration\n",
      "## 1. Using pandas, create a Pytable (HDF5) file.\n",
      "## 2. Create a Pandas Series of zeros with an arbitrary index of length 6, and store it in the file you previously created.\n",
      "## 3. Create a Pandas DataFrame with a 6x6 matrix of zeros, and store it in the file created in step 6. Use arbitrary index/column values.\n",
      "\n"
     ]
    }
   ]
  }
 ]
}