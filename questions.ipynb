{
 "metadata": {
  "name": "questions"
 },
 "nbformat": 3,
 "nbformat_minor": 0,
 "worksheets": [
  {
   "cells": [
    {
     "cell_type": "markdown",
     "metadata": {},
     "source": [
      "# Exercises"
     ]
    },
    {
     "cell_type": "code",
     "collapsed": false,
     "input": [
      "import numpy as np\n",
      "import pandas as pd\n",
      "import tables as tb"
     ],
     "language": "python",
     "metadata": {},
     "outputs": [],
     "prompt_number": 2
    },
    {
     "cell_type": "markdown",
     "metadata": {},
     "source": [
      "# Numpy Questions: Indexing\n",
      "## 1. Access an individual element in a multidimensional array"
     ]
    },
    {
     "cell_type": "code",
     "collapsed": false,
     "input": [
      "# given the following ndarray, access the its third element\n",
      "arr = np.arange(10)\n",
      "arr"
     ],
     "language": "python",
     "metadata": {},
     "outputs": [
      {
       "output_type": "pyout",
       "prompt_number": 3,
       "text": [
        "array([0, 1, 2, 3, 4, 5, 6, 7, 8, 9])"
       ]
      }
     ],
     "prompt_number": 3
    },
    {
     "cell_type": "markdown",
     "metadata": {},
     "source": [
      "## 2. Access the last column of of a 2d array"
     ]
    },
    {
     "cell_type": "code",
     "collapsed": false,
     "input": [
      "# given the following ndarray, access its last column\n",
      "arr = np.array([[5,4,2,5],[4,5,1,12],[0,1,5,4]])\n",
      "arr"
     ],
     "language": "python",
     "metadata": {},
     "outputs": [
      {
       "output_type": "pyout",
       "prompt_number": 4,
       "text": [
        "array([[ 5,  4,  2,  5],\n",
        "       [ 4,  5,  1, 12],\n",
        "       [ 0,  1,  5,  4]])"
       ]
      }
     ],
     "prompt_number": 4
    },
    {
     "cell_type": "markdown",
     "metadata": {},
     "source": [
      "## 4. Select all elements from a 2d array that are larger than zero."
     ]
    },
    {
     "cell_type": "code",
     "collapsed": false,
     "input": [
      "# given the following ndarray, obtain all elements that are larger than zero\n",
      "arr = np.random.randn(10)\n",
      "arr"
     ],
     "language": "python",
     "metadata": {},
     "outputs": [
      {
       "output_type": "pyout",
       "prompt_number": 8,
       "text": [
        "array([-0.12589118,  0.97542692,  0.35374798, -0.11791766, -2.10514356,\n",
        "        0.49316997,  1.23980834, -1.96284144,  0.88193619, -0.52607379])"
       ]
      }
     ],
     "prompt_number": 8
    },
    {
     "cell_type": "markdown",
     "metadata": {},
     "source": [
      "# Numpy Questions: Operations"
     ]
    },
    {
     "cell_type": "markdown",
     "metadata": {},
     "source": [
      "## 1. Set a portion of an array to the same scalar value"
     ]
    },
    {
     "cell_type": "code",
     "collapsed": false,
     "input": [
      "# given the following ndarray, set the last two elements to 10\n",
      "arr = np.zeros(6)\n",
      "arr"
     ],
     "language": "python",
     "metadata": {},
     "outputs": [
      {
       "output_type": "pyout",
       "prompt_number": 9,
       "text": [
        "array([ 0.,  0.,  0.,  0.,  0.,  0.])"
       ]
      }
     ],
     "prompt_number": 9
    },
    {
     "cell_type": "markdown",
     "metadata": {},
     "source": [
      "## 2. How do you detect the presence of NANs in an array?"
     ]
    },
    {
     "cell_type": "code",
     "collapsed": false,
     "input": [
      "# given the following ndarray, detect all elements that are nans\n",
      "arr = np.array([np.nan] * 10)\n",
      "arr[2:4] = 5\n",
      "arr"
     ],
     "language": "python",
     "metadata": {},
     "outputs": [
      {
       "output_type": "pyout",
       "prompt_number": 11,
       "text": [
        "array([ nan,  nan,   5.,   5.,  nan,  nan,  nan,  nan,  nan,  nan])"
       ]
      }
     ],
     "prompt_number": 11
    },
    {
     "cell_type": "markdown",
     "metadata": {},
     "source": [
      "# Pandas questions: Series and DataFrames\n",
      "## 1. Adding and deleting a column in a dataframe"
     ]
    },
    {
     "cell_type": "code",
     "collapsed": false,
     "input": [
      "# given the following DataFrame, add a new column to it\n",
      "df = pd.DataFrame({'col1': [1,2,3,4]})\n",
      "df"
     ],
     "language": "python",
     "metadata": {},
     "outputs": [
      {
       "html": [
        "<div style=\"max-height:1000px;max-width:1500px;overflow:auto;\">\n",
        "<table border=\"1\" class=\"dataframe\">\n",
        "  <thead>\n",
        "    <tr style=\"text-align: right;\">\n",
        "      <th></th>\n",
        "      <th>col1</th>\n",
        "    </tr>\n",
        "  </thead>\n",
        "  <tbody>\n",
        "    <tr>\n",
        "      <th>0</th>\n",
        "      <td> 1</td>\n",
        "    </tr>\n",
        "    <tr>\n",
        "      <th>1</th>\n",
        "      <td> 2</td>\n",
        "    </tr>\n",
        "    <tr>\n",
        "      <th>2</th>\n",
        "      <td> 3</td>\n",
        "    </tr>\n",
        "    <tr>\n",
        "      <th>3</th>\n",
        "      <td> 4</td>\n",
        "    </tr>\n",
        "  </tbody>\n",
        "</table>\n",
        "</div>"
       ],
       "output_type": "pyout",
       "prompt_number": 12,
       "text": [
        "   col1\n",
        "0     1\n",
        "1     2\n",
        "2     3\n",
        "3     4"
       ]
      }
     ],
     "prompt_number": 12
    },
    {
     "cell_type": "markdown",
     "metadata": {},
     "source": [
      "## 2. Adding and deleting a row in a dataframe"
     ]
    },
    {
     "cell_type": "code",
     "collapsed": false,
     "input": [
      "# given the following DataFrame, delete row 'd' from it\n",
      "df = pd.DataFrame({'col1': [1,2,3,4]}, index = ['a','b','c','d'])\n",
      "df"
     ],
     "language": "python",
     "metadata": {},
     "outputs": [
      {
       "html": [
        "<div style=\"max-height:1000px;max-width:1500px;overflow:auto;\">\n",
        "<table border=\"1\" class=\"dataframe\">\n",
        "  <thead>\n",
        "    <tr style=\"text-align: right;\">\n",
        "      <th></th>\n",
        "      <th>col1</th>\n",
        "    </tr>\n",
        "  </thead>\n",
        "  <tbody>\n",
        "    <tr>\n",
        "      <th>a</th>\n",
        "      <td> 1</td>\n",
        "    </tr>\n",
        "    <tr>\n",
        "      <th>b</th>\n",
        "      <td> 2</td>\n",
        "    </tr>\n",
        "    <tr>\n",
        "      <th>c</th>\n",
        "      <td> 3</td>\n",
        "    </tr>\n",
        "    <tr>\n",
        "      <th>d</th>\n",
        "      <td> 4</td>\n",
        "    </tr>\n",
        "  </tbody>\n",
        "</table>\n",
        "</div>"
       ],
       "output_type": "pyout",
       "prompt_number": 13,
       "text": [
        "   col1\n",
        "a     1\n",
        "b     2\n",
        "c     3\n",
        "d     4"
       ]
      }
     ],
     "prompt_number": 13
    },
    {
     "cell_type": "markdown",
     "metadata": {},
     "source": [
      "## 2. Creating a DataFrame from two Series"
     ]
    },
    {
     "cell_type": "code",
     "collapsed": false,
     "input": [
      "# given the following three Series, create a DataFrame such that it holds them in its columns\n",
      "ser_1 = pd.Series(np.random.randn(6))\n",
      "ser_2 = pd.Series(np.random.randn(6))\n",
      "ser_3 = pd.Series(np.random.randn(6))\n"
     ],
     "language": "python",
     "metadata": {},
     "outputs": [],
     "prompt_number": 15
    },
    {
     "cell_type": "markdown",
     "metadata": {},
     "source": [
      "# Recommendation systems questions: basic concepts"
     ]
    },
    {
     "cell_type": "markdown",
     "metadata": {},
     "source": [
      "# Recommendation systems questions: estimation functions\n",
      "## 1. Write an estimate function that performs simple content filtering using mean ratings."
     ]
    },
    {
     "cell_type": "code",
     "collapsed": false,
     "input": [
      "# write your answer in this code block"
     ],
     "language": "python",
     "metadata": {},
     "outputs": []
    },
    {
     "cell_type": "markdown",
     "metadata": {},
     "source": [
      "## 2. Write an estimate function that performs simple collaborative filtering using mean ratings."
     ]
    },
    {
     "cell_type": "code",
     "collapsed": false,
     "input": [
      "# write your answer in this code block"
     ],
     "language": "python",
     "metadata": {},
     "outputs": []
    },
    {
     "cell_type": "markdown",
     "metadata": {},
     "source": [
      "# Pytables questions: file and node creation\n",
      "## 1. Create a PyTables file in your working environment."
     ]
    },
    {
     "cell_type": "code",
     "collapsed": false,
     "input": [
      "# write your answer in this code block"
     ],
     "language": "python",
     "metadata": {},
     "outputs": []
    },
    {
     "cell_type": "markdown",
     "metadata": {},
     "source": [
      "## 2. Within the file you created in step 1, create two groups, and within each group, create an array of random integers."
     ]
    },
    {
     "cell_type": "code",
     "collapsed": false,
     "input": [
      "# write your answer in this code block"
     ],
     "language": "python",
     "metadata": {},
     "outputs": []
    },
    {
     "cell_type": "markdown",
     "metadata": {},
     "source": [
      "## 3. For each of the groups created, set a datetime attribute, with the value of \u2018utcnow\u2019. Confirm the setting of the attribute by viewing the node attributes."
     ]
    },
    {
     "cell_type": "code",
     "collapsed": false,
     "input": [
      "# write your answer in this code block"
     ],
     "language": "python",
     "metadata": {},
     "outputs": []
    },
    {
     "cell_type": "markdown",
     "metadata": {},
     "source": [
      "# Pytables questions: pandas integration\n",
      "## 1. Using pandas, create a Pytable (HDF5) file.\n",
      "## 2. Create a Pandas Series of zeros with an arbitrary index of length 6, and store it in the file you previously created.\n",
      "## 3. Create a Pandas DataFrame with a 6x6 matrix of zeros, and store it in the file created in step 6. Use arbitrary index/column values.\n",
      "\n"
     ]
    }
   ],
   "metadata": {}
  }
 ]
}